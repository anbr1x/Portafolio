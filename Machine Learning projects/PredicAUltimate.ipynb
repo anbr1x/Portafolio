{
 "cells": [
  {
   "cell_type": "code",
   "execution_count": 2,
   "id": "a46db522-3e6d-453f-ab52-f0fa253b2392",
   "metadata": {},
   "outputs": [],
   "source": [
    "import pandas as pd \n",
    "from sklearn.utils import resample\n",
    "from sklearn.preprocessing import OneHotEncoder\n",
    "from scipy.sparse import hstack, csr_matrix\n",
    "from sklearn.model_selection import train_test_split\n",
    "from sklearn.tree import DecisionTreeClassifier\n",
    "from sklearn.dummy import DummyClassifier\n",
    "from sklearn.model_selection import cross_validate #base \n",
    "from sklearn.model_selection import cross_val_score\n",
    "from sklearn.metrics import accuracy_score, precision_score, recall_score, f1_score\n",
    "import glob,os,random\n",
    "import mlflow\n",
    "from mlflow.models import infer_signature\n",
    "import pickle"
   ]
  },
  {
   "cell_type": "code",
   "execution_count": 5,
   "id": "24d4e5ad-fb1b-4303-a9b2-a48338ba6251",
   "metadata": {},
   "outputs": [],
   "source": [
    "def get_recent_c_df(Carpeta_path: str, sheet_name: str):\n",
    "    \"\"\" Devuelve el df de la hoja especifica, del archivo mas reciente creado de la carpeta especificada\"\"\"\n",
    "    Path_n= Carpeta_path + '/*'\n",
    "    tipo_de_archivo = '*.xlsx'\n",
    "    # Busca el archivo más reciente\n",
    "    archivos = glob.glob(Path_n + tipo_de_archivo)\n",
    "    archivo_mas_reciente = max(archivos, key=os.path.getctime)\n",
    "    nombre_del_archivo_N = os.path.basename(archivo_mas_reciente)\n",
    "    print(archivo_mas_reciente)\n",
    "    # Lee el archivo sin especificar el tipo de datos\n",
    "    df = pd.read_excel(archivo_mas_reciente , sheet_name=sheet_name)\n",
    "    # Si la columna \"COMENTARIO\" existe, cambia su tipo de datos a str\n",
    "    if 'COMENTARIO' in df.columns:\n",
    "        df['COMENTARIO'] = df['COMENTARIO'].astype(str)\n",
    "    return df,nombre_del_archivo_N"
   ]
  },
  {
   "cell_type": "markdown",
   "id": "f0bc97f4-72c7-4684-87ec-0a2d06eca4ed",
   "metadata": {},
   "source": [
    "# Proceso:\n",
    "--------------------------------\n",
    "   1. Cargo data \n",
    "   2. Analisis exploratorio\n",
    "   3. Balancer Datos\n",
    "   4. Aplicar encoder para las columnas categoricas\n",
    "   7. Dividar en train y test y Entrenar modelo\n",
    "   8. Dummy Clasifier \n",
    "   10. Iniciar MLFlow para capturar metricas\n",
    "   14. Prueba con data Real\n",
    "   15. Serializacion del Modelo"
   ]
  },
  {
   "cell_type": "markdown",
   "id": "e6ef5b28-9d7f-466f-b0ba-77917380a381",
   "metadata": {
    "jp-MarkdownHeadingCollapsed": true
   },
   "source": [
    "### 1 Cargo la Data ##################################"
   ]
  },
  {
   "cell_type": "code",
   "execution_count": 6,
   "id": "00a25b24-8f5b-499a-b51b-09a293ca3830",
   "metadata": {},
   "outputs": [
    {
     "name": "stdout",
     "output_type": "stream",
     "text": [
      "C:\\Users\\C26764\\America Movil Peru S.A.C\\EAS - 1\\EAUPDATE01.08.xlsx\n"
     ]
    }
   ],
   "source": [
    "\n",
    "dataB,_ = get_recent_c_df(r'C:\\Users\\C26764\\America Movil Peru S.A.C\\EAS - 1','Sheet1')\n",
    "analistas_map = {'JENNY PIZAN':'JENNY',\n",
    "                 'DANNER YARLEQUE':'DANNER',\n",
    "                 'LAURA RAFAEL':'LAURA'}\n",
    "### Normalizo columna Tarjet \n",
    "dataB.loc[:,'RESPONSABLE_DE_EA'] = dataB.loc[:,'RESPONSABLE_DE_EA'].str.upper()\n",
    "dataB.loc[:,'RESPONSABLE_DE_EA'] = dataB.loc[:,'RESPONSABLE_DE_EA'].replace(analistas_map)\n",
    "dataB.RESPONSABLE_DE_EA.replace(pd.NA,'POR ASIGNAR',inplace=True)"
   ]
  },
  {
   "cell_type": "code",
   "execution_count": 7,
   "id": "6b5527c2-2cb9-495c-bbdc-88c308a515b5",
   "metadata": {},
   "outputs": [],
   "source": [
    "data4Train = dataB[dataB.RESPONSABLE_DE_EA != 'POR ASIGNAR']\n",
    "data4Test = dataB[dataB.RESPONSABLE_DE_EA == 'POR ASIGNAR']\n",
    "\n",
    "data4Test = data4Test[['TEXTO','PROVEEDOR','NOMBRE PROYECTO','TIPO_PROYECTOS','CLASIF_FINANZAS','CLASIF_RED_1','CLASIF_RED_2']]\n",
    "\n",
    "data4Train = data4Train[['TEXTO','PROVEEDOR','NOMBRE PROYECTO','TIPO_PROYECTOS','CLASIF_FINANZAS',\n",
    "                                                'CLASIF_RED_1','CLASIF_RED_2','RESPONSABLE_DE_EA']]\n",
    "for column in data4Train.columns:\n",
    "    data4Train[column] = data4Train[column].astype('category')"
   ]
  },
  {
   "cell_type": "markdown",
   "id": "6bf08f8d-28f5-4610-92c6-475220c815ab",
   "metadata": {
    "jp-MarkdownHeadingCollapsed": true
   },
   "source": [
    "### 2. Analisis Exploratorio"
   ]
  },
  {
   "cell_type": "code",
   "execution_count": 8,
   "id": "39288140-6bda-49c1-aa33-547a5394b36d",
   "metadata": {},
   "outputs": [
    {
     "data": {
      "text/html": [
       "<div>\n",
       "<style scoped>\n",
       "    .dataframe tbody tr th:only-of-type {\n",
       "        vertical-align: middle;\n",
       "    }\n",
       "\n",
       "    .dataframe tbody tr th {\n",
       "        vertical-align: top;\n",
       "    }\n",
       "\n",
       "    .dataframe thead th {\n",
       "        text-align: right;\n",
       "    }\n",
       "</style>\n",
       "<table border=\"1\" class=\"dataframe\">\n",
       "  <thead>\n",
       "    <tr style=\"text-align: right;\">\n",
       "      <th></th>\n",
       "      <th>TEXTO</th>\n",
       "      <th>PROVEEDOR</th>\n",
       "      <th>NOMBRE PROYECTO</th>\n",
       "      <th>TIPO_PROYECTOS</th>\n",
       "      <th>CLASIF_FINANZAS</th>\n",
       "      <th>CLASIF_RED_1</th>\n",
       "      <th>CLASIF_RED_2</th>\n",
       "      <th>RESPONSABLE_DE_EA</th>\n",
       "    </tr>\n",
       "  </thead>\n",
       "  <tbody>\n",
       "    <tr>\n",
       "      <th>count</th>\n",
       "      <td>1262</td>\n",
       "      <td>1262</td>\n",
       "      <td>1262</td>\n",
       "      <td>1262</td>\n",
       "      <td>1262</td>\n",
       "      <td>1262</td>\n",
       "      <td>1262</td>\n",
       "      <td>1262</td>\n",
       "    </tr>\n",
       "    <tr>\n",
       "      <th>unique</th>\n",
       "      <td>32</td>\n",
       "      <td>23</td>\n",
       "      <td>19</td>\n",
       "      <td>17</td>\n",
       "      <td>11</td>\n",
       "      <td>19</td>\n",
       "      <td>7</td>\n",
       "      <td>8</td>\n",
       "    </tr>\n",
       "    <tr>\n",
       "      <th>top</th>\n",
       "      <td>MEDICION DE RADIACIONES NO IONIZANTES</td>\n",
       "      <td>SGA TELECOMUNICACIONES S.A.C.</td>\n",
       "      <td>Ampliaciones de Capacidad</td>\n",
       "      <td>ANTENAS</td>\n",
       "      <td>Radio Bases (Sitios nuevos, ampliacion capacidad)</td>\n",
       "      <td>Ampliación de Capacidad Radio</td>\n",
       "      <td>Radio</td>\n",
       "      <td>ANGGIE</td>\n",
       "    </tr>\n",
       "    <tr>\n",
       "      <th>freq</th>\n",
       "      <td>394</td>\n",
       "      <td>394</td>\n",
       "      <td>614</td>\n",
       "      <td>471</td>\n",
       "      <td>1118</td>\n",
       "      <td>614</td>\n",
       "      <td>1095</td>\n",
       "      <td>609</td>\n",
       "    </tr>\n",
       "  </tbody>\n",
       "</table>\n",
       "</div>"
      ],
      "text/plain": [
       "                                        TEXTO                      PROVEEDOR  \\\n",
       "count                                    1262                           1262   \n",
       "unique                                     32                             23   \n",
       "top     MEDICION DE RADIACIONES NO IONIZANTES  SGA TELECOMUNICACIONES S.A.C.   \n",
       "freq                                      394                            394   \n",
       "\n",
       "                  NOMBRE PROYECTO TIPO_PROYECTOS  \\\n",
       "count                        1262           1262   \n",
       "unique                         19             17   \n",
       "top     Ampliaciones de Capacidad        ANTENAS   \n",
       "freq                          614            471   \n",
       "\n",
       "                                          CLASIF_FINANZAS  \\\n",
       "count                                                1262   \n",
       "unique                                                 11   \n",
       "top     Radio Bases (Sitios nuevos, ampliacion capacidad)   \n",
       "freq                                                 1118   \n",
       "\n",
       "                         CLASIF_RED_1 CLASIF_RED_2 RESPONSABLE_DE_EA  \n",
       "count                            1262         1262              1262  \n",
       "unique                             19            7                 8  \n",
       "top     Ampliación de Capacidad Radio        Radio            ANGGIE  \n",
       "freq                              614         1095               609  "
      ]
     },
     "execution_count": 8,
     "metadata": {},
     "output_type": "execute_result"
    }
   ],
   "source": [
    "data4Train.describe()"
   ]
  },
  {
   "cell_type": "code",
   "execution_count": 9,
   "id": "d5617f99-8404-4933-97b2-a7bf1460f795",
   "metadata": {},
   "outputs": [
    {
     "data": {
      "text/plain": [
       "RESPONSABLE_DE_EA\n",
       "ANGGIE      609\n",
       "JHORDAN     245\n",
       "DEMETRIO    228\n",
       "JORGE        52\n",
       "JENNY        42\n",
       "LAURA        42\n",
       "DANNER       32\n",
       "FERNANDO     12\n",
       "Name: count, dtype: int64"
      ]
     },
     "execution_count": 9,
     "metadata": {},
     "output_type": "execute_result"
    }
   ],
   "source": [
    "dataB.RESPONSABLE_DE_EA.value_counts(dropna=False)"
   ]
  },
  {
   "cell_type": "markdown",
   "id": "75e2e85d-3600-40a0-aedd-f6e585ad2f74",
   "metadata": {
    "jp-MarkdownHeadingCollapsed": true
   },
   "source": [
    "### 3. Balanceo los datos"
   ]
  },
  {
   "cell_type": "code",
   "execution_count": 10,
   "id": "01fa63bd-cb1d-451a-a528-d24469b0dbe2",
   "metadata": {},
   "outputs": [
    {
     "data": {
      "text/plain": [
       "RESPONSABLE_DE_EA\n",
       "ANGGIE      157\n",
       "DANNER      157\n",
       "DEMETRIO    157\n",
       "FERNANDO    157\n",
       "JENNY       157\n",
       "JHORDAN     157\n",
       "JORGE       157\n",
       "LAURA       157\n",
       "Name: count, dtype: int64"
      ]
     },
     "metadata": {},
     "output_type": "display_data"
    },
    {
     "name": "stdout",
     "output_type": "stream",
     "text": [
      "Clases balanceadas\n"
     ]
    }
   ],
   "source": [
    "# Suponemos que 'df' es tu DataFrame y que 'RESPONSABLE EA' es la columna objetivo\n",
    "class_counts = data4Train['RESPONSABLE_DE_EA'].value_counts()\n",
    "\n",
    "# Calculamos la media de muestras por clase\n",
    "mean_samples = int(class_counts.mean())\n",
    "\n",
    "# Creamos un DataFrame vacío para almacenar los datos balanceados\n",
    "df_balanced = pd.DataFrame()\n",
    "\n",
    "# Iteramos sobre cada clase\n",
    "for class_name in class_counts.index:\n",
    "    # Seleccionamos todas las muestras de la clase actual\n",
    "    df_class = data4Train[data4Train['RESPONSABLE_DE_EA'] == class_name]\n",
    "    \n",
    "    # Si el número de muestras en la clase actual es mayor que la media\n",
    "    if class_counts[class_name] > mean_samples:\n",
    "        # Realizamos un downsampling: eliminamos aleatoriamente muestras de la clase actual hasta que su número de muestras sea igual a la media\n",
    "        df_class_balanced = resample(df_class, \n",
    "                                     replace=False,  # No permitimos muestrear la misma muestra más de una vez\n",
    "                                     n_samples=mean_samples,  # El número de muestras a extraer\n",
    "                                     random_state=123)  # La semilla para el generador de números aleatorios\n",
    "    else:\n",
    "        # Si el número de muestras en la clase actual es menor que la media\n",
    "        # Realizamos un upsampling: añadimos aleatoriamente muestras de la clase actual hasta que su número de muestras sea igual a la media\n",
    "        df_class_balanced = resample(df_class, \n",
    "                                     replace=True,  # Permitimos muestrear la misma muestra más de una vez\n",
    "                                     n_samples=mean_samples,  # El número de muestras a extraer\n",
    "                                     random_state=123)  # La semilla para el generador de números aleatorios\n",
    "    \n",
    "    # Añadimos la clase balanceada al DataFrame balanceado\n",
    "    df_balanced = pd.concat([df_balanced, df_class_balanced])\n",
    "# Imprimimos el número de muestras por clase en el DataFrame balanceado\n",
    "display(df_balanced['RESPONSABLE_DE_EA'].value_counts())\n",
    "print(\"Clases balanceadas\")"
   ]
  },
  {
   "cell_type": "code",
   "execution_count": 11,
   "id": "c304c9e4-5143-4196-9917-a583443e0fd7",
   "metadata": {},
   "outputs": [],
   "source": [
    "df_balanced.describe()\n",
    "df_balanced.drop(columns=['CLASIF_RED_2','CLASIF_FINANZAS'],inplace=True)\n",
    "### Decido dropear 2 columnas que solo introducen ruido al modelo, porque muy alta freq"
   ]
  },
  {
   "cell_type": "markdown",
   "id": "dd7ef604-a495-458c-8073-49737e82b0d0",
   "metadata": {
    "jp-MarkdownHeadingCollapsed": true
   },
   "source": [
    "### 4. Categorizo cada columna (one hot encoder)"
   ]
  },
  {
   "cell_type": "code",
   "execution_count": 12,
   "id": "ee8cc71c-a281-4947-91eb-0f543657414b",
   "metadata": {},
   "outputs": [
    {
     "data": {
      "text/html": [
       "<div>\n",
       "<style scoped>\n",
       "    .dataframe tbody tr th:only-of-type {\n",
       "        vertical-align: middle;\n",
       "    }\n",
       "\n",
       "    .dataframe tbody tr th {\n",
       "        vertical-align: top;\n",
       "    }\n",
       "\n",
       "    .dataframe thead th {\n",
       "        text-align: right;\n",
       "    }\n",
       "</style>\n",
       "<table border=\"1\" class=\"dataframe\">\n",
       "  <thead>\n",
       "    <tr style=\"text-align: right;\">\n",
       "      <th></th>\n",
       "      <th>TEXTO_ADECUACION OBRA CIVIL SEDE</th>\n",
       "      <th>TEXTO_ADECUACION OBRA CIVIL SITIO TECNICO</th>\n",
       "      <th>TEXTO_AUMENTO DE CARGA ELECTRICA</th>\n",
       "      <th>TEXTO_CAJONERA AEREA</th>\n",
       "      <th>TEXTO_DISENO DE PROYECTOS</th>\n",
       "      <th>TEXTO_ESCRITORIO DE MELAMINE GRIS</th>\n",
       "      <th>TEXTO_EVALUACIÓN ESTRUCTURAL DE TORRE</th>\n",
       "      <th>TEXTO_HABILITACIÓN CAPACIDAD 10GEN LAMBDA 100G</th>\n",
       "      <th>TEXTO_IMPLEM ENLACE MW COUBICADO</th>\n",
       "      <th>TEXTO_IMPLEMENTACION CELL SITE ROUTER</th>\n",
       "      <th>...</th>\n",
       "      <th>CLASIF_RED_1_IP Fotónico</th>\n",
       "      <th>CLASIF_RED_1_IPRAN</th>\n",
       "      <th>CLASIF_RED_1_Migraciones a FO Urbana</th>\n",
       "      <th>CLASIF_RED_1_Modernización MW Ultima Milla</th>\n",
       "      <th>CLASIF_RED_1_Red de Fibra Óptica Nacional</th>\n",
       "      <th>CLASIF_RED_1_Rollout Sitios Nuevos Macro</th>\n",
       "      <th>CLASIF_RED_1_Sedes</th>\n",
       "      <th>CLASIF_RED_1_Sitios 5G</th>\n",
       "      <th>CLASIF_RED_1_Sitios Nuevos Comerciales</th>\n",
       "      <th>CLASIF_RED_1_Street Cell</th>\n",
       "    </tr>\n",
       "  </thead>\n",
       "  <tbody>\n",
       "    <tr>\n",
       "      <th>1049</th>\n",
       "      <td>0.0</td>\n",
       "      <td>0.0</td>\n",
       "      <td>0.0</td>\n",
       "      <td>0.0</td>\n",
       "      <td>0.0</td>\n",
       "      <td>0.0</td>\n",
       "      <td>0.0</td>\n",
       "      <td>0.0</td>\n",
       "      <td>0.0</td>\n",
       "      <td>0.0</td>\n",
       "      <td>...</td>\n",
       "      <td>0.0</td>\n",
       "      <td>0.0</td>\n",
       "      <td>0.0</td>\n",
       "      <td>0.0</td>\n",
       "      <td>0.0</td>\n",
       "      <td>0.0</td>\n",
       "      <td>0.0</td>\n",
       "      <td>0.0</td>\n",
       "      <td>0.0</td>\n",
       "      <td>0.0</td>\n",
       "    </tr>\n",
       "    <tr>\n",
       "      <th>32</th>\n",
       "      <td>0.0</td>\n",
       "      <td>0.0</td>\n",
       "      <td>0.0</td>\n",
       "      <td>0.0</td>\n",
       "      <td>0.0</td>\n",
       "      <td>0.0</td>\n",
       "      <td>0.0</td>\n",
       "      <td>0.0</td>\n",
       "      <td>0.0</td>\n",
       "      <td>0.0</td>\n",
       "      <td>...</td>\n",
       "      <td>0.0</td>\n",
       "      <td>0.0</td>\n",
       "      <td>0.0</td>\n",
       "      <td>0.0</td>\n",
       "      <td>0.0</td>\n",
       "      <td>0.0</td>\n",
       "      <td>0.0</td>\n",
       "      <td>0.0</td>\n",
       "      <td>0.0</td>\n",
       "      <td>0.0</td>\n",
       "    </tr>\n",
       "    <tr>\n",
       "      <th>928</th>\n",
       "      <td>0.0</td>\n",
       "      <td>0.0</td>\n",
       "      <td>0.0</td>\n",
       "      <td>0.0</td>\n",
       "      <td>0.0</td>\n",
       "      <td>0.0</td>\n",
       "      <td>0.0</td>\n",
       "      <td>0.0</td>\n",
       "      <td>0.0</td>\n",
       "      <td>0.0</td>\n",
       "      <td>...</td>\n",
       "      <td>0.0</td>\n",
       "      <td>0.0</td>\n",
       "      <td>0.0</td>\n",
       "      <td>0.0</td>\n",
       "      <td>0.0</td>\n",
       "      <td>0.0</td>\n",
       "      <td>0.0</td>\n",
       "      <td>0.0</td>\n",
       "      <td>0.0</td>\n",
       "      <td>0.0</td>\n",
       "    </tr>\n",
       "    <tr>\n",
       "      <th>583</th>\n",
       "      <td>0.0</td>\n",
       "      <td>0.0</td>\n",
       "      <td>0.0</td>\n",
       "      <td>0.0</td>\n",
       "      <td>0.0</td>\n",
       "      <td>0.0</td>\n",
       "      <td>0.0</td>\n",
       "      <td>0.0</td>\n",
       "      <td>0.0</td>\n",
       "      <td>0.0</td>\n",
       "      <td>...</td>\n",
       "      <td>0.0</td>\n",
       "      <td>0.0</td>\n",
       "      <td>0.0</td>\n",
       "      <td>0.0</td>\n",
       "      <td>0.0</td>\n",
       "      <td>0.0</td>\n",
       "      <td>0.0</td>\n",
       "      <td>0.0</td>\n",
       "      <td>0.0</td>\n",
       "      <td>0.0</td>\n",
       "    </tr>\n",
       "    <tr>\n",
       "      <th>717</th>\n",
       "      <td>0.0</td>\n",
       "      <td>0.0</td>\n",
       "      <td>0.0</td>\n",
       "      <td>0.0</td>\n",
       "      <td>0.0</td>\n",
       "      <td>0.0</td>\n",
       "      <td>0.0</td>\n",
       "      <td>0.0</td>\n",
       "      <td>0.0</td>\n",
       "      <td>0.0</td>\n",
       "      <td>...</td>\n",
       "      <td>0.0</td>\n",
       "      <td>0.0</td>\n",
       "      <td>0.0</td>\n",
       "      <td>0.0</td>\n",
       "      <td>0.0</td>\n",
       "      <td>0.0</td>\n",
       "      <td>0.0</td>\n",
       "      <td>0.0</td>\n",
       "      <td>0.0</td>\n",
       "      <td>0.0</td>\n",
       "    </tr>\n",
       "    <tr>\n",
       "      <th>...</th>\n",
       "      <td>...</td>\n",
       "      <td>...</td>\n",
       "      <td>...</td>\n",
       "      <td>...</td>\n",
       "      <td>...</td>\n",
       "      <td>...</td>\n",
       "      <td>...</td>\n",
       "      <td>...</td>\n",
       "      <td>...</td>\n",
       "      <td>...</td>\n",
       "      <td>...</td>\n",
       "      <td>...</td>\n",
       "      <td>...</td>\n",
       "      <td>...</td>\n",
       "      <td>...</td>\n",
       "      <td>...</td>\n",
       "      <td>...</td>\n",
       "      <td>...</td>\n",
       "      <td>...</td>\n",
       "      <td>...</td>\n",
       "      <td>...</td>\n",
       "    </tr>\n",
       "    <tr>\n",
       "      <th>1233</th>\n",
       "      <td>1.0</td>\n",
       "      <td>0.0</td>\n",
       "      <td>0.0</td>\n",
       "      <td>0.0</td>\n",
       "      <td>0.0</td>\n",
       "      <td>0.0</td>\n",
       "      <td>0.0</td>\n",
       "      <td>0.0</td>\n",
       "      <td>0.0</td>\n",
       "      <td>0.0</td>\n",
       "      <td>...</td>\n",
       "      <td>0.0</td>\n",
       "      <td>0.0</td>\n",
       "      <td>0.0</td>\n",
       "      <td>0.0</td>\n",
       "      <td>0.0</td>\n",
       "      <td>0.0</td>\n",
       "      <td>1.0</td>\n",
       "      <td>0.0</td>\n",
       "      <td>0.0</td>\n",
       "      <td>0.0</td>\n",
       "    </tr>\n",
       "    <tr>\n",
       "      <th>690</th>\n",
       "      <td>0.0</td>\n",
       "      <td>0.0</td>\n",
       "      <td>0.0</td>\n",
       "      <td>0.0</td>\n",
       "      <td>0.0</td>\n",
       "      <td>0.0</td>\n",
       "      <td>0.0</td>\n",
       "      <td>0.0</td>\n",
       "      <td>0.0</td>\n",
       "      <td>0.0</td>\n",
       "      <td>...</td>\n",
       "      <td>0.0</td>\n",
       "      <td>0.0</td>\n",
       "      <td>0.0</td>\n",
       "      <td>0.0</td>\n",
       "      <td>0.0</td>\n",
       "      <td>0.0</td>\n",
       "      <td>0.0</td>\n",
       "      <td>0.0</td>\n",
       "      <td>0.0</td>\n",
       "      <td>0.0</td>\n",
       "    </tr>\n",
       "    <tr>\n",
       "      <th>1233</th>\n",
       "      <td>1.0</td>\n",
       "      <td>0.0</td>\n",
       "      <td>0.0</td>\n",
       "      <td>0.0</td>\n",
       "      <td>0.0</td>\n",
       "      <td>0.0</td>\n",
       "      <td>0.0</td>\n",
       "      <td>0.0</td>\n",
       "      <td>0.0</td>\n",
       "      <td>0.0</td>\n",
       "      <td>...</td>\n",
       "      <td>0.0</td>\n",
       "      <td>0.0</td>\n",
       "      <td>0.0</td>\n",
       "      <td>0.0</td>\n",
       "      <td>0.0</td>\n",
       "      <td>0.0</td>\n",
       "      <td>1.0</td>\n",
       "      <td>0.0</td>\n",
       "      <td>0.0</td>\n",
       "      <td>0.0</td>\n",
       "    </tr>\n",
       "    <tr>\n",
       "      <th>1237</th>\n",
       "      <td>0.0</td>\n",
       "      <td>0.0</td>\n",
       "      <td>0.0</td>\n",
       "      <td>1.0</td>\n",
       "      <td>0.0</td>\n",
       "      <td>0.0</td>\n",
       "      <td>0.0</td>\n",
       "      <td>0.0</td>\n",
       "      <td>0.0</td>\n",
       "      <td>0.0</td>\n",
       "      <td>...</td>\n",
       "      <td>0.0</td>\n",
       "      <td>0.0</td>\n",
       "      <td>0.0</td>\n",
       "      <td>0.0</td>\n",
       "      <td>0.0</td>\n",
       "      <td>0.0</td>\n",
       "      <td>1.0</td>\n",
       "      <td>0.0</td>\n",
       "      <td>0.0</td>\n",
       "      <td>0.0</td>\n",
       "    </tr>\n",
       "    <tr>\n",
       "      <th>1236</th>\n",
       "      <td>0.0</td>\n",
       "      <td>0.0</td>\n",
       "      <td>0.0</td>\n",
       "      <td>0.0</td>\n",
       "      <td>0.0</td>\n",
       "      <td>1.0</td>\n",
       "      <td>0.0</td>\n",
       "      <td>0.0</td>\n",
       "      <td>0.0</td>\n",
       "      <td>0.0</td>\n",
       "      <td>...</td>\n",
       "      <td>0.0</td>\n",
       "      <td>0.0</td>\n",
       "      <td>0.0</td>\n",
       "      <td>0.0</td>\n",
       "      <td>0.0</td>\n",
       "      <td>0.0</td>\n",
       "      <td>1.0</td>\n",
       "      <td>0.0</td>\n",
       "      <td>0.0</td>\n",
       "      <td>0.0</td>\n",
       "    </tr>\n",
       "  </tbody>\n",
       "</table>\n",
       "<p>1256 rows × 101 columns</p>\n",
       "</div>"
      ],
      "text/plain": [
       "      TEXTO_ADECUACION OBRA CIVIL SEDE  \\\n",
       "1049                               0.0   \n",
       "32                                 0.0   \n",
       "928                                0.0   \n",
       "583                                0.0   \n",
       "717                                0.0   \n",
       "...                                ...   \n",
       "1233                               1.0   \n",
       "690                                0.0   \n",
       "1233                               1.0   \n",
       "1237                               0.0   \n",
       "1236                               0.0   \n",
       "\n",
       "      TEXTO_ADECUACION OBRA CIVIL SITIO TECNICO  \\\n",
       "1049                                        0.0   \n",
       "32                                          0.0   \n",
       "928                                         0.0   \n",
       "583                                         0.0   \n",
       "717                                         0.0   \n",
       "...                                         ...   \n",
       "1233                                        0.0   \n",
       "690                                         0.0   \n",
       "1233                                        0.0   \n",
       "1237                                        0.0   \n",
       "1236                                        0.0   \n",
       "\n",
       "      TEXTO_AUMENTO DE CARGA ELECTRICA  TEXTO_CAJONERA AEREA  \\\n",
       "1049                               0.0                   0.0   \n",
       "32                                 0.0                   0.0   \n",
       "928                                0.0                   0.0   \n",
       "583                                0.0                   0.0   \n",
       "717                                0.0                   0.0   \n",
       "...                                ...                   ...   \n",
       "1233                               0.0                   0.0   \n",
       "690                                0.0                   0.0   \n",
       "1233                               0.0                   0.0   \n",
       "1237                               0.0                   1.0   \n",
       "1236                               0.0                   0.0   \n",
       "\n",
       "      TEXTO_DISENO DE PROYECTOS  TEXTO_ESCRITORIO DE MELAMINE GRIS  \\\n",
       "1049                        0.0                                0.0   \n",
       "32                          0.0                                0.0   \n",
       "928                         0.0                                0.0   \n",
       "583                         0.0                                0.0   \n",
       "717                         0.0                                0.0   \n",
       "...                         ...                                ...   \n",
       "1233                        0.0                                0.0   \n",
       "690                         0.0                                0.0   \n",
       "1233                        0.0                                0.0   \n",
       "1237                        0.0                                0.0   \n",
       "1236                        0.0                                1.0   \n",
       "\n",
       "      TEXTO_EVALUACIÓN ESTRUCTURAL DE TORRE  \\\n",
       "1049                                    0.0   \n",
       "32                                      0.0   \n",
       "928                                     0.0   \n",
       "583                                     0.0   \n",
       "717                                     0.0   \n",
       "...                                     ...   \n",
       "1233                                    0.0   \n",
       "690                                     0.0   \n",
       "1233                                    0.0   \n",
       "1237                                    0.0   \n",
       "1236                                    0.0   \n",
       "\n",
       "      TEXTO_HABILITACIÓN CAPACIDAD 10GEN LAMBDA 100G  \\\n",
       "1049                                             0.0   \n",
       "32                                               0.0   \n",
       "928                                              0.0   \n",
       "583                                              0.0   \n",
       "717                                              0.0   \n",
       "...                                              ...   \n",
       "1233                                             0.0   \n",
       "690                                              0.0   \n",
       "1233                                             0.0   \n",
       "1237                                             0.0   \n",
       "1236                                             0.0   \n",
       "\n",
       "      TEXTO_IMPLEM ENLACE MW COUBICADO  TEXTO_IMPLEMENTACION CELL SITE ROUTER  \\\n",
       "1049                               0.0                                    0.0   \n",
       "32                                 0.0                                    0.0   \n",
       "928                                0.0                                    0.0   \n",
       "583                                0.0                                    0.0   \n",
       "717                                0.0                                    0.0   \n",
       "...                                ...                                    ...   \n",
       "1233                               0.0                                    0.0   \n",
       "690                                0.0                                    0.0   \n",
       "1233                               0.0                                    0.0   \n",
       "1237                               0.0                                    0.0   \n",
       "1236                               0.0                                    0.0   \n",
       "\n",
       "      ...  CLASIF_RED_1_IP Fotónico  CLASIF_RED_1_IPRAN  \\\n",
       "1049  ...                       0.0                 0.0   \n",
       "32    ...                       0.0                 0.0   \n",
       "928   ...                       0.0                 0.0   \n",
       "583   ...                       0.0                 0.0   \n",
       "717   ...                       0.0                 0.0   \n",
       "...   ...                       ...                 ...   \n",
       "1233  ...                       0.0                 0.0   \n",
       "690   ...                       0.0                 0.0   \n",
       "1233  ...                       0.0                 0.0   \n",
       "1237  ...                       0.0                 0.0   \n",
       "1236  ...                       0.0                 0.0   \n",
       "\n",
       "      CLASIF_RED_1_Migraciones a FO Urbana   \\\n",
       "1049                                    0.0   \n",
       "32                                      0.0   \n",
       "928                                     0.0   \n",
       "583                                     0.0   \n",
       "717                                     0.0   \n",
       "...                                     ...   \n",
       "1233                                    0.0   \n",
       "690                                     0.0   \n",
       "1233                                    0.0   \n",
       "1237                                    0.0   \n",
       "1236                                    0.0   \n",
       "\n",
       "      CLASIF_RED_1_Modernización MW Ultima Milla  \\\n",
       "1049                                         0.0   \n",
       "32                                           0.0   \n",
       "928                                          0.0   \n",
       "583                                          0.0   \n",
       "717                                          0.0   \n",
       "...                                          ...   \n",
       "1233                                         0.0   \n",
       "690                                          0.0   \n",
       "1233                                         0.0   \n",
       "1237                                         0.0   \n",
       "1236                                         0.0   \n",
       "\n",
       "      CLASIF_RED_1_Red de Fibra Óptica Nacional  \\\n",
       "1049                                        0.0   \n",
       "32                                          0.0   \n",
       "928                                         0.0   \n",
       "583                                         0.0   \n",
       "717                                         0.0   \n",
       "...                                         ...   \n",
       "1233                                        0.0   \n",
       "690                                         0.0   \n",
       "1233                                        0.0   \n",
       "1237                                        0.0   \n",
       "1236                                        0.0   \n",
       "\n",
       "      CLASIF_RED_1_Rollout Sitios Nuevos Macro  CLASIF_RED_1_Sedes  \\\n",
       "1049                                       0.0                 0.0   \n",
       "32                                         0.0                 0.0   \n",
       "928                                        0.0                 0.0   \n",
       "583                                        0.0                 0.0   \n",
       "717                                        0.0                 0.0   \n",
       "...                                        ...                 ...   \n",
       "1233                                       0.0                 1.0   \n",
       "690                                        0.0                 0.0   \n",
       "1233                                       0.0                 1.0   \n",
       "1237                                       0.0                 1.0   \n",
       "1236                                       0.0                 1.0   \n",
       "\n",
       "      CLASIF_RED_1_Sitios 5G  CLASIF_RED_1_Sitios Nuevos Comerciales  \\\n",
       "1049                     0.0                                     0.0   \n",
       "32                       0.0                                     0.0   \n",
       "928                      0.0                                     0.0   \n",
       "583                      0.0                                     0.0   \n",
       "717                      0.0                                     0.0   \n",
       "...                      ...                                     ...   \n",
       "1233                     0.0                                     0.0   \n",
       "690                      0.0                                     0.0   \n",
       "1233                     0.0                                     0.0   \n",
       "1237                     0.0                                     0.0   \n",
       "1236                     0.0                                     0.0   \n",
       "\n",
       "      CLASIF_RED_1_Street Cell  \n",
       "1049                       0.0  \n",
       "32                         0.0  \n",
       "928                        0.0  \n",
       "583                        0.0  \n",
       "717                        0.0  \n",
       "...                        ...  \n",
       "1233                       0.0  \n",
       "690                        0.0  \n",
       "1233                       0.0  \n",
       "1237                       0.0  \n",
       "1236                       0.0  \n",
       "\n",
       "[1256 rows x 101 columns]"
      ]
     },
     "execution_count": 12,
     "metadata": {},
     "output_type": "execute_result"
    }
   ],
   "source": [
    "# Crea una copia del DataFrame para no modificar el original\n",
    "df_encoded = df_balanced.copy()\n",
    "# Selecciona todas las columnas excepto la columna objetivo\n",
    "columns_to_encode = df_balanced.columns[df_balanced.columns != 'RESPONSABLE_DE_EA']\n",
    "# Crea el codificador OneHot\n",
    "encoder = OneHotEncoder(sparse_output=False, drop='first')\n",
    "\n",
    "# Aplica el codificador a las columnas seleccionadas\n",
    "encoded_data = encoder.fit_transform(df_balanced[columns_to_encode])\n",
    "\n",
    "# Convierte el resultado en un DataFrame y utiliza get_feature_names_out para obtener los nombres de las columnas\n",
    "df_encoded = pd.DataFrame(encoded_data, columns=encoder.get_feature_names_out(columns_to_encode))\n",
    "\n",
    "# Asegúrate de mantener el índice original\n",
    "df_encoded.index = df_balanced.index\n",
    "\n",
    "# Agrega la columna objetivo al DataFrame codificado\n",
    "#df_encoded = pd.concat([df_encoded, ], axis=1)\n",
    "df_encoded"
   ]
  },
  {
   "cell_type": "code",
   "execution_count": 13,
   "id": "51748561-1824-4f13-b91d-cf790f5217e8",
   "metadata": {},
   "outputs": [],
   "source": [
    "# Esto solo se hace una vez para crear el experimento de MLFlow \n"
   ]
  },
  {
   "cell_type": "markdown",
   "id": "cfc5fd74-d0a3-499b-9e4c-ce95ca523b24",
   "metadata": {},
   "source": [
    "### 5. Divido en set de pruebas y entrenamiento & entreno el modelo"
   ]
  },
  {
   "cell_type": "code",
   "execution_count": 14,
   "id": "f2b4d042-4ae6-4a35-91b4-b2a61b483cd0",
   "metadata": {},
   "outputs": [],
   "source": [
    "X_train, X_test, y_train, y_test = train_test_split(df_encoded\n",
    "                                                    , df_balanced['RESPONSABLE_DE_EA'], test_size=0.2, random_state=42)"
   ]
  },
  {
   "cell_type": "code",
   "execution_count": 17,
   "id": "ff4549e9-c8f6-4f8d-ae94-3384fe1bc6f6",
   "metadata": {},
   "outputs": [
    {
     "data": {
      "text/plain": [
       "<Experiment: artifact_location='file:///D:/Scripts1/sklrn/mlruns/762750926988870532', creation_time=1723061274626, experiment_id='762750926988870532', last_update_time=1723061274626, lifecycle_stage='active', name='MLflow Quickstart', tags={}>"
      ]
     },
     "execution_count": 17,
     "metadata": {},
     "output_type": "execute_result"
    }
   ],
   "source": [
    "mlflow.set_experiment(\"MLflow Quickstart\") #Defino el experimento en MLFLOW"
   ]
  },
  {
   "cell_type": "code",
   "execution_count": 24,
   "id": "be23645e-8574-48b2-a0e8-b06bee144965",
   "metadata": {
    "scrolled": true
   },
   "outputs": [
    {
     "name": "stderr",
     "output_type": "stream",
     "text": [
      "2024/08/07 16:12:41 INFO mlflow.utils.autologging_utils: Created MLflow autologging run with ID '91217abcc2cf4a14aefa1dbb98c3a28b', which will track hyperparameters, performance metrics, model artifacts, and lineage information for the current sklearn workflow\n",
      "2024/08/07 16:12:45 INFO mlflow.utils.autologging_utils: Created MLflow autologging run with ID 'a93daacbae5a4ebda063edb943c24820', which will track hyperparameters, performance metrics, model artifacts, and lineage information for the current sklearn workflow\n",
      "2024/08/07 16:12:49 INFO mlflow.utils.autologging_utils: Created MLflow autologging run with ID '7775110527164a918184f4dd11fe921f', which will track hyperparameters, performance metrics, model artifacts, and lineage information for the current sklearn workflow\n",
      "2024/08/07 16:12:51 INFO mlflow.utils.autologging_utils: Created MLflow autologging run with ID '644f2fb5ef4a4724accebaac658dd72e', which will track hyperparameters, performance metrics, model artifacts, and lineage information for the current sklearn workflow\n",
      "2024/08/07 16:12:54 INFO mlflow.utils.autologging_utils: Created MLflow autologging run with ID '12fc93a6471741f1bb26fb76d034fc9a', which will track hyperparameters, performance metrics, model artifacts, and lineage information for the current sklearn workflow\n",
      "2024/08/07 16:12:58 INFO mlflow.tracking.fluent: Autologging successfully enabled for sklearn.\n"
     ]
    },
    {
     "name": "stdout",
     "output_type": "stream",
     "text": [
      "La precisión del modelo en los datos de entrenamiento con validación cruzada es: 0.9960149253731343\n",
      "La precisión del modelo en los datos de prueba es: 0.9841269841269841\n"
     ]
    }
   ],
   "source": [
    "# Define los hiperparámetros// Es el mejor mas rapido, comprobado por interacion\n",
    "params = {\n",
    "    'ccp_alpha': 0.0,\n",
    "    'class_weight': 'balanced',\n",
    "    'criterion': 'gini',\n",
    "    'max_depth': None,\n",
    "    'max_features': 1.0,\n",
    "    'max_leaf_nodes': None,\n",
    "    'min_impurity_decrease': 0.0,\n",
    "    'min_samples_leaf': 0.00029163021289005544,\n",
    "    'min_samples_split': 0.0005832604257801109,\n",
    "    'min_weight_fraction_leaf': 0.0,\n",
    "    'random_state': 5,\n",
    "    'splitter': 'best'\n",
    "}\n",
    "\n",
    "# Crea el clasificador\n",
    "clf = DecisionTreeClassifier(**params)\n",
    "# Realizamos validación cruzada en el conjunto de entrenamiento\n",
    "scores = cross_val_score(clf, X_train, y_train, cv=5)\n",
    "\n",
    "print(f'La precisión del modelo en los datos de entrenamiento con validación cruzada es: {scores.mean()}')\n",
    "\n",
    "# Ajustamos el modelo en el conjunto de entrenamiento\n",
    "with mlflow.start_run():\n",
    "    mlflow.autolog() ## Activo el autolog(aumenta el tiempo de ejecucion)\n",
    "    clf.fit(X_train, y_train)\n",
    "    mlflow.log_param(\"estimator\", \"DecisionTreeClasifier\")\n",
    "    #mlflow.sklearn.log_model(clf, \"model\")\n",
    "# Ahora puedes usar 'clf.predict(X_test)' para predecir los responsables de los proyectos en tu conjunto de prueba\n",
    "# Calculamos la precisión del modelo en los datos de prueba\n",
    "precision = clf.score(X_test, y_test)\n",
    "\n",
    "print(f'La precisión del modelo en los datos de prueba es: {precision}')\n",
    "y_pred = clf.predict(X_test)\n",
    "accuracy = accuracy_score(y_test, y_pred)\n"
   ]
  },
  {
   "cell_type": "markdown",
   "id": "1dd5ebe7-2862-4ca8-8083-e2eb8b6209a6",
   "metadata": {},
   "source": [
    "### 5.5 Dummy Clasifier "
   ]
  },
  {
   "cell_type": "code",
   "execution_count": 63,
   "id": "0f883954-6809-48f0-8330-dfbfc900d018",
   "metadata": {},
   "outputs": [
    {
     "name": "stdout",
     "output_type": "stream",
     "text": [
      "Accuracy con dummy stratified, 10 = [13.10, 17.10]\n"
     ]
    }
   ],
   "source": [
    "modelo = DummyClassifier()\n",
    "results = cross_validate(modelo, X_test, y_test, cv = 5, return_train_score=False)\n",
    "media = results['test_score'].mean()\n",
    "desviacion_estandar = results['test_score'].std()\n",
    "print(\"Accuracy con dummy stratified, 10 = [%.2f, %.2f]\" % ((media - 2 * desviacion_estandar)*100, (media + 2 * desviacion_estandar) * 100))"
   ]
  },
  {
   "cell_type": "code",
   "execution_count": null,
   "id": "39b9c347-bfb1-4f70-bade-609c375ced9f",
   "metadata": {},
   "outputs": [],
   "source": []
  },
  {
   "cell_type": "code",
   "execution_count": null,
   "id": "74cf969e-84ad-425f-a5d0-240484948ebd",
   "metadata": {},
   "outputs": [],
   "source": []
  },
  {
   "cell_type": "markdown",
   "id": "e0990014-d6f6-4fc2-8fc3-604596fc1116",
   "metadata": {},
   "source": [
    "### 6. Guardo la data en el MLFlow"
   ]
  },
  {
   "cell_type": "markdown",
   "id": "5e8a6bbb-e9c5-4bb4-ae9b-51722736af85",
   "metadata": {},
   "source": [
    "#### Registro el model en el MLFlow ( De forma manueal, inecesario is ya active el autolog) "
   ]
  },
  {
   "cell_type": "code",
   "execution_count": 18,
   "id": "ed9b7197-83c8-4f19-ac76-9b7b5e21920f",
   "metadata": {},
   "outputs": [
    {
     "name": "stderr",
     "output_type": "stream",
     "text": [
      "Registered model 'tracking-Responsables' already exists. Creating a new version of this model...\n",
      "Created version '5' of model 'tracking-Responsables'.\n"
     ]
    },
    {
     "data": {
      "application/vnd.jupyter.widget-view+json": {
       "model_id": "904c7b8735744331ab7a169cb9ddd0ac",
       "version_major": 2,
       "version_minor": 0
      },
      "text/plain": [
       "Downloading artifacts:   0%|          | 0/7 [00:00<?, ?it/s]"
      ]
     },
     "metadata": {},
     "output_type": "display_data"
    }
   ],
   "source": [
    "# Start an MLflow run\n",
    "with mlflow.start_run() as run:\n",
    "     # Log the hyperparameters\n",
    "    mlflow.log_params(params)\n",
    "\n",
    "    # Log the loss metric\n",
    "    mlflow.log_metric(\"accuracy\", accuracy)\n",
    "     # Set a tag that we can use to remind ourselves what this run was for\n",
    "    mlflow.set_tag(\"Training Info\", \"Basic DesicionTree model for analist data\")\n",
    "    # Infer the model signature\n",
    "    signature = infer_signature(X_train, clf.predict(X_train))\n",
    "    # Log the model\n",
    "    model_info = mlflow.sklearn.log_model(\n",
    "        sk_model=clf,\n",
    "        artifact_path=\"DecisionTreeModel\",\n",
    "        signature=signature,\n",
    "        input_example=X_train,\n",
    "        registered_model_name=\"tracking-Responsables\",\n",
    "    )"
   ]
  },
  {
   "cell_type": "markdown",
   "id": "f81b372d-cb8e-429f-b928-9c03e59f6273",
   "metadata": {},
   "source": [
    "### 7. Pruebas reales "
   ]
  },
  {
   "cell_type": "markdown",
   "id": "ce78eb87-d090-4a66-b579-65c93f01c1a8",
   "metadata": {},
   "source": [
    "#### Hago prueba con las filas random\n"
   ]
  },
  {
   "cell_type": "code",
   "execution_count": 289,
   "id": "2448a44f-93bc-47ec-b1ad-93a4af7cc353",
   "metadata": {},
   "outputs": [
    {
     "data": {
      "text/plain": [
       "['ANGGIE',\n",
       " 'ANGGIE',\n",
       " 'ANGGIE',\n",
       " 'ANGGIE',\n",
       " 'JHORDAN',\n",
       " 'ANGGIE',\n",
       " 'DEMETRIO',\n",
       " 'ANGGIE',\n",
       " 'ANGGIE',\n",
       " 'DEMETRIO',\n",
       " 'DEMETRIO',\n",
       " 'ANGGIE',\n",
       " 'ANGGIE',\n",
       " 'ANGGIE',\n",
       " 'JENNY']"
      ]
     },
     "execution_count": 289,
     "metadata": {},
     "output_type": "execute_result"
    }
   ],
   "source": [
    "random.seed(15)\n",
    "lista = random.sample(range(1, 1257), 15)\n",
    "df_test = dataB.loc[lista]\n",
    "df_test['RESPONSABLE_DE_EA'].tolist()"
   ]
  },
  {
   "cell_type": "code",
   "execution_count": 292,
   "id": "b0121341-8cf1-462c-892b-e8b611a735a4",
   "metadata": {},
   "outputs": [],
   "source": [
    "data2test = df_test[['TEXTO','PROVEEDOR','NOMBRE PROYECTO','TIPO_PROYECTOS','CLASIF_RED_1']].copy()"
   ]
  },
  {
   "cell_type": "code",
   "execution_count": 293,
   "id": "9540e7d7-3c3e-4f9e-b29a-23a6ba38ac19",
   "metadata": {},
   "outputs": [],
   "source": [
    "df_real = data2test.copy()"
   ]
  },
  {
   "cell_type": "markdown",
   "id": "216276bd-99da-4582-8afb-0ece2bd32cd0",
   "metadata": {},
   "source": [
    "#### Normalizo la entrada de que tenga el formato del modelo, igualo columnas"
   ]
  },
  {
   "cell_type": "code",
   "execution_count": 319,
   "id": "84e00893-0b8c-438e-a584-289a212708d3",
   "metadata": {},
   "outputs": [],
   "source": [
    "def process_2_model(df_real:pd.DataFrame):\n",
    "        # Supongamos que 'encoder' es tu OneHotEncoder ya ajustado y 'df_real' es tu DataFrame real\n",
    "    encoder = OneHotEncoder(sparse_output=False, drop='first')\n",
    "    encoded_data = encoder.fit_transform(df_real)\n",
    "    \n",
    "    # Aplica el codificador a tus datos reales\n",
    "    df_real_encoded = encoder.transform(df_real)\n",
    "    \n",
    "    # Convierte el resultado en un DataFrame\n",
    "    df_real_encoded = pd.DataFrame(df_real_encoded, columns=encoder.get_feature_names_out(df_real.columns))\n",
    "    \n",
    "    # Asegúrate de que todas las columnas en tus datos de entrenamiento también existen en tus datos reales\n",
    "    for col in df_encoded.columns:\n",
    "        if col not in df_real_encoded.columns:\n",
    "            # Si falta alguna columna en tus datos reales, añade una nueva columna llena de ceros\n",
    "            df_real_encoded[col] = 0\n",
    "    # Ordena las columnas de df_real_encoded para que coincidan con el orden de las columnas en df_encoded\n",
    "    df_real_encoded = df_real_encoded.reindex(columns=df_encoded.columns)\n",
    "    return df_real_encoded\n",
    "\n",
    "\n",
    "    \n",
    "    "
   ]
  },
  {
   "cell_type": "code",
   "execution_count": 295,
   "id": "57359b4b-9fab-409c-9370-c316e35f852e",
   "metadata": {},
   "outputs": [],
   "source": [
    "df_real_encoded = df_real_encoded.drop(columns=['RESPONSABLE_DE_EA'])"
   ]
  },
  {
   "cell_type": "code",
   "execution_count": 297,
   "id": "173ac308-e750-4215-b8aa-1ce7028cbbdc",
   "metadata": {},
   "outputs": [],
   "source": [
    "list_predic = clf.predict(df_real_encoded).tolist()"
   ]
  },
  {
   "cell_type": "code",
   "execution_count": 298,
   "id": "26993b4d-47ee-4e76-b078-10bd9f80e9d0",
   "metadata": {
    "scrolled": true
   },
   "outputs": [
    {
     "data": {
      "text/plain": [
       "['LAURA',\n",
       " 'LAURA',\n",
       " 'LAURA',\n",
       " 'LAURA',\n",
       " 'LAURA',\n",
       " 'LAURA',\n",
       " 'DEMETRIO',\n",
       " 'LAURA',\n",
       " 'LAURA',\n",
       " 'DEMETRIO',\n",
       " 'DEMETRIO',\n",
       " 'LAURA',\n",
       " 'LAURA',\n",
       " 'LAURA',\n",
       " 'JENNY']"
      ]
     },
     "execution_count": 298,
     "metadata": {},
     "output_type": "execute_result"
    }
   ],
   "source": [
    "list_predic"
   ]
  },
  {
   "cell_type": "markdown",
   "id": "35c25c09-578d-4a75-ba10-ddbfcc736af8",
   "metadata": {},
   "source": [
    "### 8. Serializo el modelo para guardarlo"
   ]
  },
  {
   "cell_type": "code",
   "execution_count": null,
   "id": "8d422937-793e-45cd-af86-c16dc56b5d2b",
   "metadata": {},
   "outputs": [],
   "source": [
    "\n",
    "with open(r'\\\\LIMBIPBICOV01.claro.pe\\Red Región Norte\\EAS\\model_v1.pkl', 'wb') as f:\n",
    "    # Usar pickle.dump para serializar y guardar el objeto\n",
    "    pickle.dump(clf, f)  "
   ]
  },
  {
   "cell_type": "code",
   "execution_count": null,
   "id": "e86375de-35d6-43dc-a780-3940a9b22b07",
   "metadata": {},
   "outputs": [],
   "source": []
  }
 ],
 "metadata": {
  "kernelspec": {
   "display_name": "Python 3 (ipykernel)",
   "language": "python",
   "name": "python3"
  },
  "language_info": {
   "codemirror_mode": {
    "name": "ipython",
    "version": 3
   },
   "file_extension": ".py",
   "mimetype": "text/x-python",
   "name": "python",
   "nbconvert_exporter": "python",
   "pygments_lexer": "ipython3",
   "version": "3.11.5"
  }
 },
 "nbformat": 4,
 "nbformat_minor": 5
}
