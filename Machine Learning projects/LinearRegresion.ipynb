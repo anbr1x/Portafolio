{
 "cells": [
  {
   "cell_type": "code",
   "execution_count": 1,
   "id": "1e85977e-5b68-4c4b-a1bf-94535ad94d1e",
   "metadata": {},
   "outputs": [],
   "source": [
    "import numpy as np\n",
    "from sklearn.model_selection import train_test_split \n",
    "from sklearn.linear_model import LinearRegression\n",
    "from sklearn import metrics\n",
    "import pandas as pd\n",
    "from dataclasses import dataclass\n",
    "import numpy as np\n",
    "from scipy import stats\n",
    "import matplotlib.pyplot as plt\n",
    "from sklearn.preprocessing import MinMaxScaler"
   ]
  },
  {
   "cell_type": "markdown",
   "id": "7625bb9e-cc8f-46e2-acd6-e1b60382f5b3",
   "metadata": {
    "jp-MarkdownHeadingCollapsed": true
   },
   "source": [
    "## base de la regresion "
   ]
  },
  {
   "cell_type": "code",
   "execution_count": 6,
   "id": "df757b32-be86-4e61-8402-719991cc3cd3",
   "metadata": {},
   "outputs": [
    {
     "name": "stdout",
     "output_type": "stream",
     "text": [
      "Mean Absolute Error: 6.960421964118754\n",
      "Mean Squared Error: 109.58871929828793\n",
      "Root Mean Squared Error: 10.468463081956584\n"
     ]
    }
   ],
   "source": [
    "# Supongamos que tus datos son algo como esto:\n",
    "# X es tu serie de tiempo y y son los valores que quieres predecir\n",
    "X = np.array(range(1, 101)).reshape(-1, 1)\n",
    "y = np.array([i*2 + np.random.normal(0, 10) for i in range(1, 101)])\n",
    "# Dividimos los datos en conjuntos de entrenamiento y prueba\n",
    "X_train, X_test, y_train, y_test = train_test_split(X, y, test_size=0.2, random_state=0)\n",
    "\n",
    "# Creamos el modelo de regresión lineal\n",
    "regressor = LinearRegression()  \n",
    "\n",
    "# Entrenamos el modelo usando los datos de entrenamiento\n",
    "regressor.fit(X_train, y_train)\n",
    "\n",
    "# Hacemos predicciones en los datos de prueba\n",
    "y_pred = regressor.predict(X_test)\n",
    "\n",
    "# Evaluamos el modelo\n",
    "print('Mean Absolute Error:', metrics.mean_absolute_error(y_test, y_pred))  \n",
    "print('Mean Squared Error:', metrics.mean_squared_error(y_test, y_pred))  \n",
    "print('Root Mean Squared Error:', np.sqrt(metrics.mean_squared_error(y_test, y_pred)))"
   ]
  },
  {
   "cell_type": "markdown",
   "id": "5e88be0e-d43a-494f-ad2b-9abce69893bc",
   "metadata": {
    "jp-MarkdownHeadingCollapsed": true
   },
   "source": [
    "## Resample de tiempo a diario"
   ]
  },
  {
   "cell_type": "code",
   "execution_count": null,
   "id": "9c88fee4-64c3-4f9f-8366-415aecd7746d",
   "metadata": {},
   "outputs": [],
   "source": [
    "import pandas as pd\n",
    "\n",
    "# Supongamos que 'df' es tu DataFrame y que 'time' es tu columna de tiempo\n",
    "df['time'] = pd.to_datetime(df['time'])\n",
    "\n",
    "# Re-muestrear a un intervalo diario, utilizando la media para agregar\n",
    "df_resampled = df.resample('D', on='time').mean()\n",
    "\n",
    "# Interpolar los valores faltantes\n",
    "df_resampled = df_resampled.interpolate()\n"
   ]
  },
  {
   "cell_type": "markdown",
   "id": "998e6336-de6c-4f25-9013-413bdfad8d3c",
   "metadata": {},
   "source": [
    "# TestV0"
   ]
  },
  {
   "cell_type": "code",
   "execution_count": 2,
   "id": "cfd665ea-57fa-460a-bc73-3e3071a93df0",
   "metadata": {},
   "outputs": [
    {
     "data": {
      "text/html": [
       "<div>\n",
       "<style scoped>\n",
       "    .dataframe tbody tr th:only-of-type {\n",
       "        vertical-align: middle;\n",
       "    }\n",
       "\n",
       "    .dataframe tbody tr th {\n",
       "        vertical-align: top;\n",
       "    }\n",
       "\n",
       "    .dataframe thead th {\n",
       "        text-align: right;\n",
       "    }\n",
       "</style>\n",
       "<table border=\"1\" class=\"dataframe\">\n",
       "  <thead>\n",
       "    <tr style=\"text-align: right;\">\n",
       "      <th></th>\n",
       "      <th>TIME</th>\n",
       "      <th>MES-COMPROMISO</th>\n",
       "      <th>PEND_FACT_SOLES</th>\n",
       "    </tr>\n",
       "  </thead>\n",
       "  <tbody>\n",
       "    <tr>\n",
       "      <th>0</th>\n",
       "      <td>2024-03-01</td>\n",
       "      <td>Abril</td>\n",
       "      <td>23690.44</td>\n",
       "    </tr>\n",
       "    <tr>\n",
       "      <th>1</th>\n",
       "      <td>2024-03-01</td>\n",
       "      <td>Abril</td>\n",
       "      <td>48329.55</td>\n",
       "    </tr>\n",
       "    <tr>\n",
       "      <th>2</th>\n",
       "      <td>2024-03-01</td>\n",
       "      <td>Abril</td>\n",
       "      <td>32926.63</td>\n",
       "    </tr>\n",
       "    <tr>\n",
       "      <th>3</th>\n",
       "      <td>2024-03-01</td>\n",
       "      <td>Abril</td>\n",
       "      <td>4704.00</td>\n",
       "    </tr>\n",
       "    <tr>\n",
       "      <th>4</th>\n",
       "      <td>2024-03-01</td>\n",
       "      <td>Abril</td>\n",
       "      <td>25409.73</td>\n",
       "    </tr>\n",
       "    <tr>\n",
       "      <th>...</th>\n",
       "      <td>...</td>\n",
       "      <td>...</td>\n",
       "      <td>...</td>\n",
       "    </tr>\n",
       "    <tr>\n",
       "      <th>4237</th>\n",
       "      <td>2024-04-04</td>\n",
       "      <td>Mayo</td>\n",
       "      <td>44233.30</td>\n",
       "    </tr>\n",
       "    <tr>\n",
       "      <th>4238</th>\n",
       "      <td>2024-04-04</td>\n",
       "      <td>Mayo</td>\n",
       "      <td>65614.39</td>\n",
       "    </tr>\n",
       "    <tr>\n",
       "      <th>4239</th>\n",
       "      <td>2024-04-04</td>\n",
       "      <td>Mayo</td>\n",
       "      <td>32924.62</td>\n",
       "    </tr>\n",
       "    <tr>\n",
       "      <th>4240</th>\n",
       "      <td>2024-04-04</td>\n",
       "      <td>Mayo</td>\n",
       "      <td>29184.80</td>\n",
       "    </tr>\n",
       "    <tr>\n",
       "      <th>4241</th>\n",
       "      <td>2024-04-04</td>\n",
       "      <td>Mayo</td>\n",
       "      <td>275522.85</td>\n",
       "    </tr>\n",
       "  </tbody>\n",
       "</table>\n",
       "<p>2600 rows × 3 columns</p>\n",
       "</div>"
      ],
      "text/plain": [
       "           TIME MES-COMPROMISO  PEND_FACT_SOLES\n",
       "0    2024-03-01          Abril         23690.44\n",
       "1    2024-03-01          Abril         48329.55\n",
       "2    2024-03-01          Abril         32926.63\n",
       "3    2024-03-01          Abril          4704.00\n",
       "4    2024-03-01          Abril         25409.73\n",
       "...         ...            ...              ...\n",
       "4237 2024-04-04           Mayo         44233.30\n",
       "4238 2024-04-04           Mayo         65614.39\n",
       "4239 2024-04-04           Mayo         32924.62\n",
       "4240 2024-04-04           Mayo         29184.80\n",
       "4241 2024-04-04           Mayo        275522.85\n",
       "\n",
       "[2600 rows x 3 columns]"
      ]
     },
     "execution_count": 2,
     "metadata": {},
     "output_type": "execute_result"
    }
   ],
   "source": [
    "df = pd.read_csv(r'D:\\Prepa\\TIME.S\\Prepa_TS.csv')\n",
    "df['TIME'] = pd.to_datetime(df['TIME'],format='%d-%m-%Y')\n",
    "df = df[['TIME','MES-COMPROMISO','PEND_FACT_SOLES']]\n",
    "meses = ['Abril','Mayo']\n",
    "df[df['MES-COMPROMISO'].isin(meses)]"
   ]
  },
  {
   "cell_type": "code",
   "execution_count": 3,
   "id": "ba48cfbc-5235-42e0-8d62-cd27b8f758ed",
   "metadata": {},
   "outputs": [
    {
     "name": "stdout",
     "output_type": "stream",
     "text": [
      "<class 'pandas.core.frame.DataFrame'>\n",
      "RangeIndex: 4242 entries, 0 to 4241\n",
      "Data columns (total 3 columns):\n",
      " #   Column           Non-Null Count  Dtype         \n",
      "---  ------           --------------  -----         \n",
      " 0   TIME             4242 non-null   datetime64[ns]\n",
      " 1   MES-COMPROMISO   4242 non-null   object        \n",
      " 2   PEND_FACT_SOLES  4242 non-null   float64       \n",
      "dtypes: datetime64[ns](1), float64(1), object(1)\n",
      "memory usage: 99.6+ KB\n"
     ]
    }
   ],
   "source": [
    "df.info()"
   ]
  },
  {
   "cell_type": "code",
   "execution_count": 4,
   "id": "89159b8e-4647-49b6-80ca-d3e171c97098",
   "metadata": {},
   "outputs": [],
   "source": [
    "\n",
    "def days_at_tstar(df:pd.DataFrame,columna):\n",
    "    fecha_inicio = df[columna].min()\n",
    "    # Transforma cada fecha en el número de días desde la fecha de inicio\n",
    "    df['dias_desde_inicio'] = (df[columna] - fecha_inicio).dt.days\n",
    "    df.drop(columns=[columna],inplace=True)\n",
    "    return df"
   ]
  },
  {
   "cell_type": "markdown",
   "id": "f68e29a1-f9f5-40c7-96f6-774427bcd74d",
   "metadata": {
    "jp-MarkdownHeadingCollapsed": true
   },
   "source": [
    "## Con dataclases : "
   ]
  },
  {
   "cell_type": "code",
   "execution_count": 79,
   "id": "68f76f6e-91bd-4c96-80d6-898b3b95a55b",
   "metadata": {},
   "outputs": [
    {
     "ename": "AttributeError",
     "evalue": "'MesdfTimeSeries' object has no attribute 'reset_index'",
     "output_type": "error",
     "traceback": [
      "\u001b[1;31m---------------------------------------------------------------------------\u001b[0m",
      "\u001b[1;31mAttributeError\u001b[0m                            Traceback (most recent call last)",
      "Cell \u001b[1;32mIn[79], line 16\u001b[0m\n\u001b[0;32m     14\u001b[0m \u001b[38;5;28msetattr\u001b[39m(mes_dfs, mes, df[df[\u001b[38;5;124m'\u001b[39m\u001b[38;5;124mMES-COMPROMISO\u001b[39m\u001b[38;5;124m'\u001b[39m] \u001b[38;5;241m==\u001b[39m mes])\n\u001b[0;32m     15\u001b[0m \u001b[38;5;28msetattr\u001b[39m(TS_dfs, mes, df\u001b[38;5;241m.\u001b[39mgroupby([\u001b[38;5;124m'\u001b[39m\u001b[38;5;124mTIME\u001b[39m\u001b[38;5;124m'\u001b[39m,\u001b[38;5;124m'\u001b[39m\u001b[38;5;124mMES-COMPROMISO\u001b[39m\u001b[38;5;124m'\u001b[39m])\u001b[38;5;241m.\u001b[39msum())\n\u001b[1;32m---> 16\u001b[0m \u001b[38;5;28msetattr\u001b[39m(TS_dfs, mes, \u001b[43mTS_dfs\u001b[49m\u001b[38;5;241;43m.\u001b[39;49m\u001b[43mreset_index\u001b[49m()\u001b[38;5;241m.\u001b[39mdrop(columns\u001b[38;5;241m=\u001b[39m[\u001b[38;5;124m'\u001b[39m\u001b[38;5;124mMES-COMPROMISO\u001b[39m\u001b[38;5;124m'\u001b[39m]))\n",
      "\u001b[1;31mAttributeError\u001b[0m: 'MesdfTimeSeries' object has no attribute 'reset_index'"
     ]
    }
   ],
   "source": [
    "@dataclass\n",
    "class MesDataFrames:\n",
    "    def __init__(self, list_meses):\n",
    "        for mes in list_meses:\n",
    "            setattr(self, mes, pd.DataFrame())\n",
    "@dataclass\n",
    "class MesdfTimeSeries:\n",
    "    def __init__(self, list_meses):\n",
    "        for mes in list_meses:\n",
    "            setattr(self, mes, pd.DataFrame())\n",
    "mes_dfs = MesDataFrames(meses)\n",
    "TS_dfs = MesdfTimeSeries(meses)\n",
    "for mes in meses:\n",
    "    setattr(mes_dfs, mes, df[df['MES-COMPROMISO'] == mes])\n",
    "    setattr(TS_dfs, mes, df.groupby(['TIME','MES-COMPROMISO']).sum())\n"
   ]
  },
  {
   "cell_type": "code",
   "execution_count": 73,
   "id": "a34d808e-ca4d-42bb-ad4f-44e5875a4ba1",
   "metadata": {},
   "outputs": [],
   "source": [
    "TS_dfs.Abril = TS_dfs.Abril.reset_index().drop(columns=['MES-COMPROMISO'])\n",
    "TS_dfs.Mayo = TS_dfs.Mayo.reset_index().drop(columns=['MES-COMPROMISO'])"
   ]
  },
  {
   "cell_type": "code",
   "execution_count": 74,
   "id": "c48aaf51-b3d8-44b7-a11f-095050dcca41",
   "metadata": {
    "scrolled": true
   },
   "outputs": [
    {
     "data": {
      "text/html": [
       "<div>\n",
       "<style scoped>\n",
       "    .dataframe tbody tr th:only-of-type {\n",
       "        vertical-align: middle;\n",
       "    }\n",
       "\n",
       "    .dataframe tbody tr th {\n",
       "        vertical-align: top;\n",
       "    }\n",
       "\n",
       "    .dataframe thead th {\n",
       "        text-align: right;\n",
       "    }\n",
       "</style>\n",
       "<table border=\"1\" class=\"dataframe\">\n",
       "  <thead>\n",
       "    <tr style=\"text-align: right;\">\n",
       "      <th></th>\n",
       "      <th>TIME</th>\n",
       "      <th>PEND_FACT_SOLES</th>\n",
       "    </tr>\n",
       "  </thead>\n",
       "  <tbody>\n",
       "    <tr>\n",
       "      <th>0</th>\n",
       "      <td>2024-02-19</td>\n",
       "      <td>5288292.51</td>\n",
       "    </tr>\n",
       "    <tr>\n",
       "      <th>1</th>\n",
       "      <td>2024-02-21</td>\n",
       "      <td>5115676.18</td>\n",
       "    </tr>\n",
       "    <tr>\n",
       "      <th>2</th>\n",
       "      <td>2024-02-22</td>\n",
       "      <td>5115676.18</td>\n",
       "    </tr>\n",
       "    <tr>\n",
       "      <th>3</th>\n",
       "      <td>2024-02-23</td>\n",
       "      <td>5115676.18</td>\n",
       "    </tr>\n",
       "    <tr>\n",
       "      <th>4</th>\n",
       "      <td>2024-02-26</td>\n",
       "      <td>4771576.53</td>\n",
       "    </tr>\n",
       "    <tr>\n",
       "      <th>5</th>\n",
       "      <td>2024-02-28</td>\n",
       "      <td>4771576.53</td>\n",
       "    </tr>\n",
       "    <tr>\n",
       "      <th>6</th>\n",
       "      <td>2024-02-29</td>\n",
       "      <td>4579061.15</td>\n",
       "    </tr>\n",
       "    <tr>\n",
       "      <th>7</th>\n",
       "      <td>2024-03-01</td>\n",
       "      <td>4579061.15</td>\n",
       "    </tr>\n",
       "    <tr>\n",
       "      <th>8</th>\n",
       "      <td>2024-03-04</td>\n",
       "      <td>4579061.15</td>\n",
       "    </tr>\n",
       "    <tr>\n",
       "      <th>9</th>\n",
       "      <td>2024-03-05</td>\n",
       "      <td>4579061.15</td>\n",
       "    </tr>\n",
       "    <tr>\n",
       "      <th>10</th>\n",
       "      <td>2024-03-06</td>\n",
       "      <td>4180110.96</td>\n",
       "    </tr>\n",
       "    <tr>\n",
       "      <th>11</th>\n",
       "      <td>2024-03-07</td>\n",
       "      <td>4180110.96</td>\n",
       "    </tr>\n",
       "    <tr>\n",
       "      <th>12</th>\n",
       "      <td>2024-03-08</td>\n",
       "      <td>4180110.96</td>\n",
       "    </tr>\n",
       "    <tr>\n",
       "      <th>13</th>\n",
       "      <td>2024-03-11</td>\n",
       "      <td>4180110.96</td>\n",
       "    </tr>\n",
       "    <tr>\n",
       "      <th>14</th>\n",
       "      <td>2024-03-12</td>\n",
       "      <td>3946117.56</td>\n",
       "    </tr>\n",
       "    <tr>\n",
       "      <th>15</th>\n",
       "      <td>2024-03-13</td>\n",
       "      <td>3850505.92</td>\n",
       "    </tr>\n",
       "    <tr>\n",
       "      <th>16</th>\n",
       "      <td>2024-03-14</td>\n",
       "      <td>3850505.92</td>\n",
       "    </tr>\n",
       "    <tr>\n",
       "      <th>17</th>\n",
       "      <td>2024-03-15</td>\n",
       "      <td>3532414.92</td>\n",
       "    </tr>\n",
       "    <tr>\n",
       "      <th>18</th>\n",
       "      <td>2024-03-18</td>\n",
       "      <td>3532414.92</td>\n",
       "    </tr>\n",
       "    <tr>\n",
       "      <th>19</th>\n",
       "      <td>2024-03-19</td>\n",
       "      <td>3168948.36</td>\n",
       "    </tr>\n",
       "    <tr>\n",
       "      <th>20</th>\n",
       "      <td>2024-03-20</td>\n",
       "      <td>3168948.36</td>\n",
       "    </tr>\n",
       "    <tr>\n",
       "      <th>21</th>\n",
       "      <td>2024-03-21</td>\n",
       "      <td>3168948.36</td>\n",
       "    </tr>\n",
       "    <tr>\n",
       "      <th>22</th>\n",
       "      <td>2024-03-22</td>\n",
       "      <td>3168948.36</td>\n",
       "    </tr>\n",
       "    <tr>\n",
       "      <th>23</th>\n",
       "      <td>2024-03-25</td>\n",
       "      <td>3168948.36</td>\n",
       "    </tr>\n",
       "    <tr>\n",
       "      <th>24</th>\n",
       "      <td>2024-03-26</td>\n",
       "      <td>3168948.36</td>\n",
       "    </tr>\n",
       "    <tr>\n",
       "      <th>25</th>\n",
       "      <td>2024-03-27</td>\n",
       "      <td>2940333.96</td>\n",
       "    </tr>\n",
       "    <tr>\n",
       "      <th>26</th>\n",
       "      <td>2024-04-01</td>\n",
       "      <td>2940333.96</td>\n",
       "    </tr>\n",
       "    <tr>\n",
       "      <th>27</th>\n",
       "      <td>2024-04-02</td>\n",
       "      <td>2940333.96</td>\n",
       "    </tr>\n",
       "  </tbody>\n",
       "</table>\n",
       "</div>"
      ],
      "text/plain": [
       "         TIME  PEND_FACT_SOLES\n",
       "0  2024-02-19       5288292.51\n",
       "1  2024-02-21       5115676.18\n",
       "2  2024-02-22       5115676.18\n",
       "3  2024-02-23       5115676.18\n",
       "4  2024-02-26       4771576.53\n",
       "5  2024-02-28       4771576.53\n",
       "6  2024-02-29       4579061.15\n",
       "7  2024-03-01       4579061.15\n",
       "8  2024-03-04       4579061.15\n",
       "9  2024-03-05       4579061.15\n",
       "10 2024-03-06       4180110.96\n",
       "11 2024-03-07       4180110.96\n",
       "12 2024-03-08       4180110.96\n",
       "13 2024-03-11       4180110.96\n",
       "14 2024-03-12       3946117.56\n",
       "15 2024-03-13       3850505.92\n",
       "16 2024-03-14       3850505.92\n",
       "17 2024-03-15       3532414.92\n",
       "18 2024-03-18       3532414.92\n",
       "19 2024-03-19       3168948.36\n",
       "20 2024-03-20       3168948.36\n",
       "21 2024-03-21       3168948.36\n",
       "22 2024-03-22       3168948.36\n",
       "23 2024-03-25       3168948.36\n",
       "24 2024-03-26       3168948.36\n",
       "25 2024-03-27       2940333.96\n",
       "26 2024-04-01       2940333.96\n",
       "27 2024-04-02       2940333.96"
      ]
     },
     "execution_count": 74,
     "metadata": {},
     "output_type": "execute_result"
    }
   ],
   "source": [
    "TS_dfs.Mayo"
   ]
  },
  {
   "cell_type": "markdown",
   "id": "4fa15104-dc9a-4325-842c-5f33779ab710",
   "metadata": {},
   "source": [
    "## Con diccionarios: "
   ]
  },
  {
   "cell_type": "code",
   "execution_count": 8,
   "id": "8ae47d20-cf44-4f8d-8328-48c208cf5065",
   "metadata": {},
   "outputs": [],
   "source": [
    "dfs = {}\n",
    "dfTSs = {}\n",
    "df_resampled = {}\n",
    "for mes in meses:\n",
    "    # Usa el mes como clave del diccionario\n",
    "    dfs[mes] = df[df['MES-COMPROMISO'] == mes]\n",
    "    dfTSs[mes] = dfs[mes].groupby(['TIME','MES-COMPROMISO']).sum().reset_index() ## Agrupo por intancias de tiempo\n",
    "    dfTSs[mes].drop(columns='MES-COMPROMISO',inplace=True) ## Elimino columna que no necesito\n",
    "    df_resampled[mes] = dfTSs[mes].resample('D', on='TIME').mean()### Hago resample para tener intervalos constantes\n",
    "    df_resampled[mes] = df_resampled[mes].interpolate().reset_index()# Interpolo para completar esos intervalos\n",
    "    df_resampled[mes] = days_at_tstar(df_resampled[mes],'TIME')## Discretiso las instancias de tiempo\n",
    "\n"
   ]
  },
  {
   "cell_type": "markdown",
   "id": "5db0893b-c0a7-414e-9f0b-7d3526878487",
   "metadata": {},
   "source": [
    "## Prueba estadistica de normalidad "
   ]
  },
  {
   "cell_type": "code",
   "execution_count": 124,
   "id": "ba7cb6df-e42c-4d2d-bacc-fc545ce14fe3",
   "metadata": {},
   "outputs": [
    {
     "name": "stdout",
     "output_type": "stream",
     "text": [
      "Shapiro test statistic: 0.9007464051246643, p-value: 0.0011473109479993582\n"
     ]
    },
    {
     "data": {
      "image/png": "[encoded data removed]",
      "text/plain": [
       "<Figure size 640x480 with 1 Axes>"
      ]
     },
     "metadata": {},
     "output_type": "display_data"
    }
   ],
   "source": [
    "\n",
    "\n",
    "# Supongamos que 'data' son tus datos\n",
    "data = df_resampled['Abril'].drop(columns=['TIME'])['PEND_FACT_SOLES'].tolist()\n",
    "\n",
    "# Realiza una prueba de normalidad (p.ej., Shapiro-Wilk)\n",
    "shapiro_test = stats.shapiro(data)\n",
    "print(f\"Shapiro test statistic: {shapiro_test.statistic}, p-value: {shapiro_test.pvalue}\")\n",
    "\n",
    "# Si el valor p es mayor que 0.05, entonces los datos no se desvían significativamente de una distribución normal\n",
    "\n",
    "# Crea un gráfico Q-Q\n",
    "plt.figure()\n",
    "stats.probplot(data, plot=plt)\n",
    "plt.show()"
   ]
  },
  {
   "cell_type": "markdown",
   "id": "5cc27405-8ac3-478f-9d80-e848e9023f7d",
   "metadata": {
    "jp-MarkdownHeadingCollapsed": true
   },
   "source": [
    "## RobustScaler"
   ]
  },
  {
   "cell_type": "code",
   "execution_count": 126,
   "id": "3a93d1cf-51bf-4906-8665-654c649433a0",
   "metadata": {},
   "outputs": [],
   "source": [
    "from sklearn.preprocessing import RobustScaler\n",
    "\n",
    "# Supongamos que 'y' es tu variable dependiente\n",
    "y = df_resampled['Abril'].drop(columns=['TIME'])['PEND_FACT_SOLES'].tolist()\n",
    "y = np.array(y)\n",
    "scaler = RobustScaler()\n",
    "y_robust_scaled = scaler.fit_transform(y.reshape(-1, 1))\n",
    "\n",
    "# Ahora 'y_robust_scaled' está normalizado de manera robusta\n"
   ]
  },
  {
   "cell_type": "markdown",
   "id": "0e6711aa-96ba-4b1f-b5e7-5e828fd11a2b",
   "metadata": {
    "jp-MarkdownHeadingCollapsed": true
   },
   "source": [
    "## MinMaxScaler (Mas apropiado hasta ahora para las series de tiempo)"
   ]
  },
  {
   "cell_type": "code",
   "execution_count": 165,
   "id": "3d23654e-c395-4854-9ca6-29af631a9769",
   "metadata": {},
   "outputs": [],
   "source": [
    "#Este tiene menor error que el robust scaler\n",
    "# Supongamos que 'y' es tu variable dependiente\n",
    "y = df_resampled['Abril'].drop(columns=['TIME'])['PEND_FACT_SOLES'].tolist()\n",
    "y = np.array(y)\n",
    "scaler = MinMaxScaler()\n",
    "y_normalized = scaler.fit_transform(y.reshape(-1, 1))\n",
    "\n",
    "# Ahora 'y_normalized' está normalizado al rango de 0 a 1\n"
   ]
  },
  {
   "cell_type": "markdown",
   "id": "37912f6e-dc11-489b-9084-1f30a6a4784d",
   "metadata": {
    "jp-MarkdownHeadingCollapsed": true
   },
   "source": [
    "## Linear regresion aplicado"
   ]
  },
  {
   "cell_type": "code",
   "execution_count": 170,
   "id": "28f38c53-4a72-44fe-afa6-12cd5b0a572f",
   "metadata": {},
   "outputs": [
    {
     "name": "stdout",
     "output_type": "stream",
     "text": [
      "Mean Absolute Error: 0.05300434264992777\n",
      "Mean Squared Error: 0.004153253589397333\n",
      "Root Mean Squared Error: 0.0644457414372535\n"
     ]
    }
   ],
   "source": [
    "# Supongamos que tus datos son algo como esto:\n",
    "# X es tu serie de tiempo y y son los valores que quieres predecir\n",
    "eje_x = df_resampled['Abril'].drop(columns=['TIME'])['Dias_desde_inicio'].tolist()\n",
    "X = np.array(eje_x).reshape(-1, 1) ## la redimencion ,se utiliza para cumplir el requerimiento de skt-learn en los imputs\n",
    "y = np.array(y_normalized)\n",
    "# Dividimos los datos en conjuntos de entrenamiento y prueba\n",
    "X_train, X_test, y_train, y_test = train_test_split(X, y, test_size=0.2, random_state=0)\n",
    "\n",
    "# Creamos el modelo de regresión lineal\n",
    "regressor = LinearRegression()  \n",
    "\n",
    "# Entrenamos el modelo usando los datos de entrenamiento\n",
    "regressor.fit(X_train, y_train)\n",
    "\n",
    "# Hacemos predicciones en los datos de prueba\n",
    "y_pred = regressor.predict(X_test)\n",
    "\n",
    "# Evaluamos el modelo\n",
    "print('Mean Absolute Error:', metrics.mean_absolute_error(y_test, y_pred))  \n",
    "print('Mean Squared Error:', metrics.mean_squared_error(y_test, y_pred))  \n",
    "print('Root Mean Squared Error:', np.sqrt(metrics.mean_squared_error(y_test, y_pred)))\n",
    "\n",
    "# Graficar los datos de prueba\n",
    "plt.scatter(X_test, y_test, color='gray')\n",
    "\n",
    "# Graficar las predicciones del modelo\n",
    "plt.plot(X_test, y_pred, color='red', linewidth=2)\n",
    "\n",
    "plt.show()\n",
    "\"\"\"En este gráfico, los puntos grises representan tus datos de prueba y la línea roja representa las predicciones de tu modelo de regresión lineal.\"\"\""
   ]
  },
  {
   "cell_type": "markdown",
   "id": "33c77c3a-9a4c-4d60-966b-f99a2b4c7fda",
   "metadata": {
    "jp-MarkdownHeadingCollapsed": true
   },
   "source": [
    "## Para estimar interseccion con el eje X"
   ]
  },
  {
   "cell_type": "code",
   "execution_count": 337,
   "id": "501195af-9aaf-48e6-9cc0-4a9f753d871d",
   "metadata": {},
   "outputs": [
    {
     "data": {
      "text/plain": [
       "array([[0.00447155]])"
      ]
     },
     "execution_count": 337,
     "metadata": {},
     "output_type": "execute_result"
    }
   ],
   "source": [
    "y_original = scaler.inverse_transform(Y_a)\n",
    "y_original"
   ]
  },
  {
   "cell_type": "code",
   "execution_count": 283,
   "id": "ee51ef13-54ab-4073-994d-d9e896ebfdc0",
   "metadata": {},
   "outputs": [
    {
     "name": "stdout",
     "output_type": "stream",
     "text": [
      "La pendiente (m) de la línea es [-0.02539479]\n",
      "La intersección con el eje y (b) es [0.99000718]\n",
      "La interseccion con el eje x es : [38.98466147]\n",
      "Faltan [44.29768777] dias para finalizar\n",
      "Faltan [6.32824111] semanas para terminar el compromismo de Abril\n"
     ]
    }
   ],
   "source": [
    "Y_a = regressor.predict(np.array(88.2976877).reshape(-1,1))\n",
    "\n",
    "m = regressor.coef_[0]\n",
    "b = regressor.intercept_\n",
    "\n",
    "print(f\"La pendiente (m) de la línea es {m}\")\n",
    "print(f\"La intersección con el eje y (b) es {b}\")\n",
    "print(f\"La interseccion con el eje x es : {-b/m}\")\n",
    "print(f\"Faltan {(float_cero-b)/m - len(y_normalized)} dias para finalizar\")\n",
    "print(f\"Faltan {((float_cero-b)/m - len(y_normalized))/7} semanas para terminar el compromismo de Abril\")"
   ]
  },
  {
   "cell_type": "code",
   "execution_count": 276,
   "id": "7deeaa47-3fcd-4548-a7e3-cfefe5b57f87",
   "metadata": {},
   "outputs": [
    {
     "name": "stdout",
     "output_type": "stream",
     "text": [
      "Faltan [6.32824111] semanas para terminar el compromismo de Abril\n"
     ]
    }
   ],
   "source": [
    "cero = scaler.transform(np.array(0).reshape(-1,1))\n",
    "float_cero = float(cero[0][0].astype(float))\n",
    "float_cero"
   ]
  },
  {
   "cell_type": "code",
   "execution_count": null,
   "id": "e8f0d68c-a2f5-4bf1-9461-28dcfd8bafe8",
   "metadata": {},
   "outputs": [],
   "source": []
  }
 ],
 "metadata": {
  "kernelspec": {
   "display_name": "Python 3 (ipykernel)",
   "language": "python",
   "name": "python3"
  },
  "language_info": {
   "codemirror_mode": {
    "name": "ipython",
    "version": 3
   },
   "file_extension": ".py",
   "mimetype": "text/x-python",
   "name": "python",
   "nbconvert_exporter": "python",
   "pygments_lexer": "ipython3",
   "version": "3.11.5"
  }
 },
 "nbformat": 4,
 "nbformat_minor": 5
}
