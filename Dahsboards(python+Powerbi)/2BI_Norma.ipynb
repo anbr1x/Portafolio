{
 "cells": [
  {
   "cell_type": "code",
   "execution_count": 1,
   "id": "a750d498-80bb-4c9e-9b06-f6408b140d66",
   "metadata": {},
   "outputs": [],
   "source": [
    "import sys\n",
    "sys.path.append(r\"D:\\Scripts1\\Code\\ActPEA\\CODE\\Actu_Colums.py\")\n",
    "import pandas as pd\n",
    "import matplotlib as mptl\n",
    "import Actu_Colums as Ac\n",
    "from openpyxl import load_workbook\n",
    "from typing import Optional\n",
    "import glob,os,re\n",
    "import numpy as np\n",
    "from collections import defaultdict\n",
    "from babel.dates import format_date, format_datetime, Locale\n",
    "import datetime\n",
    "import locale\n",
    "locale.setlocale(locale.LC_TIME, 'es_ES.UTF-8')\n",
    "import pickle"
   ]
  },
  {
   "cell_type": "markdown",
   "id": "acd304d8-7d95-4f88-9b1b-8a137ef834a0",
   "metadata": {},
   "source": [
    "## Funciones"
   ]
  },
  {
   "cell_type": "code",
   "execution_count": 2,
   "id": "e3247b0a-71c6-4b93-91b8-48ffdbe5e374",
   "metadata": {},
   "outputs": [],
   "source": [
    "def mes_a_numero(mes):\n",
    "    meses = ['Enero', 'Febrero', 'Marzo', 'Abril', 'Mayo', 'Junio', \n",
    "             'Julio', 'Agosto', 'Septiembre', 'Octubre', 'Noviembre', 'Diciembre']\n",
    "    return meses.index(mes) + 1 if mes in meses else None\n",
    "def parse_fecha(fecha):\n",
    "    for fmt in ('%Y-%m-%d', '%d-%m-%Y'):\n",
    "        try:\n",
    "            return datetime.strptime(fecha, fmt)\n",
    "        except ValueError:\n",
    "            pass\n",
    "    raise ValueError('no valid date format found')\n",
    "def normalize_company_names(df, column):\n",
    "    \"\"\"Normaliza los nombres de las empresas en la columna especificada del DataFrame.\"\"\"\n",
    "    # Reemplaza \"SAC\" o \"S. A. C.\" al final de los nombres de las empresas con \"S.A.C\"\n",
    "    df[column] = df[column].str.replace(r\"(SAC|S\\. ?A\\. ?C\\.)$\", \"S.A.C.\", regex=True)\n",
    "    return df\n",
    "def relacionar_dataframes(df_hechos, df_dimensiones, columna_hechos, columna_dimensiones):\n",
    "    # Renombrar la columna en df_dimensiones para que coincida con df_hechos\n",
    "    df_dimensiones_renombrado = df_dimensiones.rename(columns={columna_dimensiones: columna_hechos})\n",
    "    \n",
    "    # Unir los dataframes\n",
    "    df_resultado = pd.merge(df_hechos, df_dimensiones_renombrado, on=columna_hechos,how='left')\n",
    "    df_resultado.drop(columns=[columna_hechos],inplace=True)\n",
    "    rows_in = len(df_hechos)\n",
    "    rows_out = len(df_resultado)\n",
    "    diff_row = rows_in-rows_out\n",
    "    print(f\"el df entra con: {rows_in}. y sale con {rows_out},hay una diferencia de {diff_row} filas\")\n",
    "    \n",
    "    return df_resultado\n",
    "meses = {1: 'Enero', 2: 'Febrero', 3: 'Marzo', 4: 'Abril', 5: 'Mayo', 6: 'Junio', \n",
    "         7: 'Julio', 8: 'Agosto', 9: 'Septiembre', 10: 'Octubre', 11: 'Noviembre', 12: 'Diciembre'}\n"
   ]
  },
  {
   "cell_type": "markdown",
   "id": "f0f48c0b-a106-4edf-b9c4-82e753c89ec8",
   "metadata": {},
   "source": [
    "# El esquema que voy a seguir es:\n",
    "-  https://miro.com/welcomeonboard/R091Q0xPdE13YUNNbzBWTEl4b01CYnBjQmNuWG9sVW9qa2NLN1dIWTludmlIZUFIcmc5c0hLTWhGdk5HSW5mb3wzNDU4NzY0NTkxMzU2NDUxNTY0fDI=?share_link_id=576727954374"
   ]
  },
  {
   "cell_type": "markdown",
   "id": "19b9435c-a144-4294-9b77-564a590d8818",
   "metadata": {},
   "source": [
    "## Cargo las 4 tablas "
   ]
  },
  {
   "cell_type": "code",
   "execution_count": 3,
   "id": "98969753-1773-4322-b8df-dace9e664010",
   "metadata": {},
   "outputs": [],
   "source": [
    "prepa_f = pd.read_csv(r'\\\\LIMBIPBICOV01.claro.pe\\Red Región Norte\\PowerBI\\Reporte Prepasivo.csv')\n",
    "prepa_ts = pd.read_csv(r'\\\\LIMBIPBICOV01.claro.pe\\Red Región Norte\\PowerBI\\Prepa_TS.csv')\n",
    "EA_f = pd.read_csv(r'\\\\LIMBIPBICOV01.claro.pe\\Red Región Norte\\EAS\\EAs.csv')\n",
    "EA_ts = pd.read_csv(r'D:\\EA\\TS\\EA_TS1.csv') "
   ]
  },
  {
   "cell_type": "markdown",
   "id": "034c906a-0d04-4764-9c48-b310c211ab78",
   "metadata": {},
   "source": [
    "### Preproces"
   ]
  },
  {
   "cell_type": "code",
   "execution_count": 4,
   "id": "ed76daa5-bf3b-44ff-a962-6ecba08de9c0",
   "metadata": {},
   "outputs": [],
   "source": [
    "##### TIME Preprocess #############3\n",
    "prepa_ts = prepa_ts.dropna(subset='PEND_FACT_SOLES')\n",
    "prepa_ts.TIME =  prepa_ts.TIME.str.replace('/','-')\n",
    "mask = prepa_ts.TIME.str.split('-').str[0].str.len() == 4\n",
    "# Usamos la máscara para aplicar el formato correcto a cada subconjunto los que tiene  primero el año o el dia.\n",
    "prepa_ts.loc[mask, 'TIME'] = pd.to_datetime(prepa_ts.loc[mask, 'TIME'], format='%Y-%m-%d').dt.date #\n",
    "prepa_ts.loc[~mask, 'TIME'] = pd.to_datetime(prepa_ts.loc[~mask, 'TIME'], format='%d-%m-%Y').dt.date\n",
    "\n",
    "prepa_ts['TIME'] = pd.to_datetime(prepa_ts['TIME'])\n",
    "EA_ts['TIME'] = pd.to_datetime(EA_ts['TIME'])\n",
    "EA_ts['Mes'] = pd.to_datetime(EA_ts['Fecha_DOC']).dt.month.map(meses) ## Convierto a mes las fechas_DOC\n",
    "EA_f['Mes'] = pd.to_datetime(EA_f['FECHA_DOC']).dt.month.map(meses) ## Convierto a mes las fechas_DOC"
   ]
  },
  {
   "cell_type": "code",
   "execution_count": 5,
   "id": "503dc7bd-bd89-4820-a5bc-4f132540a1ef",
   "metadata": {},
   "outputs": [],
   "source": [
    "############# Responsable Preprocess #####################\n",
    "EA_ts['RESPONSABLE EA'] = EA_ts['RESPONSABLE EA'].str.upper().str.split(' ',expand=True)[0]\n",
    "EA_ts['RESPONSABLE EA'].replace('ANNGIE','ANGGIE',inplace=True)\n",
    "EA_ts['RESPONSABLE EA'].replace('POR','POR ASIGNAR',inplace=True)\n",
    "prepa_f['Responsable3'] = prepa_f['Responsable3'].str.upper()\n"
   ]
  },
  {
   "cell_type": "code",
   "execution_count": 6,
   "id": "b3e2c2a0-92f1-4b79-9090-622254a48723",
   "metadata": {},
   "outputs": [],
   "source": [
    "############## Contrata Preprocesss #####################\n",
    "EA_f = normalize_company_names(EA_f,'PROVEEDOR')\n",
    "\n",
    "EA_f['PROVEEDOR'] = EA_f['PROVEEDOR'].str.upper()\n",
    "prepa_ts = normalize_company_names(prepa_ts,'NOMPROVEEDOR')\n",
    "prepa_ts.replace({'COMFUTURA':'COMUNICACION FUTURA SOCIEDAD ANONIM',\n",
    "                       'SCALA DISEÃ‘O Y CONSTRUCCION S.A.C.':'SCALA DISEÑO Y CONSTRUCCION S.A.C.'}\n",
    "                       ,inplace=True)\n",
    "\n",
    "prepa_f.Contratista = prepa_f.Contratista.str.upper()\n",
    "prepa_f = normalize_company_names(prepa_f,'Contratista')\n",
    "prepa_f.replace({'COMFUTURA':'COMUNICACION FUTURA SOCIEDAD ANONIM',\n",
    "                       'SCALA DISEÃ‘O Y CONSTRUCCION S.A.C.':'SCALA DISEÑO Y CONSTRUCCION S.A.C.'}\n",
    "                       ,inplace=True)"
   ]
  },
  {
   "cell_type": "code",
   "execution_count": 7,
   "id": "98ac95e1-be9f-41b8-940b-f5eb816a3e51",
   "metadata": {},
   "outputs": [],
   "source": [
    "##################  Estado Preprocess ####################### \n",
    "prepa_ts['ESTADO'] = prepa_ts['ESTADO'].str.upper()\n",
    "prepa_f['Estado'] = prepa_f['Estado'].str.upper()"
   ]
  },
  {
   "cell_type": "markdown",
   "id": "44a987b6-4bbb-4474-bd07-f82b0aee4362",
   "metadata": {
    "jp-MarkdownHeadingCollapsed": true
   },
   "source": [
    "### Dimension MES (mes_dim)\n",
    "### Se relaciona con:\n",
    "- EA_f : Mes\n",
    "- EA_ts : Mes\n",
    "- prepa_ts : MES-COMPROMISO\n",
    "- prepa_f : Mes de Compromiso"
   ]
  },
  {
   "cell_type": "code",
   "execution_count": 8,
   "id": "b5efb6ab-8542-4c84-96bf-b029547b7be4",
   "metadata": {},
   "outputs": [],
   "source": [
    "# Concatenate the months from the fact tables and remove duplicates\n",
    "mes_dim = pd.concat([prepa_f['Mes De Compromiso'], EA_f['Mes'], EA_ts['Mes'], prepa_ts['MES-COMPROMISO']]).drop_duplicates().reset_index(drop=True)\n",
    "\n",
    "# Create a DataFrame with an index and replace 'Setiembre' with 'Septiembre'\n",
    "mes_dim = pd.DataFrame(mes_dim, columns=['Mes']).reset_index().rename(columns={'index': 'Mes_id'}).replace('Setiembre', 'Septiembre')\n",
    "\n",
    "# Remove duplicates based on 'Mes' and apply the 'mes_a_numero' function\n",
    "mes_dim = mes_dim.drop_duplicates(subset='Mes').assign(OrdenMes=lambda x: x['Mes'].apply(mes_a_numero)).dropna(subset=['Mes'])\n",
    "\n",
    "# Replace 'Setiembre' with 'Septiembre' in the specified columns\n",
    "prepa_f.replace('Setiembre', 'Septiembre', inplace=True)\n",
    "prepa_ts['MES-COMPROMISO'].replace('Setiembre', 'Septiembre', inplace=True)\n",
    "\n"
   ]
  },
  {
   "cell_type": "code",
   "execution_count": 9,
   "id": "b699e302-8ab0-4b5a-8bb6-4e81d4330440",
   "metadata": {},
   "outputs": [
    {
     "data": {
      "text/html": [
       "<div>\n",
       "<style scoped>\n",
       "    .dataframe tbody tr th:only-of-type {\n",
       "        vertical-align: middle;\n",
       "    }\n",
       "\n",
       "    .dataframe tbody tr th {\n",
       "        vertical-align: top;\n",
       "    }\n",
       "\n",
       "    .dataframe thead th {\n",
       "        text-align: right;\n",
       "    }\n",
       "</style>\n",
       "<table border=\"1\" class=\"dataframe\">\n",
       "  <thead>\n",
       "    <tr style=\"text-align: right;\">\n",
       "      <th></th>\n",
       "      <th>Mes_id</th>\n",
       "      <th>Mes</th>\n",
       "      <th>OrdenMes</th>\n",
       "    </tr>\n",
       "  </thead>\n",
       "  <tbody>\n",
       "    <tr>\n",
       "      <th>0</th>\n",
       "      <td>0</td>\n",
       "      <td>Julio</td>\n",
       "      <td>7.0</td>\n",
       "    </tr>\n",
       "    <tr>\n",
       "      <th>1</th>\n",
       "      <td>1</td>\n",
       "      <td>Agosto</td>\n",
       "      <td>8.0</td>\n",
       "    </tr>\n",
       "    <tr>\n",
       "      <th>2</th>\n",
       "      <td>2</td>\n",
       "      <td>Septiembre</td>\n",
       "      <td>9.0</td>\n",
       "    </tr>\n",
       "    <tr>\n",
       "      <th>3</th>\n",
       "      <td>3</td>\n",
       "      <td>Bloqueo de AF</td>\n",
       "      <td>NaN</td>\n",
       "    </tr>\n",
       "    <tr>\n",
       "      <th>4</th>\n",
       "      <td>4</td>\n",
       "      <td>Enero</td>\n",
       "      <td>1.0</td>\n",
       "    </tr>\n",
       "    <tr>\n",
       "      <th>5</th>\n",
       "      <td>5</td>\n",
       "      <td>Febrero</td>\n",
       "      <td>2.0</td>\n",
       "    </tr>\n",
       "    <tr>\n",
       "      <th>6</th>\n",
       "      <td>6</td>\n",
       "      <td>Marzo</td>\n",
       "      <td>3.0</td>\n",
       "    </tr>\n",
       "    <tr>\n",
       "      <th>7</th>\n",
       "      <td>7</td>\n",
       "      <td>Abril</td>\n",
       "      <td>4.0</td>\n",
       "    </tr>\n",
       "    <tr>\n",
       "      <th>8</th>\n",
       "      <td>8</td>\n",
       "      <td>Mayo</td>\n",
       "      <td>5.0</td>\n",
       "    </tr>\n",
       "    <tr>\n",
       "      <th>9</th>\n",
       "      <td>9</td>\n",
       "      <td>Junio</td>\n",
       "      <td>6.0</td>\n",
       "    </tr>\n",
       "    <tr>\n",
       "      <th>10</th>\n",
       "      <td>10</td>\n",
       "      <td>Pendiente</td>\n",
       "      <td>NaN</td>\n",
       "    </tr>\n",
       "    <tr>\n",
       "      <th>11</th>\n",
       "      <td>11</td>\n",
       "      <td>Nuevas EA</td>\n",
       "      <td>NaN</td>\n",
       "    </tr>\n",
       "  </tbody>\n",
       "</table>\n",
       "</div>"
      ],
      "text/plain": [
       "    Mes_id            Mes  OrdenMes\n",
       "0        0          Julio       7.0\n",
       "1        1         Agosto       8.0\n",
       "2        2     Septiembre       9.0\n",
       "3        3  Bloqueo de AF       NaN\n",
       "4        4          Enero       1.0\n",
       "5        5        Febrero       2.0\n",
       "6        6          Marzo       3.0\n",
       "7        7          Abril       4.0\n",
       "8        8           Mayo       5.0\n",
       "9        9          Junio       6.0\n",
       "10      10      Pendiente       NaN\n",
       "11      11      Nuevas EA       NaN"
      ]
     },
     "execution_count": 9,
     "metadata": {},
     "output_type": "execute_result"
    }
   ],
   "source": [
    "mes_dim"
   ]
  },
  {
   "cell_type": "code",
   "execution_count": 10,
   "id": "c0f2f672-9471-4a1a-8644-07b90e7b7147",
   "metadata": {},
   "outputs": [
    {
     "name": "stdout",
     "output_type": "stream",
     "text": [
      "el df entra con: 179. y sale con 179,hay una diferencia de 0 filas\n",
      "el df entra con: 1297. y sale con 1297,hay una diferencia de 0 filas\n",
      "el df entra con: 8136. y sale con 8136,hay una diferencia de 0 filas\n",
      "el df entra con: 1987. y sale con 1987,hay una diferencia de 0 filas\n"
     ]
    }
   ],
   "source": [
    "# Relate dataframes\n",
    "prepa_f_r = relacionar_dataframes(prepa_f, mes_dim[['Mes', 'Mes_id']], 'Mes De Compromiso', 'Mes')\n",
    "EA_f_r = relacionar_dataframes(EA_f, mes_dim[['Mes', 'Mes_id']], 'Mes', 'Mes')\n",
    "prepa_ts_r = relacionar_dataframes(prepa_ts, mes_dim[['Mes', 'Mes_id']], 'MES-COMPROMISO', 'Mes')\n",
    "EA_ts_r = relacionar_dataframes(EA_ts, mes_dim[['Mes', 'Mes_id']], 'Mes', 'Mes')\n",
    "\n",
    "# Drop unnecessary columns\n",
    "EA_f_r.drop(columns=['FECHA_DOC'], inplace=True)\n",
    "prepa_ts_r.drop(columns=['TIME Format'], inplace=True)\n",
    "EA_ts_r.drop(columns=['Fecha_DOC', 'DATE_FORMAT'], inplace=True)"
   ]
  },
  {
   "cell_type": "markdown",
   "id": "abcc5c90-de17-4690-9544-4690b9da6ab0",
   "metadata": {
    "jp-MarkdownHeadingCollapsed": true
   },
   "source": [
    "### Dimension Analista (Analista_dim)\n",
    "### Se relaciona con: (REDY)\n",
    "    - EA_ts : RESPONSABLE EA\n",
    "    - EA_F : RESPONSABLE_DE_EA\n",
    "    -prepa_f : Responsable3"
   ]
  },
  {
   "cell_type": "code",
   "execution_count": 11,
   "id": "2c401eb2-584a-4133-831c-06f0543060d6",
   "metadata": {},
   "outputs": [
    {
     "name": "stdout",
     "output_type": "stream",
     "text": [
      "el df entra con: 179. y sale con 179,hay una diferencia de 0 filas\n",
      "el df entra con: 1297. y sale con 1297,hay una diferencia de 0 filas\n",
      "el df entra con: 1987. y sale con 1987,hay una diferencia de 0 filas\n"
     ]
    }
   ],
   "source": [
    "Analista_dim = pd.concat([prepa_f['Responsable3'],EA_f['RESPONSABLE_DE_EA'],EA_ts['RESPONSABLE EA']])\\\n",
    "    .drop_duplicates()\\\n",
    "    .reset_index(drop=True)\\\n",
    "    .reset_index()\\\n",
    "    .rename(columns={'index': 'analista_id', 0: 'Analista'})\\\n",
    "    .replace({'Analista': {'ANNGIE': 'ANGGIE'}})\\\n",
    "    .drop_duplicates(subset='Analista')\n",
    "  \n",
    "prepa_f_r = relacionar_dataframes(prepa_f_r,Analista_dim,'Responsable3','Analista')#prepa_F\n",
    "EA_f_r = relacionar_dataframes(EA_f_r,Analista_dim,'RESPONSABLE_DE_EA','Analista')#EA_f_r\n",
    "EA_ts_r = relacionar_dataframes(EA_ts_r,Analista_dim,'RESPONSABLE EA','Analista') # EA_ts "
   ]
  },
  {
   "cell_type": "markdown",
   "id": "3f3ba848-e903-4234-9150-64583e25b0fd",
   "metadata": {
    "jp-MarkdownHeadingCollapsed": true
   },
   "source": [
    "### Dimension Contratista (Contra_dim_NP)\n",
    "### Se relaciona con: \n",
    "    -EA_f : PROVEEDOR\n",
    "    -Prepa_ts : NOMPROVEEDOR\n",
    "    -Prepa_f : Contratista"
   ]
  },
  {
   "cell_type": "code",
   "execution_count": 12,
   "id": "754584ea-7c65-4e0b-86f9-a7f52547ff00",
   "metadata": {},
   "outputs": [
    {
     "name": "stdout",
     "output_type": "stream",
     "text": [
      "el df entra con: 1297. y sale con 1297,hay una diferencia de 0 filas\n",
      "el df entra con: 8136. y sale con 8136,hay una diferencia de 0 filas\n",
      "el df entra con: 179. y sale con 179,hay una diferencia de 0 filas\n"
     ]
    }
   ],
   "source": [
    "Contra_dim_NP = pd.concat([prepa_f['Contratista'],EA_f['PROVEEDOR'],prepa_ts['NOMPROVEEDOR']])\\\n",
    "        .str.upper()\\\n",
    "        .reset_index(drop=True)\\\n",
    "        .reset_index()\\\n",
    "        .rename(columns={'index': 'contrata_id', 0: 'Contrata'})\n",
    "\n",
    "Contra_dim_NP = normalize_company_names(Contra_dim_NP,'Contrata')\n",
    "Contra_dim_NP.drop_duplicates(subset='Contrata',inplace=True)\n",
    "Contra_dim_NP.dropna(subset='Contrata',inplace=True)\n",
    "\n",
    "EA_f_r = relacionar_dataframes(EA_f_r,Contra_dim_NP,'PROVEEDOR','Contrata') \n",
    "prepa_ts_r = relacionar_dataframes(prepa_ts_r,Contra_dim_NP,'NOMPROVEEDOR','Contrata')\n",
    "prepa_f_r = relacionar_dataframes(prepa_f_r,Contra_dim_NP,'Contratista','Contrata')"
   ]
  },
  {
   "cell_type": "markdown",
   "id": "ec2916f9-fe45-49a4-93e2-61fcfb4aa6f2",
   "metadata": {
    "jp-MarkdownHeadingCollapsed": true
   },
   "source": [
    "### Dimension ESTADO Prepa(Estado_Prepa_dim_S)\n",
    "### Se relaciona con:\n",
    "    -Prepa_ts: Estado\n",
    "    -Prepa_f: Estado"
   ]
  },
  {
   "cell_type": "code",
   "execution_count": 13,
   "id": "0b7dcfde-7d4f-4204-8eec-c0559381ee65",
   "metadata": {},
   "outputs": [],
   "source": [
    "Estado_sort = pd.read_csv(r'D:\\Scripts1\\Code\\ActPEA\\CODE\\Temps\\Estados_N.txt')  # Cargo el orden de los estados  \n",
    "Estado_sort.rename(columns={'Estado_Sort':'Estado'},inplace=True)\n",
    "\n",
    "Estado_Prepa_dim = pd.concat([prepa_f['Estado'],prepa_ts['ESTADO']])\\\n",
    "                .drop_duplicates().reset_index(drop=True).reset_index(drop=False)\\\n",
    "                .rename(columns={'index': 'Estado_id', 0: 'Estado'})\n",
    "\n",
    "Estado_Prepa_dim_S = pd.merge(Estado_Prepa_dim,Estado_sort,on='Estado',how='left') # añado orden a mis estados actuales "
   ]
  },
  {
   "cell_type": "code",
   "execution_count": 14,
   "id": "7ad26b52-c99e-4a1e-a1e4-4c8a609e302d",
   "metadata": {},
   "outputs": [
    {
     "name": "stdout",
     "output_type": "stream",
     "text": [
      "el df entra con: 8136. y sale con 8136,hay una diferencia de 0 filas\n",
      "el df entra con: 179. y sale con 179,hay una diferencia de 0 filas\n"
     ]
    }
   ],
   "source": [
    "prepa_ts_r = relacionar_dataframes(prepa_ts_r,Estado_Prepa_dim_S[['Estado_id','Estado']],'ESTADO','Estado')\n",
    "prepa_f_r = relacionar_dataframes(prepa_f_r,Estado_Prepa_dim_S[['Estado_id','Estado']],'Estado','Estado')"
   ]
  },
  {
   "cell_type": "markdown",
   "id": "227d1cad-0621-4674-aa37-495251a586e6",
   "metadata": {
    "jp-MarkdownHeadingCollapsed": true
   },
   "source": [
    "### Dimension Estado de EA(Estado_EA_dim)\n",
    "###  Se relaciona con:\n",
    "    - EA_ts: ESTADO EA\n",
    "    - EA_f: Estado EA"
   ]
  },
  {
   "cell_type": "code",
   "execution_count": 15,
   "id": "648c7d95-8020-4b26-9a15-f61b958a47e3",
   "metadata": {},
   "outputs": [],
   "source": [
    "Estado_EA_dim = pd.concat([EA_ts['ESTADO EA'],EA_f['Estado de EA']]).drop_duplicates().reset_index(drop=True).reset_index(drop=False)\\\n",
    "                .rename(columns={'index': 'Estado_EA_id', 0: 'Estado_EA'})"
   ]
  },
  {
   "cell_type": "code",
   "execution_count": 16,
   "id": "abb515e5-6cf0-4695-a601-5beaee3a0efd",
   "metadata": {
    "scrolled": true
   },
   "outputs": [
    {
     "name": "stdout",
     "output_type": "stream",
     "text": [
      "el df entra con: 1987. y sale con 1987,hay una diferencia de 0 filas\n"
     ]
    }
   ],
   "source": [
    "EA_ts_r = relacionar_dataframes(EA_ts_r,Estado_EA_dim,'ESTADO EA','Estado_EA')"
   ]
  },
  {
   "cell_type": "code",
   "execution_count": 17,
   "id": "c7b6df45-8382-4f29-9b8a-5d0fcec0a75e",
   "metadata": {},
   "outputs": [
    {
     "name": "stdout",
     "output_type": "stream",
     "text": [
      "el df entra con: 1297. y sale con 1297,hay una diferencia de 0 filas\n"
     ]
    }
   ],
   "source": [
    "EA_f_r = relacionar_dataframes(EA_f_r,Estado_EA_dim,'Estado de EA','Estado_EA')"
   ]
  },
  {
   "cell_type": "markdown",
   "id": "97027da9-e03e-4d8f-8374-a5bbd7dbd72a",
   "metadata": {
    "jp-MarkdownHeadingCollapsed": true
   },
   "source": [
    "### Tabla Calendario(Calendar_dim)\n",
    "#### Se relaciona con: \n",
    "    - Prepa_ts : TIME\n",
    "    - EA_ts : TIME"
   ]
  },
  {
   "cell_type": "code",
   "execution_count": 18,
   "id": "2c4b9e22-bdd3-4e63-bb72-880f4119b1bf",
   "metadata": {},
   "outputs": [],
   "source": [
    "date_concat = pd.concat([prepa_ts['TIME'],EA_ts['TIME']]).drop_duplicates().reset_index(drop=True).reset_index(drop=False)\n",
    "##:Concateno, para crear cotas temporales\n"
   ]
  },
  {
   "cell_type": "code",
   "execution_count": 19,
   "id": "aacae97f-0d5d-46b5-9473-318197d2c6bf",
   "metadata": {},
   "outputs": [],
   "source": [
    "date_concat['TIME'] = pd.to_datetime(date_concat['TIME'])\n",
    "max_date= date_concat['TIME'].max()\n",
    "min_date= date_concat['TIME'].min()\n",
    "# Crea un rango de fechas\n",
    "date_range = pd.date_range(start=min_date, end=max_date)\n",
    "\n",
    "# Crea un DataFrame a partir del rango de fechas\n",
    "Calendar_dim = pd.DataFrame(date_range, columns=['Date'])\n",
    "Calendar_dim = Calendar_dim.reset_index().rename(columns={'index': 'Date_id'})# Este es perma"
   ]
  },
  {
   "cell_type": "code",
   "execution_count": 20,
   "id": "61e6b130-e6a1-4aa4-a0b3-e47ebc37a222",
   "metadata": {
    "scrolled": true
   },
   "outputs": [
    {
     "name": "stdout",
     "output_type": "stream",
     "text": [
      "el df entra con: 1987. y sale con 1987,hay una diferencia de 0 filas\n"
     ]
    }
   ],
   "source": [
    "EA_ts_r = relacionar_dataframes(EA_ts_r,Calendar_dim,'TIME','Date')"
   ]
  },
  {
   "cell_type": "code",
   "execution_count": 21,
   "id": "32efff29-d95a-4d36-85ed-7cc42060d832",
   "metadata": {},
   "outputs": [
    {
     "name": "stdout",
     "output_type": "stream",
     "text": [
      "el df entra con: 8136. y sale con 8136,hay una diferencia de 0 filas\n"
     ]
    }
   ],
   "source": [
    "prepa_ts_r = relacionar_dataframes(prepa_ts_r,Calendar_dim,'TIME','Date')"
   ]
  },
  {
   "cell_type": "markdown",
   "id": "c9690600-1518-48d2-bf7f-01a73a98eada",
   "metadata": {},
   "source": [
    "### Tablas de Hechos : "
   ]
  },
  {
   "cell_type": "code",
   "execution_count": 22,
   "id": "4ed9a19e-c4b5-462d-b700-1a1926cb3078",
   "metadata": {},
   "outputs": [],
   "source": [
    "prepa_f_r.to_csv(r'\\\\LIMBIPBICOV01.claro.pe\\Red Región Norte\\PowerBI\\Prepa_data\\Prepa_f.csv',index=False)\n",
    "prepa_ts_r.to_csv(r'\\\\LIMBIPBICOV01.claro.pe\\Red Región Norte\\PowerBI\\Prepa_data\\Prepa_ts.csv',index=False)\n",
    "EA_f_r.to_csv(r'\\\\LIMBIPBICOV01.claro.pe\\Red Región Norte\\PowerBI\\EAs_data\\EA_f.csv',index=False)\n",
    "EA_ts_r.to_csv(r'\\\\LIMBIPBICOV01.claro.pe\\Red Región Norte\\PowerBI\\EAs_data\\EA_ts.csv',index=False)\n"
   ]
  },
  {
   "cell_type": "markdown",
   "id": "81dcf6a8-615b-40e5-a3bc-8b3fe10129c1",
   "metadata": {},
   "source": [
    "### Dimensiones : Calendar_dim, Estado_EA_dim, Estado_Prepa_dim_S, Contra_dim_NP, Analista_dim, mes_dim"
   ]
  },
  {
   "cell_type": "code",
   "execution_count": 23,
   "id": "8bb2c966-ff39-4487-9bf0-e3cb9042989d",
   "metadata": {},
   "outputs": [],
   "source": [
    "Calendar_dim.to_csv(r'\\\\LIMBIPBICOV01.claro.pe\\Red Región Norte\\PowerBI\\Dimensiones\\Calendar_dim.csv',index=False)\n",
    "Estado_EA_dim.to_csv(r'\\\\LIMBIPBICOV01.claro.pe\\Red Región Norte\\PowerBI\\Dimensiones\\Estado_EA_dim.csv',index=False)\n",
    "Estado_Prepa_dim_S.to_csv(r'\\\\LIMBIPBICOV01.claro.pe\\Red Región Norte\\PowerBI\\Dimensiones\\Estado_Prepa_dim_S.csv',index=False)\n",
    "Contra_dim_NP.to_csv(r'\\\\LIMBIPBICOV01.claro.pe\\Red Región Norte\\PowerBI\\Dimensiones\\Contra_dim_NP.csv',index=False)\n",
    "Analista_dim.to_csv(r'\\\\LIMBIPBICOV01.claro.pe\\Red Región Norte\\PowerBI\\Dimensiones\\Analista_dim.csv',index=False)\n",
    "mes_dim.to_csv(r'\\\\LIMBIPBICOV01.claro.pe\\Red Región Norte\\PowerBI\\Dimensiones\\mes_dim.csv',index=False)\n"
   ]
  },
  {
   "cell_type": "code",
   "execution_count": null,
   "id": "9ccd85d6-2b2d-4b59-9541-13168781b1bc",
   "metadata": {},
   "outputs": [],
   "source": []
  },
  {
   "cell_type": "code",
   "execution_count": null,
   "id": "55e34bf7-c697-4910-8c9f-5a65baf998bb",
   "metadata": {},
   "outputs": [],
   "source": []
  }
 ],
 "metadata": {
  "kernelspec": {
   "display_name": "Python 3 (ipykernel)",
   "language": "python",
   "name": "python3"
  },
  "language_info": {
   "codemirror_mode": {
    "name": "ipython",
    "version": 3
   },
   "file_extension": ".py",
   "mimetype": "text/x-python",
   "name": "python",
   "nbconvert_exporter": "python",
   "pygments_lexer": "ipython3",
   "version": "3.11.5"
  }
 },
 "nbformat": 4,
 "nbformat_minor": 5
}
