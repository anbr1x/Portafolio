{
 "cells": [
  {
   "cell_type": "code",
   "execution_count": 1,
   "id": "dccce539-a221-44c5-b9ab-57a64cd4f40b",
   "metadata": {},
   "outputs": [],
   "source": [
    "import sys\n",
    "sys.path.append(r\"D:\\Scripts1\\Code\\ActPEA\\CODE\\Actu_Colums.py\")\n",
    "import pandas as pd\n",
    "import matplotlib as mptl\n",
    "import Actu_Colums as Ac\n",
    "from openpyxl import load_workbook\n",
    "from typing import Optional\n",
    "import glob,os,re\n",
    "import numpy as np\n",
    "from collections import defaultdict\n",
    "from babel.dates import format_date, format_datetime, Locale\n",
    "import datetime\n",
    "import locale\n",
    "locale.setlocale(locale.LC_TIME, 'es_ES.UTF-8')\n",
    "import pickle"
   ]
  },
  {
   "cell_type": "markdown",
   "id": "e1fce9f1-d986-4e01-9a0e-c6333be42a56",
   "metadata": {},
   "source": [
    "# La estrucutra es: \n",
    "- https://miro.com/welcomeonboard/MXJUUHNkTk5LWFFtamRMUDBUTnAxNVhDVjJyeTlzYnN5SzhzQXN6MkhwNzBsQXZoSzNBcHNsSlFMT1lIdlRrZXwzNDU4NzY0NTkxMzU2NDUxNTY0fDI=?share_link_id=885670918178\n"
   ]
  },
  {
   "cell_type": "markdown",
   "id": "43031fe5-17b8-41c0-990f-f6feb27276eb",
   "metadata": {},
   "source": [
    "# Funciones "
   ]
  },
  {
   "cell_type": "code",
   "execution_count": 50,
   "id": "0793c2d3-8249-45d1-a5e1-4694f50f74a8",
   "metadata": {},
   "outputs": [],
   "source": [
    "Today_str = datetime.date.today().strftime('%d-%m-%Y')\n",
    "Today_D_M = Today_str[0:5]\n",
    "Today_D_M = [Today_D_M[0:2],'.',Today_D_M[3:6]]\n",
    "Today_D_M = ''.join(Today_D_M)\n",
    "\n",
    "def addSite(EA_act_df : pd.DataFrame, SAP_4_use : pd.DataFrame):\n",
    "    \"\"\"Funcione que toma las tablas SAP y extrae los sites y los codigos de AHI\n",
    "        Devuelve un DF con la Informacion Añadida ahi\"\"\"\n",
    "    df_merged = pd.merge(EA_act_df,SAP_4_use,on='CONCATENADO',how='left')\n",
    "    df_merged = df_merged.drop_duplicates(subset='CONCATENADO')\n",
    "    df_merged['PEP Desc'] = df_merged['PEP Desc'].astype(str)\n",
    "    df_merged['ID_SITE_SAP'], df_merged['SITE_SAP'] = zip(*df_merged['PEP Desc'].apply(lambda x: re.split('(?<=\\d)(?=[a-zA-Z])', x) \n",
    "                                                                                           if re.search('(?<=\\d)(?=[a-zA-Z])', x) else [np.nan,x]))\n",
    "\n",
    "    # Verifica si las columnas 'SITE' e 'ID_SITIO' existen, si no, las crea\n",
    "    if 'SITE' not in df_merged.columns:\n",
    "        df_merged['SITE'] = np.nan\n",
    "    if 'ID_SITIO' not in df_merged.columns:\n",
    "        df_merged['ID_SITIO'] = np.nan\n",
    "\n",
    "    # Reemplaza los valores NaN en 'SITE' e 'ID_SITIO' con los valores de 'SITE_SAP' e 'ID_SITE_SAP'\n",
    "    df_merged['SITE'] = df_merged['SITE'].combine_first(df_merged['SITE_SAP'])\n",
    "    df_merged['ID_SITIO'] = df_merged['ID_SITIO'].combine_first(df_merged['ID_SITE_SAP'])\n",
    "\n",
    "    df_merged.SITE = df_merged.SITE.str.strip() # Quito espacios\n",
    "\n",
    "    EA_act_df = df_merged.drop(columns=['ID_SITE_SAP','SITE_SAP','Fecha OC']) # Elimino las columnas que use para el Merge \n",
    "    return EA_act_df\n",
    "    \n",
    "def get_recent_df_B(Carpeta_path: str, sheet_name: str):\n",
    "    \"\"\" Devuelve el df de la hoja especifica, del archivo mas reciente de la carpeta especificada\"\"\"\n",
    "    Path_n= Carpeta_path + '/*'\n",
    "    tipo_de_archivo = '*.xlsx'\n",
    "    # Busca el archivo más reciente\n",
    "    archivos = glob.glob(Path_n + tipo_de_archivo)\n",
    "    # Filtra los archivos que no contienen \"_\" en su nombre\n",
    "    archivos_sin_guion_bajo = [archivo for archivo in archivos if \"_\" not in os.path.basename(archivo)]\n",
    "    archivo_mas_reciente = max(archivos_sin_guion_bajo, key=os.path.getctime)\n",
    "    nombre_del_archivo_N = os.path.basename(archivo_mas_reciente)\n",
    "    print(archivo_mas_reciente)\n",
    "    # Lee el archivo sin especificar el tipo de datos\n",
    "    df = pd.read_excel(archivo_mas_reciente , sheet_name=sheet_name)\n",
    "    # Si la columna \"COMENTARIO\" existe, cambia su tipo de datos a str\n",
    "    if 'COMENTARIO' in df.columns:\n",
    "        df['COMENTARIO'] = df['COMENTARIO'].astype(str)\n",
    "    return df,nombre_del_archivo_N\n",
    "\n",
    "\n",
    "\n",
    "def get_recent_df_by_N(Carpeta_path: str, sheet_name: str, prefijo_nombre_archivo: str):\n",
    "    \"\"\" Devuelve el df de la hoja especifica, del archivo mas reciente de la carpeta especificada\"\"\"\n",
    "    # Busca el archivo más reciente que comienza con el prefijo_nombre_archivo\n",
    "    archivos = glob.glob(os.path.join(Carpeta_path, prefijo_nombre_archivo + '*.xlsx'))\n",
    "    archivo_mas_reciente = max(archivos, key=os.path.getctime)\n",
    "    nombre_del_archivo_N = os.path.basename(archivo_mas_reciente)\n",
    "    print(archivo_mas_reciente)\n",
    "    # Lee el archivo sin especificar el tipo de datos\n",
    "    df = pd.read_excel(archivo_mas_reciente , sheet_name=sheet_name)\n",
    "    # Si la columna \"COMENTARIO\" existe, cambia su tipo de datos a str\n",
    "    if 'COMENTARIO' in df.columns:\n",
    "        df['COMENTARIO'] = df['COMENTARIO'].astype(str)\n",
    "    return df, nombre_del_archivo_N\n",
    "def get_recent_df(Carpeta_path: str, sheet_name: str):\n",
    "    \"\"\" Devuelve el df de la hoja especifica, del archivo mas reciente de la carpeta especificada\"\"\"\n",
    "    Path_n= Carpeta_path + '/*'\n",
    "    tipo_de_archivo = '*.xlsx'\n",
    "    # Busca el archivo más reciente\n",
    "    archivos = glob.glob(Path_n + tipo_de_archivo)\n",
    "    archivo_mas_reciente = max(archivos, key=os.path.getmtime)\n",
    "    nombre_del_archivo_N = os.path.basename(archivo_mas_reciente)\n",
    "    print(archivo_mas_reciente)\n",
    "    # Lee el archivo sin especificar el tipo de datos\n",
    "    df = pd.read_excel(archivo_mas_reciente , sheet_name=sheet_name)\n",
    "    # Si la columna \"COMENTARIO\" existe, cambia su tipo de datos a str\n",
    "    if 'COMENTARIO' in df.columns:\n",
    "        df['COMENTARIO'] = df['COMENTARIO'].astype(str)\n",
    "    return df,nombre_del_archivo_N\n",
    "\n",
    "def get_recent_csv(Carpeta_path: str):\n",
    "    \"\"\" Devuelve el df del archivo csv más reciente de la carpeta especificada\"\"\"\n",
    "    Path_n = Carpeta_path + '/*'\n",
    "    tipo_de_archivo = '*.csv'\n",
    "    # Busca el archivo más reciente\n",
    "    archivos = glob.glob(Path_n + tipo_de_archivo)\n",
    "    archivo_mas_reciente = max(archivos, key=os.path.getmtime)\n",
    "    nombre_del_archivo_N = os.path.basename(archivo_mas_reciente)\n",
    "    print(archivo_mas_reciente)\n",
    "    # Lee el archivo sin especificar el tipo de datos\n",
    "    df = pd.read_csv(archivo_mas_reciente)\n",
    "    # Si la columna \"COMENTARIO\" existe, cambia su tipo de datos a str\n",
    "    if 'COMENTARIO' in df.columns:\n",
    "        df['COMENTARIO'] = df['COMENTARIO'].astype(str)\n",
    "    return df, nombre_del_archivo_N\n",
    "\n",
    "def Process_PAP(PAP:pd.DataFrame):\n",
    "    PAP_f = PAP[['OC Posición','N° Sol','Estado','Acción','Nombre responsable','Id.SIte',\n",
    "                 'SIte','# Días','F.Creación','F.Modifica']]\n",
    "    ##Filtro solo del norte\n",
    "    PAP_f = PAP_f.dropna(subset=['Id.SIte'])\n",
    "    PAP_f = PAP_f[PAP_f['# Días'] < 500]\n",
    "    \n",
    "    PAP_f_N = PAP_f[PAP_f['Id.SIte'].str.startswith(('L','T','SAD','CL','CAC'))].copy()\n",
    "    PAP_f_N = PAP_f_N.rename(columns={'N° Sol': 'PAP', #Rename\n",
    "                                   'SIte': 'SITE',\n",
    "                                   'Estado': 'ESTADO_PAP',\n",
    "                                    '# Días': 'ANTIGUAMIENTO_PAP',\n",
    "                                    'Id.SIte': 'ID Site',\n",
    "                                 'Nombre responsable': 'RESPONSABLE_PAP' })\n",
    "    PAP_S = Ac.split_ocs(PAP_f_N) # Spliteo OCs\n",
    "    return PAP_S\n",
    "def pre_proces(df: pd.DataFrame ,columns_2str: list[str] ,column_filter: str,C_format) -> pd.DataFrame: \n",
    "    \"\"\"Funcion que filtra y convierte a str ciertas columnas especificadas \"\"\"\n",
    "    ## Preprosecing of PREP_NEW\n",
    "    df = convert_columns(df.copy(),columns_2str,C_format ) #Convert to str a key column\n",
    "    df_EI = df.loc[df[column_filter] == 'Eduardo Iberico']#Filter\n",
    "    df_EI = df_EI.copy()  # Crea una copia del DataFrame original para evitar modificar los datos originales\n",
    "    return df_EI\n",
    "def convert_columns(df, columns,type):\n",
    "    for column in columns:\n",
    "        df[column] = df[column].astype(type)\n",
    "    return df\n",
    "\n",
    "def split_column_melt(df, column, delimiter):\n",
    "    # Dividimos la columna en dos partes\n",
    "    df_copy=df.copy()\n",
    "    df_copy[[f'{column}1', f'{column}2']] = df_copy[column].str.split(delimiter, expand=True)\n",
    "\n",
    "    # Eliminamos la columna original\n",
    "    df_copy = df_copy.drop(columns=[column])\n",
    "\n",
    "    # Usamos melt para \"derretir\" las columnas en una sola columna\n",
    "    df1 = df_copy.melt(id_vars=[col for col in df_copy.columns if col != f'{column}1' and col != f'{column}2'], \n",
    "                  value_vars=[f'{column}1', f'{column}2'], \n",
    "                  value_name=column)\n",
    "\n",
    "    # Eliminamos la columna 'variable'\n",
    "    #df1 = df1.drop(columns=['0'])\n",
    "    return df1\n",
    "def tratar_codigo(codigo):\n",
    "    # Si el código tiene una letra extra en el medio\n",
    "    if not re.match(r'^[A-Za-z]{2}\\d{4}$', codigo):\n",
    "        # Quitar la tercera letra si es una letra\n",
    "        if codigo[2].isalpha():\n",
    "            codigo = codigo[:2] + codigo[3:]\n",
    "        # Quitar los números extras al final si son números\n",
    "        while len(codigo) > 6 and codigo[-1].isdigit():\n",
    "            codigo = codigo[:-1]\n",
    "    return codigo\n",
    "    \n",
    "map_Contr = {'HUAWEI':'HUAWEI DEL PERU S.A.C.',\n",
    "       'UNION ELECTRICA' : 'UNION ELECTRICA SA SUCURSAL DEL PER',\n",
    "       'HERASI' : 'HERASI S.A.C',\n",
    "       'TELRAD' : 'TELRAD PERU S.A.',\n",
    "       'CICSA'  : 'CICSA PERU S.A.C.',\n",
    "         'LPS'   :'LICENCIAS PROYECTOS Y SEGURIDAD Y S',\n",
    "            'TELRAD' : 'TELRAD PERU S.A.',\n",
    "            'SIAE': 'SIAE MICROELETTRONICA S.A.C',\n",
    "            'REDSETEL':'RED DE SERVICIOS Y TELECOMUNICACION ES PERU SAC REDSETEL PERU S.A.C.',\n",
    "            'SEMI':'SEMI PERU MONTAJES INDUSTRIALES S.A.C.',\n",
    "            'MEG':'MEG PERU S.A.C.',\n",
    "            'COMFUTURA':'COMUNICACION FUTURA SOCIEDAD ANONIM',\n",
    "            'CJ TELECOM':'CJ TELECOM S.A.C'}\n",
    "\n",
    "def compact_rows(df:pd.DataFrame, columns:list, delimiter:str ='/'):\n",
    "    for col in OT_cut_RRL_2M.columns:\n",
    "        df[col] = df[col].astype(str)\n",
    "    \n",
    "    # Usar 'join' como función de agregación para concatenar los valores\n",
    "    agg_func = {col: lambda x: '/'.join(x.unique()) for col in df.columns if col not in  columns}\n",
    "    \n",
    "    # Agrupar por 'OC Posición' y aplicar la función de agregación\n",
    "    df1 = df.groupby(columns).agg(agg_func).reset_index()\n",
    "    return df1\n",
    "def contar_prefijos(lista):\n",
    "        contador = defaultdict(int)\n",
    "        for cadena in lista:\n",
    "            for i in range(1, len(cadena) + 1):\n",
    "                prefijo = cadena[:i]\n",
    "                contador[prefijo] += 1\n",
    "        return contador\n",
    "\n",
    "def normalize_company_names(df, column):\n",
    "    \"\"\"Normaliza los nombres de las empresas en la columna especificada del DataFrame.\"\"\"\n",
    "    # Reemplaza \"SAC\" o \"S. A. C.\" al final de los nombres de las empresas con \"S.A.C\"\n",
    "    df[column] = df[column].str.replace(r\"(SAC|S\\. ?A\\. ?C\\.)$\", \"S.A.C.\", regex=True)\n",
    "    return df\n",
    "\n",
    "\n",
    "def merge_dataframes(df1, df2, merge_on, index):\n",
    "    merged_df = pd.merge(df1, df2, on=merge_on, how='left')\n",
    "    merged_df = merged_df.drop_duplicates()\n",
    "    #print(\"filas originales: \",len(merged_df))\n",
    "    #print(\"filas index: \",len(index))\n",
    "    merged_df.set_index(index, inplace=True)\n",
    "    return merged_df\n",
    "def update_and_rename(df1, update_cols, new_names):\n",
    "    df = df1.copy()\n",
    "    for col in update_cols:\n",
    "        df[col[0]].update(df[col[1]])\n",
    "    df.rename(columns=new_names, inplace=True)\n",
    "    df.drop(columns=[col for sublist in update_cols for col in sublist[1:]], inplace=True)\n",
    "    return df\n",
    "def combine_and_rename(df1, combine_cols, new_names):\n",
    "    df = df1.copy()\n",
    "    for cols in combine_cols:\n",
    "        df[cols[0]] = df[cols[0]].combine_first(df[cols[1]])\n",
    "    df.rename(columns=new_names, inplace=True)\n",
    "    df.drop(columns=[col for sublist in combine_cols for col in sublist[1:]], inplace=True)\n",
    "    return df\n",
    "def load_merge(directorio:str):\n",
    "    # Dicc para almacenar los DataFrames\n",
    "    dfs = {}\n",
    "    # Itera sobre todos los archivos en el directorio\n",
    "    for filename in os.listdir(directorio):\n",
    "        file_path = os.path.join(directorio, filename)\n",
    "        # Verifica si el path es un archivo y no un directorio\n",
    "        if os.path.isfile(file_path):\n",
    "            df = pd.read_excel(file_path)  \n",
    "            # Obtiene el nombre del archivo sin la extensión\n",
    "            nombre_sin_extension = os.path.splitext(filename)[0]\n",
    "            # Añade el DataFrame al diccionario\n",
    "            dfs[nombre_sin_extension] = df\n",
    "    ## Etiqueto cada Df por su temporalidad, añado una columna mas con dicha etiqueta         \n",
    "    for tiempo, df in dfs.items():\n",
    "        df['TIME'] = tiempo\n",
    "    # Combina todos los dataframes en uno solo\n",
    "    df_combinado = pd.concat(dfs.values())\n",
    "    return df_combinado    \n",
    "def process_to_bcsv(df : pd.DataFrame,ruta_del_csv : str,Fecha: str):\n",
    "\n",
    "    df['TIME'] = Fecha\n",
    "    pivot_table = pd.pivot_table(df, values='EN_PROC_USD', index=['TIME','FECHA_DOC','RESPONSABLE_DE_EA','Estado de EA'], aggfunc=pd.Series.sum) #Agrupo \n",
    "    df_reset = pivot_table.reset_index(drop=False)\n",
    "    #convetir la columna del agrupado al formato d efehca \n",
    "    # Convierte la columna 'Fecha' a datetime\n",
    "    df_reset['TIME'] = pd.to_datetime(df_reset['TIME'],format = '%d-%m-%Y')\n",
    "    \n",
    "    # Formatea la columna 'Fecha'\n",
    "    df_reset['TIME Format'] = df_reset['TIME'].apply(lambda x: format_date(x, 'EEE dd-MM-yyyy', locale=Locale('es', 'ES')))\n",
    "    #return df_reset\n",
    "    df_reset.to_csv(ruta_del_csv, mode='a', header=False,index=False)\n",
    "def get_OCS (df:pd.DataFrame): ## Correguir esta funcion(Solo debe hacer una cosa)\n",
    "    EA_PAP_clean_4_SAP = df[(df.SITE.isna())|(df.SITE == 'nan')] #filto2\n",
    "    listocs = EA_PAP_clean_4_SAP['CONCATENADO'].astype(str).tolist() # Creo lsitas de OCS\n",
    "    resultado = [valor[4:] for valor in listocs] # Tomo los valores luego del 4500\n",
    "    \n",
    "    a,b= MostCL_prefix(resultado)\n",
    "    return a,b\n",
    "def MostCL_prefix(lista : list):\n",
    "    b = 0\n",
    "    list_n = []\n",
    "    list_n1 = {}\n",
    "    contador = contar_prefijos(lista)\n",
    "    for key in contador.keys(): \n",
    "       ###Aqui iria la nueva condicional### \n",
    "        if contador[key] < b:\n",
    "               list_n.append(key)\n",
    "        b = contador[key]\n",
    "    claves = list(contador.keys())\n",
    "    for clave_dada in list_n:\n",
    "           indice = claves.index(clave_dada)\n",
    "           clave_anterior = claves[indice - 1]\n",
    "           #list_n.append(clave_anterior)\n",
    "           list_n1[clave_anterior] = contador[clave_anterior]\n",
    "    return list_n1,contador\n",
    "def limpiar_id(df, col_id, col_nombre):\n",
    "    # Convertir la columna de ID a string para poder hacer la comparación\n",
    "    df[col_id] = df[col_id].astype(str)\n",
    "    \n",
    "    # Crear una función para limpiar el nombre\n",
    "    def limpiar_nombre(row):\n",
    "        nombre = str(row[col_nombre])  # Convertir el nombre a string\n",
    "        id_actual = row[col_id]\n",
    "        \n",
    "        # Dividir el nombre por \"_\" y \"-\"\n",
    "        partes = re.split('_|-| ', nombre)\n",
    "        \n",
    "        # Si el ID está en el nombre, eliminarlo\n",
    "        if id_actual in partes:\n",
    "            partes.remove(id_actual)\n",
    "        \n",
    "        # Devolver el nombre limpio\n",
    "        return ' '.join(partes)\n",
    "    \n",
    "    # Aplicar la función de limpieza a cada fila del DataFrame\n",
    "    df[col_nombre] = df.apply(limpiar_nombre, axis=1)\n",
    "    \n",
    "    return df\n"
   ]
  },
  {
   "cell_type": "markdown",
   "id": "31632e6f-33b0-4e35-afba-f95a024da7f1",
   "metadata": {},
   "source": [
    "# Cargo Archivos "
   ]
  },
  {
   "cell_type": "code",
   "execution_count": 3,
   "id": "12421e49-fb6e-4767-aeb8-d9e7cfc65c00",
   "metadata": {},
   "outputs": [
    {
     "name": "stdout",
     "output_type": "stream",
     "text": [
      "D:\\Scripts1\\Code\\ActPEA\\archvis\\PEXT_S\\SEGUIMIENTO DE PROYECTOS 2024-3.xlsx\n"
     ]
    },
    {
     "name": "stderr",
     "output_type": "stream",
     "text": [
      "C:\\Users\\C26764\\AppData\\Local\\Programs\\Python\\Python311\\Lib\\site-packages\\openpyxl\\worksheet\\_reader.py:329: UserWarning: Data Validation extension is not supported and will be removed\n",
      "  warn(msg)\n"
     ]
    }
   ],
   "source": [
    "PEXT,_ = get_recent_df(r'D:\\Scripts1\\Code\\ActPEA\\archvis\\PEXT_S',sheet_name='General')"
   ]
  },
  {
   "cell_type": "code",
   "execution_count": 4,
   "id": "6a8db6a1-5e5b-445a-ab13-7a1a98018e6f",
   "metadata": {},
   "outputs": [
    {
     "name": "stdout",
     "output_type": "stream",
     "text": [
      "C:\\Users\\C26764\\America Movil Peru S.A.C\\EAS - 2\\Pendiente de entrada al 30.06.24.xlsx\n"
     ]
    }
   ],
   "source": [
    "PEA,nombre_del_archivo_N = get_recent_df_by_N(r'C:\\Users\\C26764\\America Movil Peru S.A.C\\EAS - 2',sheet_name= 'DATA',\n",
    "                                              prefijo_nombre_archivo='Pendiente de entrada al') "
   ]
  },
  {
   "cell_type": "code",
   "execution_count": 5,
   "id": "abc78ba3-f73e-4ae6-9e36-c6b7c14734fc",
   "metadata": {},
   "outputs": [
    {
     "name": "stdout",
     "output_type": "stream",
     "text": [
      "El reporte es de hace 4 dias\n"
     ]
    }
   ],
   "source": [
    "from datetime import datetime ## Calculo la aniguedad del Reporte \n",
    "Fecha_reporte = nombre_del_archivo_N[-13:-8].replace('.','-')\n",
    "Fecha_reporte_DT = datetime.strptime(Fecha_reporte, \"%d-%m\")\n",
    "Today2C = datetime.strptime(Today_str[:-5], \"%d-%m\")\n",
    "a = Today2C - Fecha_reporte_DT\n",
    "if Fecha_reporte_DT == Today2C:\n",
    "    reporte_old = False\n",
    "    print(\"El reporte es actual\")\n",
    "elif Fecha_reporte_DT < Today2C:\n",
    "    reporte_old = True\n",
    "    print(f\"El reporte es de hace {a.days} dias\")\n"
   ]
  },
  {
   "cell_type": "code",
   "execution_count": 6,
   "id": "6f55c9db-3b1a-4a93-9521-888949deb62f",
   "metadata": {},
   "outputs": [
    {
     "name": "stdout",
     "output_type": "stream",
     "text": [
      "D:\\Scripts1\\Code\\ActPEA\\archvis\\PAP\\PAP 04.07.xlsx\n",
      "D:\\Scripts1\\Code\\ActPEA\\archvis\\PAP\\Administrativo\\PAP_A_04.07.2024.xlsx\n"
     ]
    }
   ],
   "source": [
    "##########PAP################ MAIN_2\n",
    "PAP_O,_ = get_recent_df_B(r'D:\\Scripts1\\Code\\ActPEA\\archvis\\PAP','Hoja2')# PAP de Otros\n",
    "PAP_A,_ = get_recent_df(r'D:\\Scripts1\\Code\\ActPEA\\archvis\\PAP\\Administrativo','Hoja2')# PAP de Admin\n",
    "PAP = pd.concat([PAP_O,PAP_A])\n",
    "PAP_N_S = Process_PAP(PAP)"
   ]
  },
  {
   "cell_type": "code",
   "execution_count": 7,
   "id": "3f552802-d81a-4d0d-9440-f85738c29949",
   "metadata": {},
   "outputs": [
    {
     "name": "stdout",
     "output_type": "stream",
     "text": [
      "D:\\Scripts1\\Code\\ActPEA\\archvis\\OTs\\OTS 01.07.2024.xlsx\n"
     ]
    }
   ],
   "source": [
    "################## Archivo PAP OTs #################################\n",
    "OT,_= get_recent_df(r'D:\\Scripts1\\Code\\ActPEA\\archvis\\OTs','Hoja2')\n",
    "OT = OT[OT['Status OT'] != 'PDTE CONTRATA'] #\t\n",
    "OT = OT[OT['Status OT'] != 'PDTE RESPONSABLE'].copy()\n",
    "def cortar_hora(fecha_hora_str):\n",
    "    return fecha_hora_str.split(\" \")[0]\n",
    "\n",
    "# Aplica la función a toda la columna 'fecha_hora'\n",
    "OT['Fecha de Creación'] = OT['Fecha de Creación'].apply(cortar_hora)\n",
    "OT['Fecha de Creación'] = pd.to_datetime(OT['Fecha de Creación'], format='%d/%m/%Y',dayfirst=True)\n",
    "fecha_limite = pd.Timestamp('2022-01-01')\n",
    "OT_cut = OT[OT['Fecha de Creación'] > fecha_limite].copy() # Corto las OTs solo de este año \n",
    "OT_cut = normalize_company_names(OT_cut,'Contrata')\n"
   ]
  },
  {
   "cell_type": "markdown",
   "id": "37f184a8-df85-4d76-bb92-e592ceaec207",
   "metadata": {},
   "source": [
    "# Preproces \n"
   ]
  },
  {
   "cell_type": "markdown",
   "id": "603dbcab-27c2-43e2-9181-8b13363dbf6d",
   "metadata": {},
   "source": [
    "## OTs-RollOut"
   ]
  },
  {
   "cell_type": "code",
   "execution_count": 8,
   "id": "e6a27aa6-c5ba-4c8a-991d-c47af7c40662",
   "metadata": {},
   "outputs": [],
   "source": [
    "Proyectos = ['ROLLOUT - 2023','ROLLOUT - 2022','ROLLOUT - 2024']\n",
    "OT_cut_RRL = OT_cut[OT_cut.Etiqueta.isin(Proyectos)].copy()\n",
    "OT_cut_RRL.rename(columns={'Codigo de Site':'ID_SITIO',\n",
    "                           'Contrata':'PROVEEDOR',\n",
    "                           'Nombre de Site':'SITE'},inplace=True)\n",
    "OT_cut_RRL_2M = OT_cut_RRL[['OT','ID_SITIO','SITE','Proyecto','PROVEEDOR','Status OT']].copy()\n",
    "## Agg 4 singles index\n",
    "OT_agg_ID_PRO = compact_rows(OT_cut_RRL_2M,['ID_SITIO','PROVEEDOR'],'/')\n",
    "OT_agg_ID_NM_PRO = compact_rows(OT_cut_RRL_2M,['ID_SITIO','SITE','PROVEEDOR'],'/')\n"
   ]
  },
  {
   "cell_type": "markdown",
   "id": "22638442-b38c-479c-a867-5f8b2b6d98d4",
   "metadata": {},
   "source": [
    "## OTs-Moder"
   ]
  },
  {
   "cell_type": "code",
   "execution_count": 9,
   "id": "ba383fd3-977f-46e0-b1b6-d2fa155aa103",
   "metadata": {},
   "outputs": [],
   "source": [
    "OT_cut_M = OT_cut[OT_cut.Proyecto == 'EXPANSIÓN'].copy()\n",
    "\n",
    "OT_cut_M.rename(columns={'Codigo de Site':'ID_SITIO',\n",
    "                           'Contrata':'PROVEEDOR',\n",
    "                           'Nombre de Site':'SITE'},inplace=True)\n",
    "OT_cut_M = OT_cut_M[['OT','ID_SITIO','SITE','Proyecto','PROVEEDOR','Status OT']].copy()\n",
    "\n",
    "OT_cut_M_ID_PRO = compact_rows(OT_cut_M,['ID_SITIO','PROVEEDOR'])\n",
    "OT_cut_M_ID_N_PRO = compact_rows(OT_cut_M,['ID_SITIO','SITE','PROVEEDOR'])\n",
    "\n",
    "OT_cut_M_ID_PRO.rename(columns={'Proyecto':'RESPONSABLE_DE_EA'},inplace=True)\n",
    "OT_cut_M_ID_PRO['RESPONSABLE_DE_EA'] = 'ANGGIE'\n",
    "\n",
    "OT_cut_M_ID_N_PRO.rename(columns={'Proyecto':'RESPONSABLE_DE_EA'},inplace=True)\n",
    "OT_cut_M_ID_N_PRO['RESPONSABLE_DE_EA'] = 'ANGGIE'"
   ]
  },
  {
   "cell_type": "markdown",
   "id": "4496fe9f-02a9-43d5-8fb2-47f7982fdcc0",
   "metadata": {},
   "source": [
    "## OTs-Energia"
   ]
  },
  {
   "cell_type": "code",
   "execution_count": 10,
   "id": "03d3bf80-dfee-4d8e-a102-89b52ceaf9b8",
   "metadata": {},
   "outputs": [
    {
     "data": {
      "text/plain": [
       "Status OT\n",
       "ING               207\n",
       "CW/TI              45\n",
       "FINALIZADO         17\n",
       "FINALIZADO/ING      1\n",
       "ING/CW/TI           1\n",
       "Name: count, dtype: int64"
      ]
     },
     "execution_count": 10,
     "metadata": {},
     "output_type": "execute_result"
    }
   ],
   "source": [
    "fecha_limite = pd.Timestamp('2023-02-15')\n",
    "OT_cut = OT[OT['Fecha de Creación'] > fecha_limite].copy() # Corto las OTs solo de este año \n",
    "OT_cut = normalize_company_names(OT_cut,'Contrata')\n",
    "\n",
    "OT_cut_E = OT_cut[OT_cut['Tipo Req'] == 'MANT. MEJORA DE RED'].copy()\n",
    "Proy_energia = ['AC ESTABILIZADA','AA','INCREMENTO DE POTENCIA (INTERNO - CONSTRUCCIÓN)',\n",
    "                'AC COMERCIAL','ENERGÍA DC','AMPLIACION DE POTENCIA']\n",
    "OT_cut_E.rename(columns={'Codigo de Site':'ID_SITIO',\n",
    "                           'Contrata':'PROVEEDOR',\n",
    "                           'Nombre de Site':'SITE'},inplace=True)\n",
    "\n",
    "OT_cut_E = OT_cut_E[OT_cut_E.Proyecto.isin(Proy_energia)][['OT','ID_SITIO','SITE','Proyecto','PROVEEDOR','Status OT']].copy()\n",
    "OT_cut_E_ID_PRO = compact_rows(OT_cut_E,['ID_SITIO','PROVEEDOR'])\n",
    "OT_cut_E_ID_PRO.rename(columns={'Proyecto':'RESPONSABLE_DE_EA'},inplace=True)\n",
    "OT_cut_E_ID_PRO['RESPONSABLE_DE_EA'] = 'JORGE'\n",
    "\n",
    "OT_cut_E_ID_PRO['Status OT'].value_counts()"
   ]
  },
  {
   "cell_type": "markdown",
   "id": "32d266d0-fc96-4e93-88fa-8f03967fadca",
   "metadata": {},
   "source": [
    "## PEA "
   ]
  },
  {
   "cell_type": "code",
   "execution_count": 11,
   "id": "f56afafb-8153-4e09-9c63-d0ca9258b7ef",
   "metadata": {},
   "outputs": [],
   "source": [
    "############################################### PEA #####################################################################\n",
    "PEA_EI_NC = pre_proces(PEA,['DOC_PREC', 'POS_PREC','CONCATENADO'],'SOLICITANTE','int64') # Truca el . decimal\n",
    "PEA_EI_NC = normalize_company_names(PEA_EI_NC,'PROVEEDOR')\n",
    "PEA_EI = pre_proces(PEA_EI_NC,['DOC_PREC', 'POS_PREC','CONCATENADO'],'SOLICITANTE','str')  # 2 STR \n",
    "#####################################################################################################\n",
    "###############################################################################################3\n",
    "PEA_EI.loc[:, \"OC Posición\"] = PEA_EI.loc[:, \"DOC_PREC\"].str.cat(PEA_EI.loc[:, \"POS_PREC\"], sep= \":\")\n",
    "Cash_In = PEA_EI[\"EN_PROC_USD\"].sum() #Mont of USD \n",
    "PEA_EI_NCD = PEA_EI[PEA_EI.ID_SITIO.isna()]\n",
    "PEA_EI_CD = PEA_EI[~PEA_EI.ID_SITIO.isna()].copy()\n",
    "# Tratar los códigos\n",
    "PEA_EI_CD['ID_SITIO'] = PEA_EI_CD['ID_SITIO'].apply(tratar_codigo)\n",
    "PEA_EI = pd.concat([PEA_EI_CD,PEA_EI_NCD])"
   ]
  },
  {
   "cell_type": "markdown",
   "id": "e6cf0da5-452e-4742-9f03-66871b6332ff",
   "metadata": {},
   "source": [
    "## PEXT"
   ]
  },
  {
   "cell_type": "code",
   "execution_count": 12,
   "id": "9b932d52-a385-4e17-8779-6e481ec132a2",
   "metadata": {},
   "outputs": [],
   "source": [
    "PEXT.loc[:,'REQ'] = PEXT.loc[:,'REQ'].fillna(0000)"
   ]
  },
  {
   "cell_type": "code",
   "execution_count": 13,
   "id": "20668c39-8944-42f3-8a03-113e238bd0e0",
   "metadata": {},
   "outputs": [],
   "source": [
    "\n",
    "PEXT_N = PEXT[PEXT.REGION == 'NORTE'].iloc[:,1:][['REQ','ID','SITE','RESPONSABLE DE IMPLEMENTACION','CONTRATISTA','ESTATUS GENERAL','ORDEN DE COMPRA','POS']]\n",
    "PEXT_N['REQ'] = PEXT_N['REQ'].astype('int32')\n",
    "PEXT_N[['ORDEN DE COMPRA', 'POS']] = PEXT_N[['ORDEN DE COMPRA', 'POS']].astype(str)\n",
    "PEXT_N.loc[:, \"OC Posición\"] = PEXT_N.loc[:, \"ORDEN DE COMPRA\"].str.cat(PEXT_N.loc[:, \"POS\"], sep= \":\")\n",
    "PEXT_N.replace({'ORDEN DE COMPRA': {'nan': np.nan}, 'POS': {'nan': np.nan}, 'OC Posición': {'nan:nan': np.nan}}, inplace=True)\n",
    "PEXT_N.drop(columns=['ORDEN DE COMPRA','POS'], inplace=True)\n",
    "PEXT_N_OCs = PEXT_N[~PEXT_N['OC Posición'].isna()].copy()\n",
    "PEXT_N_OCs['REQ'] = PEXT_N_OCs['REQ'].astype(str)\n"
   ]
  },
  {
   "cell_type": "code",
   "execution_count": 14,
   "id": "a3da0c56-dd14-46a5-b8ec-22d82b988a2c",
   "metadata": {},
   "outputs": [],
   "source": [
    "for col in PEXT_N_OCs.columns:\n",
    "    PEXT_N_OCs[col] = PEXT_N_OCs[col].astype(str)\n",
    "\n",
    "agg_func = {col: 'first' for col in PEXT_N_OCs.columns if col != 'OC Posición'}\n",
    "# Agrupar por 'Asignatura' y aplicar la función de agregación\n",
    "PEXT_agg = PEXT_N_OCs.groupby('OC Posición').agg(agg_func).reset_index()\n"
   ]
  },
  {
   "cell_type": "markdown",
   "id": "41be4b5b-f25b-49ff-a374-581275b7f33b",
   "metadata": {},
   "source": [
    "# PROCES MAIN\n",
    " - @TODO, Cambiar el orden del PAP y la tabla SAP "
   ]
  },
  {
   "cell_type": "markdown",
   "id": "2966b004-081e-4aa4-b700-096837a2a801",
   "metadata": {},
   "source": [
    "## Actualizo alguna informacion de la tablas SAP(SAP_4_use/DB PAP) -- Solo se ejecuta cuando hay nuevo reporte "
   ]
  },
  {
   "cell_type": "markdown",
   "id": "e683059c-b359-4d95-98d7-3b30175b420a",
   "metadata": {},
   "source": [
    "### TABLAS SAP - DB SITE PAP"
   ]
  },
  {
   "cell_type": "code",
   "execution_count": 15,
   "id": "ed057825-9164-424b-9566-a95af0e2cb5a",
   "metadata": {},
   "outputs": [
    {
     "name": "stdout",
     "output_type": "stream",
     "text": [
      "<class 'pandas.core.frame.DataFrame'>\n",
      "Index: 1297 entries, 49 to 10898\n",
      "Data columns (total 49 columns):\n",
      " #   Column                    Non-Null Count  Dtype         \n",
      "---  ------                    --------------  -----         \n",
      " 0   CONCATENADO               1297 non-null   object        \n",
      " 1   DOC_PREC                  1297 non-null   object        \n",
      " 2   POS_PREC                  1297 non-null   object        \n",
      " 3   FECHA_DOC                 1297 non-null   datetime64[ns]\n",
      " 4   Estrategia de Liberación  1294 non-null   object        \n",
      " 5   Cod.Solicitante           1297 non-null   object        \n",
      " 6   SOLICITANTE               1297 non-null   object        \n",
      " 7   TIPO_DOC                  1297 non-null   object        \n",
      " 8   TIPO DE MATERIAL          1297 non-null   object        \n",
      " 9   MATERIAL                  1297 non-null   int64         \n",
      " 10  TEXTO                     1297 non-null   object        \n",
      " 11  COD_PROVEEDOR             1294 non-null   float64       \n",
      " 12  PROVEEDOR                 1294 non-null   object        \n",
      " 13  CENTRO_GESTOR             1297 non-null   object        \n",
      " 14  POS_PRESUP                1297 non-null   object        \n",
      " 15  MONEDA_ORIG               1297 non-null   object        \n",
      " 16  COMPROMETIDO              1297 non-null   float64       \n",
      " 17  RECIBIDO                  1297 non-null   float64       \n",
      " 18  EN_PROCESO                1297 non-null   float64       \n",
      " 19  CARRY                     0 non-null      object        \n",
      " 20  COMPROM_USD               1297 non-null   float64       \n",
      " 21  RECIBIDO_USD              1297 non-null   float64       \n",
      " 22  EN_PROC_USD               1297 non-null   float64       \n",
      " 23  ESTATUS                   1297 non-null   object        \n",
      " 24  PPTO_INICIAL              1297 non-null   int64         \n",
      " 25  RECLA_INTERNA             1297 non-null   int64         \n",
      " 26  PPTO_FINAL                1297 non-null   int64         \n",
      " 27  TIPO_PRES                 1297 non-null   object        \n",
      " 28  TIPO_PRY                  1297 non-null   object        \n",
      " 29  SUB_DIRECCION             1297 non-null   object        \n",
      " 30  CE_GESTOR                 1297 non-null   object        \n",
      " 31  RUBRO                     1297 non-null   object        \n",
      " 32  TIPO_PROYECTOS            1297 non-null   object        \n",
      " 33  fecha reporte             1297 non-null   datetime64[ns]\n",
      " 34  AÑO                       1297 non-null   int64         \n",
      " 35  Proyecto CAPEX            1297 non-null   object        \n",
      " 36  NOMBRE PROYECTO           1297 non-null   object        \n",
      " 37  DESCRIPCIÓN PROYECTO      1297 non-null   object        \n",
      " 38  PEP                       1292 non-null   object        \n",
      " 39  T.CAMBIO                  1297 non-null   float64       \n",
      " 40  CLASIF_FINANZAS           1297 non-null   object        \n",
      " 41  CLASIF_RED_1              1297 non-null   object        \n",
      " 42  CLASIF_RED_2              1297 non-null   object        \n",
      " 43  ID_SITIO                  1292 non-null   object        \n",
      " 44  NUM_SOT                   1292 non-null   object        \n",
      " 45  NATURALEZA                1292 non-null   object        \n",
      " 46  BLOQUEO                   0 non-null      object        \n",
      " 47  FECHA_VENTA               0 non-null      object        \n",
      " 48  OC Posición               1297 non-null   object        \n",
      "dtypes: datetime64[ns](2), float64(8), int64(5), object(34)\n",
      "memory usage: 506.6+ KB\n"
     ]
    }
   ],
   "source": [
    "PEA_EI.info()"
   ]
  },
  {
   "cell_type": "code",
   "execution_count": 16,
   "id": "32298efc-2171-404a-ba9d-cddd47e750dd",
   "metadata": {},
   "outputs": [
    {
     "name": "stdout",
     "output_type": "stream",
     "text": [
      "El reporte es OLD, uso la base\n"
     ]
    }
   ],
   "source": [
    "if not reporte_old:\n",
    "    directorio = r'D:\\Scripts1\\Code\\ActPEA\\archvis\\Tablas SAP'\n",
    "    SAP_4_use = (load_merge(directorio)\n",
    "                  .pipe(Ac.convert_columns_to_str, ['OC','Pos']) # Uso pipe para poder encadenar funciones, dentro de pipe puedo pasar cualquier funcion a ejecutar en el df con sus argumentos\n",
    "                  .assign(CONCATENADO=lambda df: df[\"OC\"].str.cat(df[\"Pos\"], sep=\"\"))\n",
    "                  .loc[:, ['CONCATENADO','PEP Desc','Fecha OC']]\n",
    "                  .replace({'PEP Desc': {'TJ5125-SANTIAGO DE CHUCO' : 'TJ5125-SANTIAGO_DE_CHUCO'}})\n",
    "                  .dropna(subset=['PEP Desc']))\n",
    "\n",
    "    EA_4 = PEA_EI[PEA_EI.CONCATENADO.astype(str).str.startswith('4')]\n",
    "    EA_2 = PEA_EI[~PEA_EI.CONCATENADO.astype(str).str.startswith('4')]\n",
    "\n",
    "    EA_SAP = pd.concat([addSite(EA_4.astype(str), SAP_4_use).drop(columns=['PEP Desc']), EA_2], axis=0)\n",
    "    EA_SAP.loc[:,'SITE'].replace('nan',np.nan,inplace=True)\n",
    "    EA_SAP_SITE = pd.merge(EA_SAP,PAP_DB,on='ID_SITIO',how='left')\n",
    "    EA_SAP_SITE = combine_and_rename(EA_SAP_SITE,[('SITE_x', 'SITE_y')],{'SITE_x':'SITE'})\n",
    "    a,b = get_OCS(EA_SAP_SITE)\n",
    "    EA_SAP_SITE.to_csv(r'D:\\Scripts1\\Code\\ActPEA\\CODE\\Temps\\Base_EAS',index=False)\n",
    "    print(\"Aun faltan descargar: ver variable 'a'&'b'\")\n",
    "    print(\"Actualizo info de las Tablas SAP\")\n",
    "else:\n",
    "    print(\"El reporte es OLD, uso la base\")\n"
   ]
  },
  {
   "cell_type": "code",
   "execution_count": 17,
   "id": "5d55a712-a039-4872-8765-ddd4aaded663",
   "metadata": {
    "scrolled": true
   },
   "outputs": [
    {
     "data": {
      "text/plain": [
       "datetime.timedelta(days=4)"
      ]
     },
     "execution_count": 17,
     "metadata": {},
     "output_type": "execute_result"
    }
   ],
   "source": [
    "a"
   ]
  },
  {
   "cell_type": "markdown",
   "id": "e22ab32f-6541-4612-b7df-170a76448e05",
   "metadata": {},
   "source": [
    "## Actualizo alguna informacion del PAP(PAP2M)"
   ]
  },
  {
   "cell_type": "code",
   "execution_count": 18,
   "id": "bee3314d-c35a-471b-a829-961c2cc52731",
   "metadata": {},
   "outputs": [],
   "source": [
    "EA_SAP_load = pd.read_csv(r'D:\\Scripts1\\Code\\ActPEA\\CODE\\Temps\\Base_EAS') # literalmete uso la base \n",
    "#EA_SAP_load.drop(columns=['PEP Desc'],inplace=True)"
   ]
  },
  {
   "cell_type": "code",
   "execution_count": 19,
   "id": "29cca16e-93ee-4236-93a9-aeba6a9c6799",
   "metadata": {},
   "outputs": [
    {
     "name": "stdout",
     "output_type": "stream",
     "text": [
      "<class 'pandas.core.frame.DataFrame'>\n",
      "RangeIndex: 1297 entries, 0 to 1296\n",
      "Data columns (total 50 columns):\n",
      " #   Column                    Non-Null Count  Dtype  \n",
      "---  ------                    --------------  -----  \n",
      " 0   CONCATENADO               1297 non-null   int64  \n",
      " 1   DOC_PREC                  1297 non-null   int64  \n",
      " 2   POS_PREC                  1297 non-null   int64  \n",
      " 3   FECHA_DOC                 1297 non-null   object \n",
      " 4   Estrategia de Liberación  1294 non-null   object \n",
      " 5   Cod.Solicitante           1297 non-null   object \n",
      " 6   SOLICITANTE               1297 non-null   object \n",
      " 7   TIPO_DOC                  1297 non-null   object \n",
      " 8   TIPO DE MATERIAL          1297 non-null   object \n",
      " 9   MATERIAL                  1297 non-null   int64  \n",
      " 10  TEXTO                     1297 non-null   object \n",
      " 11  COD_PROVEEDOR             1294 non-null   float64\n",
      " 12  PROVEEDOR                 1294 non-null   object \n",
      " 13  CENTRO_GESTOR             1297 non-null   object \n",
      " 14  POS_PRESUP                1297 non-null   object \n",
      " 15  MONEDA_ORIG               1297 non-null   object \n",
      " 16  COMPROMETIDO              1297 non-null   float64\n",
      " 17  RECIBIDO                  1297 non-null   float64\n",
      " 18  EN_PROCESO                1297 non-null   float64\n",
      " 19  CARRY                     0 non-null      float64\n",
      " 20  COMPROM_USD               1297 non-null   float64\n",
      " 21  RECIBIDO_USD              1297 non-null   float64\n",
      " 22  EN_PROC_USD               1297 non-null   float64\n",
      " 23  ESTATUS                   1297 non-null   object \n",
      " 24  PPTO_INICIAL              1297 non-null   int64  \n",
      " 25  RECLA_INTERNA             1297 non-null   int64  \n",
      " 26  PPTO_FINAL                1297 non-null   int64  \n",
      " 27  TIPO_PRES                 1297 non-null   object \n",
      " 28  TIPO_PRY                  1297 non-null   object \n",
      " 29  SUB_DIRECCION             1297 non-null   object \n",
      " 30  CE_GESTOR                 1297 non-null   object \n",
      " 31  RUBRO                     1297 non-null   object \n",
      " 32  TIPO_PROYECTOS            1297 non-null   object \n",
      " 33  fecha reporte             1297 non-null   object \n",
      " 34  AÑO                       1297 non-null   int64  \n",
      " 35  Proyecto CAPEX            1297 non-null   object \n",
      " 36  NOMBRE PROYECTO           1297 non-null   object \n",
      " 37  DESCRIPCIÓN PROYECTO      1297 non-null   object \n",
      " 38  PEP                       1292 non-null   object \n",
      " 39  T.CAMBIO                  1297 non-null   float64\n",
      " 40  CLASIF_FINANZAS           1297 non-null   object \n",
      " 41  CLASIF_RED_1              1297 non-null   object \n",
      " 42  CLASIF_RED_2              1297 non-null   object \n",
      " 43  ID_SITIO                  1292 non-null   object \n",
      " 44  NUM_SOT                   1292 non-null   object \n",
      " 45  NATURALEZA                1292 non-null   object \n",
      " 46  BLOQUEO                   0 non-null      float64\n",
      " 47  FECHA_VENTA               0 non-null      float64\n",
      " 48  OC Posición               1297 non-null   object \n",
      " 49  SITE                      1252 non-null   object \n",
      "dtypes: float64(11), int64(8), object(31)\n",
      "memory usage: 506.8+ KB\n"
     ]
    }
   ],
   "source": [
    "EA_SAP_load.info()"
   ]
  },
  {
   "cell_type": "code",
   "execution_count": 20,
   "id": "67df921e-f9a8-4083-b6e8-559b3bd07ed0",
   "metadata": {},
   "outputs": [
    {
     "data": {
      "text/plain": [
       "1297"
      ]
     },
     "execution_count": 20,
     "metadata": {},
     "output_type": "execute_result"
    }
   ],
   "source": [
    "len(EA_SAP_load)"
   ]
  },
  {
   "cell_type": "code",
   "execution_count": 21,
   "id": "a464d370-dccd-4510-b792-854b7dbd4b15",
   "metadata": {},
   "outputs": [],
   "source": [
    "PAP2M = PAP_N_S[['PAP','ESTADO_PAP','SITE','ANTIGUAMIENTO_PAP','OC Posición','F.Creación']]   \n",
    "\n",
    "EA_SAP_PAP = pd.merge(EA_SAP_load,PAP2M,how='left',on='OC Posición')\n",
    "EA_SAP_PAP = update_and_rename(EA_SAP_PAP,[('SITE_x', 'SITE_y')],{'SITE_x':'SITE'})\n",
    "\n",
    "\n",
    "### Clean Duplicated Rows\n",
    "EA_SAP_PAP.rename(columns={'DOC_PREC':'NUMERO OC'},inplace=True) \n",
    "EA_SAP_PAP['F.Creación'] = pd.to_datetime(EA_SAP_PAP['F.Creación'], errors='coerce')\n",
    "EA_SAP_PAP['F.Creación'] = pd.to_datetime(EA_SAP_PAP['F.Creación'],format=\"%d/%m/%Y %I:%M:%S %p\")\n",
    "\n",
    "EA_duplicated = EA_SAP_PAP[EA_SAP_PAP.duplicated(subset='CONCATENADO',keep=False)].copy()\n",
    "EA_ND = EA_SAP_PAP[~EA_SAP_PAP.duplicated(subset='CONCATENADO',keep=False)].copy()\n",
    "\n",
    "EA_duplicated.sort_values('F.Creación',ascending=False, inplace=True)\n",
    "EA_duplicated_NR = EA_duplicated[EA_duplicated.ESTADO_PAP != 'Rechazado'].sort_index(ascending=False)\n",
    "\n",
    "EA_duplicated_ND = EA_duplicated_NR.drop_duplicates(subset='CONCATENADO',keep='first')\n",
    "EA_SAP_PAP = pd.concat([EA_ND,EA_duplicated_ND])"
   ]
  },
  {
   "cell_type": "code",
   "execution_count": 22,
   "id": "58e6695d-f4a3-4e86-a6ed-4d138d97dce0",
   "metadata": {},
   "outputs": [
    {
     "name": "stdout",
     "output_type": "stream",
     "text": [
      "<class 'pandas.core.frame.DataFrame'>\n",
      "Index: 1297 entries, 0 to 124\n",
      "Data columns (total 54 columns):\n",
      " #   Column                    Non-Null Count  Dtype         \n",
      "---  ------                    --------------  -----         \n",
      " 0   CONCATENADO               1297 non-null   int64         \n",
      " 1   NUMERO OC                 1297 non-null   int64         \n",
      " 2   POS_PREC                  1297 non-null   int64         \n",
      " 3   FECHA_DOC                 1297 non-null   object        \n",
      " 4   Estrategia de Liberación  1294 non-null   object        \n",
      " 5   Cod.Solicitante           1297 non-null   object        \n",
      " 6   SOLICITANTE               1297 non-null   object        \n",
      " 7   TIPO_DOC                  1297 non-null   object        \n",
      " 8   TIPO DE MATERIAL          1297 non-null   object        \n",
      " 9   MATERIAL                  1297 non-null   int64         \n",
      " 10  TEXTO                     1297 non-null   object        \n",
      " 11  COD_PROVEEDOR             1294 non-null   float64       \n",
      " 12  PROVEEDOR                 1294 non-null   object        \n",
      " 13  CENTRO_GESTOR             1297 non-null   object        \n",
      " 14  POS_PRESUP                1297 non-null   object        \n",
      " 15  MONEDA_ORIG               1297 non-null   object        \n",
      " 16  COMPROMETIDO              1297 non-null   float64       \n",
      " 17  RECIBIDO                  1297 non-null   float64       \n",
      " 18  EN_PROCESO                1297 non-null   float64       \n",
      " 19  CARRY                     0 non-null      float64       \n",
      " 20  COMPROM_USD               1297 non-null   float64       \n",
      " 21  RECIBIDO_USD              1297 non-null   float64       \n",
      " 22  EN_PROC_USD               1297 non-null   float64       \n",
      " 23  ESTATUS                   1297 non-null   object        \n",
      " 24  PPTO_INICIAL              1297 non-null   int64         \n",
      " 25  RECLA_INTERNA             1297 non-null   int64         \n",
      " 26  PPTO_FINAL                1297 non-null   int64         \n",
      " 27  TIPO_PRES                 1297 non-null   object        \n",
      " 28  TIPO_PRY                  1297 non-null   object        \n",
      " 29  SUB_DIRECCION             1297 non-null   object        \n",
      " 30  CE_GESTOR                 1297 non-null   object        \n",
      " 31  RUBRO                     1297 non-null   object        \n",
      " 32  TIPO_PROYECTOS            1297 non-null   object        \n",
      " 33  fecha reporte             1297 non-null   object        \n",
      " 34  AÑO                       1297 non-null   int64         \n",
      " 35  Proyecto CAPEX            1297 non-null   object        \n",
      " 36  NOMBRE PROYECTO           1297 non-null   object        \n",
      " 37  DESCRIPCIÓN PROYECTO      1297 non-null   object        \n",
      " 38  PEP                       1292 non-null   object        \n",
      " 39  T.CAMBIO                  1297 non-null   float64       \n",
      " 40  CLASIF_FINANZAS           1297 non-null   object        \n",
      " 41  CLASIF_RED_1              1297 non-null   object        \n",
      " 42  CLASIF_RED_2              1297 non-null   object        \n",
      " 43  ID_SITIO                  1292 non-null   object        \n",
      " 44  NUM_SOT                   1292 non-null   object        \n",
      " 45  NATURALEZA                1292 non-null   object        \n",
      " 46  BLOQUEO                   0 non-null      float64       \n",
      " 47  FECHA_VENTA               0 non-null      float64       \n",
      " 48  OC Posición               1297 non-null   object        \n",
      " 49  SITE                      1252 non-null   object        \n",
      " 50  PAP                       363 non-null    float64       \n",
      " 51  ESTADO_PAP                363 non-null    object        \n",
      " 52  ANTIGUAMIENTO_PAP         363 non-null    float64       \n",
      " 53  F.Creación                125 non-null    datetime64[ns]\n",
      "dtypes: datetime64[ns](1), float64(13), int64(8), object(32)\n",
      "memory usage: 557.3+ KB\n"
     ]
    }
   ],
   "source": [
    "EA_SAP_PAP.info()"
   ]
  },
  {
   "cell_type": "markdown",
   "id": "b5f08c3e-9508-46af-992e-63a007ce212c",
   "metadata": {},
   "source": [
    "## Actualizo Name Sites y codes de las Tablas SAP "
   ]
  },
  {
   "cell_type": "markdown",
   "id": "4dac3fae-78cf-4632-b123-0e49366ed908",
   "metadata": {},
   "source": [
    "## Añado info de PEXT \n",
    "- Como es por OC, no me conviene separa los vacios"
   ]
  },
  {
   "cell_type": "code",
   "execution_count": 23,
   "id": "6e12b390-a0cd-4d0e-920b-a8b3d4f188bc",
   "metadata": {},
   "outputs": [],
   "source": [
    "EA_PAP_SAP_PEXT = pd.merge(EA_SAP_PAP,PEXT_agg,on='OC Posición',how='left')\n",
    "EA_PAP_SAP_PEXT = combine_and_rename(EA_PAP_SAP_PEXT,[('SITE_x', 'SITE_y')],{'SITE_x':'SITE'})"
   ]
  },
  {
   "cell_type": "markdown",
   "id": "3e34291c-89ed-4098-ba5f-d7acda97f251",
   "metadata": {},
   "source": [
    "## OTS"
   ]
  },
  {
   "cell_type": "markdown",
   "id": "e5e26169-d722-4298-b6a7-e39fb2cb0cb9",
   "metadata": {},
   "source": [
    "### Merge a 3 columnas "
   ]
  },
  {
   "cell_type": "code",
   "execution_count": 24,
   "id": "4bce7715-7aeb-44e3-a6a7-e3b212134360",
   "metadata": {},
   "outputs": [],
   "source": [
    "EA_PAP_PEXT_OTS_3 = pd.merge(EA_PAP_SAP_PEXT,OT_agg_ID_NM_PRO,on=['ID_SITIO','SITE','PROVEEDOR'],how='left')\n",
    "EA_PAP_PEXT_OTS_3['ESTATUS GENERAL'] = EA_PAP_PEXT_OTS_3['ESTATUS GENERAL'].combine_first(EA_PAP_PEXT_OTS_3['Status OT'])\n",
    "EA_PAP_PEXT_OTS_3.drop(columns=['Status OT'],inplace=True) \n",
    "\n",
    "##########Separo por los que tienen OT / al reciduo le hago el doble merge y luego junto ambos \n",
    "EA_PAP_PEXT_OTS_3_R =EA_PAP_PEXT_OTS_3[~EA_PAP_PEXT_OTS_3.OT.isna()]\n",
    "EA_PAP_PEXT_OTS_3_NR = EA_PAP_PEXT_OTS_3[EA_PAP_PEXT_OTS_3.OT.isna()].copy()\n",
    "EA_PAP_PEXT_OTS_3_NR.drop(columns=['OT','Proyecto'],inplace=True)\n"
   ]
  },
  {
   "cell_type": "code",
   "execution_count": 25,
   "id": "cc16e376-db55-40b8-9beb-8aeb57886d25",
   "metadata": {
    "scrolled": true
   },
   "outputs": [
    {
     "name": "stdout",
     "output_type": "stream",
     "text": [
      "<class 'pandas.core.frame.DataFrame'>\n",
      "RangeIndex: 1297 entries, 0 to 1296\n",
      "Data columns (total 60 columns):\n",
      " #   Column                    Non-Null Count  Dtype         \n",
      "---  ------                    --------------  -----         \n",
      " 0   CONCATENADO               1297 non-null   int64         \n",
      " 1   NUMERO OC                 1297 non-null   int64         \n",
      " 2   POS_PREC                  1297 non-null   int64         \n",
      " 3   FECHA_DOC                 1297 non-null   object        \n",
      " 4   Estrategia de Liberación  1294 non-null   object        \n",
      " 5   Cod.Solicitante           1297 non-null   object        \n",
      " 6   SOLICITANTE               1297 non-null   object        \n",
      " 7   TIPO_DOC                  1297 non-null   object        \n",
      " 8   TIPO DE MATERIAL          1297 non-null   object        \n",
      " 9   MATERIAL                  1297 non-null   int64         \n",
      " 10  TEXTO                     1297 non-null   object        \n",
      " 11  COD_PROVEEDOR             1294 non-null   float64       \n",
      " 12  PROVEEDOR                 1294 non-null   object        \n",
      " 13  CENTRO_GESTOR             1297 non-null   object        \n",
      " 14  POS_PRESUP                1297 non-null   object        \n",
      " 15  MONEDA_ORIG               1297 non-null   object        \n",
      " 16  COMPROMETIDO              1297 non-null   float64       \n",
      " 17  RECIBIDO                  1297 non-null   float64       \n",
      " 18  EN_PROCESO                1297 non-null   float64       \n",
      " 19  CARRY                     0 non-null      float64       \n",
      " 20  COMPROM_USD               1297 non-null   float64       \n",
      " 21  RECIBIDO_USD              1297 non-null   float64       \n",
      " 22  EN_PROC_USD               1297 non-null   float64       \n",
      " 23  ESTATUS                   1297 non-null   object        \n",
      " 24  PPTO_INICIAL              1297 non-null   int64         \n",
      " 25  RECLA_INTERNA             1297 non-null   int64         \n",
      " 26  PPTO_FINAL                1297 non-null   int64         \n",
      " 27  TIPO_PRES                 1297 non-null   object        \n",
      " 28  TIPO_PRY                  1297 non-null   object        \n",
      " 29  SUB_DIRECCION             1297 non-null   object        \n",
      " 30  CE_GESTOR                 1297 non-null   object        \n",
      " 31  RUBRO                     1297 non-null   object        \n",
      " 32  TIPO_PROYECTOS            1297 non-null   object        \n",
      " 33  fecha reporte             1297 non-null   object        \n",
      " 34  AÑO                       1297 non-null   int64         \n",
      " 35  Proyecto CAPEX            1297 non-null   object        \n",
      " 36  NOMBRE PROYECTO           1297 non-null   object        \n",
      " 37  DESCRIPCIÓN PROYECTO      1297 non-null   object        \n",
      " 38  PEP                       1292 non-null   object        \n",
      " 39  T.CAMBIO                  1297 non-null   float64       \n",
      " 40  CLASIF_FINANZAS           1297 non-null   object        \n",
      " 41  CLASIF_RED_1              1297 non-null   object        \n",
      " 42  CLASIF_RED_2              1297 non-null   object        \n",
      " 43  ID_SITIO                  1292 non-null   object        \n",
      " 44  NUM_SOT                   1292 non-null   object        \n",
      " 45  NATURALEZA                1292 non-null   object        \n",
      " 46  BLOQUEO                   0 non-null      float64       \n",
      " 47  FECHA_VENTA               0 non-null      float64       \n",
      " 48  OC Posición               1297 non-null   object        \n",
      " 49  SITE                      1291 non-null   object        \n",
      " 50  PAP                       363 non-null    float64       \n",
      " 51  ESTADO_PAP                363 non-null    object        \n",
      " 52  ANTIGUAMIENTO_PAP         363 non-null    float64       \n",
      " 53  F.Creación                125 non-null    datetime64[ns]\n",
      " 54  REQ                       34 non-null     object        \n",
      " 55  ID                        34 non-null     object        \n",
      " 56  RESPONSABLE_DE_EA         495 non-null    object        \n",
      " 57  CONTRATISTA               34 non-null     object        \n",
      " 58  ESTATUS GENERAL           495 non-null    object        \n",
      " 59  OT                        461 non-null    object        \n",
      "dtypes: datetime64[ns](1), float64(13), int64(8), object(38)\n",
      "memory usage: 608.1+ KB\n"
     ]
    }
   ],
   "source": [
    "\n",
    "### Merge a 2 columnas\n",
    "\n",
    "EA_PAP_PEXT_OTS_2 = pd.merge(EA_PAP_PEXT_OTS_3_NR,OT_agg_ID_PRO,on=['ID_SITIO','PROVEEDOR'],how='left')\n",
    "EA_PAP_PEXT_OTS_2 = combine_and_rename(EA_PAP_PEXT_OTS_2,[('SITE_x','SITE_y'),('ESTATUS GENERAL','Status OT')],{'SITE_x':'SITE'})\n",
    "\n",
    "EA_PAP_SAP_PEXT_RLL = pd.concat([EA_PAP_PEXT_OTS_2,EA_PAP_PEXT_OTS_3_R],axis=0)### UNO LOS 2M MERGES\n",
    "\n",
    "EA_PAP_SAP_PEXT_RLL = EA_PAP_SAP_PEXT_RLL.reset_index(drop=True)\n",
    "\n",
    "EA_PAP_SAP_PEXT_RLL.Proyecto.replace('STREET CELL/NUEVO RADIOBASE','STREET CELL',inplace=True)\n",
    "EA_PAP_SAP_PEXT_RLL.Proyecto.replace('NUEVO RADIOBASE','JHORDAN',inplace=True)\n",
    "EA_PAP_SAP_PEXT_RLL.Proyecto.replace('STREET CELL','DEMETRIO',inplace=True)\n",
    "EA_PAP_SAP_PEXT_RLL.rename(columns={'RESPONSABLE DE IMPLEMENTACION':'RESPONSABLE_DE_EA'},inplace=True)\n",
    "EA_PAP_SAP_PEXT_RLL['RESPONSABLE_DE_EA'] = EA_PAP_SAP_PEXT_RLL['RESPONSABLE_DE_EA'].combine_first(EA_PAP_SAP_PEXT_RLL['Proyecto'])\n",
    "EA_PAP_SAP_PEXT_RLL.drop(columns=['Proyecto'],inplace=True) \n",
    "combine_and_rename\n",
    "EA_PAP_SAP_PEXT_RLL.info() ## final"
   ]
  },
  {
   "cell_type": "code",
   "execution_count": 26,
   "id": "285931a6-31c9-4ba6-8830-9ab019f24787",
   "metadata": {
    "scrolled": true
   },
   "outputs": [],
   "source": [
    "import pandas as pd\n",
    "\n",
    "# Merge a 2 columnas\n",
    "EA_PAP_PEXT_OTS_2 = pd.merge(EA_PAP_PEXT_OTS_3_NR, OT_agg_ID_PRO, on=['ID_SITIO','PROVEEDOR'], how='left')\n",
    "EA_PAP_PEXT_OTS_2 = combine_and_rename(EA_PAP_PEXT_OTS_2, [('SITE_x','SITE_y'),('ESTATUS GENERAL','Status OT')], {'SITE_x':'SITE'})\n",
    "\n",
    "# Unir los 2 merges\n",
    "EA_PAP_SAP_PEXT_RLL = pd.concat([EA_PAP_PEXT_OTS_2, EA_PAP_PEXT_OTS_3_R], axis=0).reset_index(drop=True)\n",
    "\n",
    "# Reemplazar valores y renombrar columnas\n",
    "EA_PAP_SAP_PEXT_RLL = (EA_PAP_SAP_PEXT_RLL\n",
    "                       .replace({'Proyecto': {'STREET CELL/NUEVO RADIOBASE': 'STREET CELL', \n",
    "                                              'NUEVO RADIOBASE': 'JHORDAN', \n",
    "                                              'STREET CELL': 'DEMETRIO'}})\n",
    "                       .rename(columns={'RESPONSABLE DE IMPLEMENTACION': 'RESPONSABLE_DE_EA'})\n",
    "                       .assign(RESPONSABLE_DE_EA=lambda df: df['RESPONSABLE_DE_EA'].combine_first(df['Proyecto'])) ## assign se usa para crear columnas de manera eficiente a partir de ciones lamba\n",
    "                       .drop(columns=['Proyecto']))\n",
    "\n",
    "# Información del DataFrame final"
   ]
  },
  {
   "cell_type": "markdown",
   "id": "384bd93a-dcda-4a18-beb3-1a509b28f019",
   "metadata": {},
   "source": [
    "## Añado info de Modernizacion \n",
    "    - Same primero merge triple y lugo doble en el residuo "
   ]
  },
  {
   "cell_type": "markdown",
   "id": "d331657f-5c4a-4aea-bdcf-23d30b5b6a08",
   "metadata": {},
   "source": [
    "### Merge en 3 columnas"
   ]
  },
  {
   "cell_type": "code",
   "execution_count": 27,
   "id": "1f2d85b5-1e18-4987-b716-cf4dedf50d43",
   "metadata": {},
   "outputs": [],
   "source": [
    "EA_PAP_SAP_PEXT_RLL_M3 = pd.merge(EA_PAP_SAP_PEXT_RLL,OT_cut_M_ID_N_PRO,on=['ID_SITIO','SITE','PROVEEDOR'],how='left')\n",
    "\n",
    "EA_PAP_SAP_PEXT_RLL_M3 = combine_and_rename(EA_PAP_SAP_PEXT_RLL_M3,[('RESPONSABLE_DE_EA_x','RESPONSABLE_DE_EA_y'),\n",
    "                                             ('OT_x','OT_y'),('ESTATUS GENERAL','Status OT')],\n",
    "                                            {'RESPONSABLE_DE_EA_x':'RESPONSABLE_DE_EA','OT_x':'OT',})\n",
    "EA_PAP_SAP_PEXT_RLL_M_R =EA_PAP_SAP_PEXT_RLL_M3[~EA_PAP_SAP_PEXT_RLL_M3.OT.isna()]\n",
    "EA_PAP_SAP_PEXT_RLL_M_NA = EA_PAP_SAP_PEXT_RLL_M3[EA_PAP_SAP_PEXT_RLL_M3.OT.isna()].copy()\n",
    "EA_PAP_SAP_PEXT_RLL_M_NA.drop(columns=['OT'],inplace=True)"
   ]
  },
  {
   "cell_type": "markdown",
   "id": "975a4c72-6c8d-41c6-85f7-217692040c5e",
   "metadata": {},
   "source": [
    "### Merge en 2 columnas"
   ]
  },
  {
   "cell_type": "code",
   "execution_count": 28,
   "id": "458a09e5-8a2f-4691-a992-24d337958497",
   "metadata": {},
   "outputs": [],
   "source": [
    "EA_PAP_SAP_PEXT_RLL_M2 = pd.merge(EA_PAP_SAP_PEXT_RLL_M_NA,OT_cut_M_ID_PRO,on=['ID_SITIO','PROVEEDOR'],how='left')\n",
    "EA_PAP_SAP_PEXT_RLL_M2 = combine_and_rename(EA_PAP_SAP_PEXT_RLL_M2,[('RESPONSABLE_DE_EA_x','RESPONSABLE_DE_EA_y'),\n",
    "                                             ('SITE_x','SITE_y'),('ESTATUS GENERAL','Status OT')],\n",
    "                                            {'RESPONSABLE_DE_EA_x':'RESPONSABLE_DE_EA','OT_x':'OT','SITE_x':'SITE'})\n",
    "EA_PAP_SAP_PEXT_RLL_M = pd.concat([EA_PAP_SAP_PEXT_RLL_M_R,EA_PAP_SAP_PEXT_RLL_M2],axis=0)"
   ]
  },
  {
   "cell_type": "markdown",
   "id": "c919259d-7d65-46a2-b577-f14535e0dbe6",
   "metadata": {},
   "source": [
    "## Añado info de energia "
   ]
  },
  {
   "cell_type": "code",
   "execution_count": 29,
   "id": "c130e85a-05c0-4f7b-80aa-f959704111c0",
   "metadata": {},
   "outputs": [],
   "source": [
    "EA_PAP_SAP_PEXT_OTS = pd.merge(EA_PAP_SAP_PEXT_RLL_M,OT_cut_E_ID_PRO,on=['ID_SITIO','PROVEEDOR'],how='left')\n",
    "\n",
    "EA_PAP_SAP_PEXT_OTS = combine_and_rename(EA_PAP_SAP_PEXT_OTS,[('RESPONSABLE_DE_EA_x','RESPONSABLE_DE_EA_y'),\n",
    "                                                             ('SITE_x','SITE_y'),('ESTATUS GENERAL','Status OT'),\n",
    "                                                             ('OT_x','OT_y')],\n",
    "                                                            {'RESPONSABLE_DE_EA_x':'RESPONSABLE_DE_EA','OT_x':'OT','SITE_x':'SITE'})"
   ]
  },
  {
   "cell_type": "markdown",
   "id": "e0fffc07-315f-46e2-8421-5611a0cf465f",
   "metadata": {},
   "source": [
    "## Clean Columns"
   ]
  },
  {
   "cell_type": "code",
   "execution_count": 30,
   "id": "e4a596dc-7454-4c6f-b4db-3cf16df014f3",
   "metadata": {},
   "outputs": [],
   "source": [
    "A_PAP_SAP_PEXT_OTS = EA_PAP_SAP_PEXT_OTS[EA_PAP_SAP_PEXT_OTS.ESTATUS == 'EN PROCESO']\n",
    "EA_PAP_SAP_PEXT_OTS = EA_PAP_SAP_PEXT_OTS.dropna(axis=1, how='all') # elimino columnas vacias\n",
    "EA_PAP_SAP_PEXT_OTS = EA_PAP_SAP_PEXT_OTS.drop(columns=['F.Creación','REQ','ANTIGUAMIENTO_PAP','NUM_SOT','NATURALEZA','OC Posición'\n",
    "                                                    ,'T.CAMBIO','AÑO','ESTATUS','PPTO_INICIAL','PPTO_FINAL','RECLA_INTERNA','ID','RECIBIDO_USD'\n",
    "                                                       ,'MONEDA_ORIG','CONTRATISTA','COMPROMETIDO','RECIBIDO','EN_PROCESO','TIPO_PRES','TIPO_PRY']) # elimino columnas\n",
    "EA_PAP_SAP_PEXT_OTS.loc[:,'ESTADO_PAP'] = EA_PAP_SAP_PEXT_OTS.loc[:,'ESTADO_PAP'].fillna('Sin Registrar')\n",
    "EA_PAP_SAP_PEXT_OTS.loc[:,'PROVEEDOR'] = EA_PAP_SAP_PEXT_OTS.loc[:,'PROVEEDOR'].fillna('Sin Proveedor')\n",
    "EA_PAP_SAP_PEXT_OTS = limpiar_id(EA_PAP_SAP_PEXT_OTS,'ID_SITIO','SITE')\n",
    "EA_act = EA_PAP_SAP_PEXT_OTS.copy()\n"
   ]
  },
  {
   "cell_type": "code",
   "execution_count": 31,
   "id": "8b078103-fb2d-4a49-a554-96166eae9fe0",
   "metadata": {},
   "outputs": [
    {
     "name": "stdout",
     "output_type": "stream",
     "text": [
      "La diferencia de montos es:  0.0\n"
     ]
    }
   ],
   "source": [
    "cash_out = EA_PAP_SAP_PEXT_OTS['EN_PROC_USD'].sum()\n",
    "print(\"La diferencia de montos es: \",Cash_In - cash_out)"
   ]
  },
  {
   "cell_type": "code",
   "execution_count": 32,
   "id": "4eb16a38-7b1b-4256-8566-b66af424f2d5",
   "metadata": {},
   "outputs": [
    {
     "data": {
      "text/plain": [
       "ESTADO_PAP\n",
       "Sin Registrar       934\n",
       "Pre registro        319\n",
       "FAC                  11\n",
       "Visita ejecutada      9\n",
       "Registrado            6\n",
       "Programación ATP      4\n",
       "Aprobaciones FAC      4\n",
       "Observado             3\n",
       "PAC                   3\n",
       "Rechazado             2\n",
       "Programado            2\n",
       "Name: count, dtype: int64"
      ]
     },
     "execution_count": 32,
     "metadata": {},
     "output_type": "execute_result"
    }
   ],
   "source": [
    "EA_PAP_SAP_PEXT_OTS.ESTADO_PAP.value_counts(dropna=False)"
   ]
  },
  {
   "cell_type": "markdown",
   "id": "52cf6d91-7d45-43a7-8ed1-8bd785d78a9e",
   "metadata": {},
   "source": [
    "## 2 Excel"
   ]
  },
  {
   "cell_type": "code",
   "execution_count": 33,
   "id": "65a8cbc8-f13c-4e6e-96d8-76455a8826fc",
   "metadata": {},
   "outputs": [
    {
     "name": "stdout",
     "output_type": "stream",
     "text": [
      "no se crea aditable\n"
     ]
    }
   ],
   "source": [
    "if reporte_old == False:\n",
    "    df_analist,_ = get_recent_df(r'C:\\Users\\C26764\\America Movil Peru S.A.C\\EAS - 1',sheet_name='Sheet1')\n",
    "    df_analist.rename(columns={'RESPONSABLE DE EA':'RESPONSABLE_DE_EA'},inplace=True)\n",
    "    df_analist_cut = df_analist[['CONCATENADO','SITE','Estado de EA','RESPONSABLE_DE_EA','ESTATUS GENERAL']].copy()\n",
    "\n",
    "    EA_ACT_A_D = pd.merge(EA_act,df_analist_cut,on=['CONCATENADO'],how='left')\n",
    "    EA_ACT_A_D = combine_and_rename(EA_ACT_A_D,[('SITE_x', 'SITE_y')],{'SITE_x':'SITE'})\n",
    "\n",
    "    EA_ACT_A_D = update_and_rename(EA_ACT_A_D,[('RESPONSABLE_DE_EA_x', 'RESPONSABLE_DE_EA_y'),\n",
    "                                              ('ESTATUS GENERAL_x','ESTATUS GENERAL_y')],\n",
    "                                   {'RESPONSABLE_DE_EA_x':'RESPONSABLE_DE_EA',\n",
    "                                    'ESTATUS GENERAL_x':'ESTATUS GENERAL'})\n",
    "\n",
    "    \n",
    "    useless_columns= ['PEP','TIPO DE MATERIAL','SUB_DIRECCION','Estrategia de Liberación','MATERIAL',\n",
    "                          'Cod.Solicitante','TIPO DE MATERIAL','TIPO_DOC','TIPO_PROYECTOS','COD_PROVEEDOR',\n",
    "                      'POS_PRESUP','COMPROM_USD','CE_GESTOR','RUBRO','CENTRO_GESTOR','Proyecto CAPEX','Cod.Solicitante'\n",
    "                      ,'Proyecto CAPEX','AÑO','PPTO_INICIAL','RECLA_INTERNA','PPTO_FINAL','Estrategia de Liberación'\n",
    "                     'MONEDA_ORIG','POS_PRESUP']\n",
    "    \n",
    "    EA_ACT_A_D['Estado de EA'].fillna('PENDIENTE',inplace=True)\n",
    "    print(\"se crea nuevo archivo editable\")\n",
    "    Ac.Excel_format(EA_ACT_A_D,fr'C:\\Users\\C26764\\America Movil Peru S.A.C\\EAS - 1\\EAUPDATE{Today_D_M}.xlsx',useless_columns) \n",
    "    \n",
    "else: \n",
    "    print(\"no se crea aditable\")\n",
    "    pass"
   ]
  },
  {
   "cell_type": "markdown",
   "id": "b89cb2a5-96bc-4596-8408-27a7b825fa07",
   "metadata": {},
   "source": [
    "### Cargo lista de OCS que ya se asignaron fecha de Ejecucion"
   ]
  },
  {
   "cell_type": "code",
   "execution_count": 34,
   "id": "6b6b2418-a642-4660-8d0b-e7a2c57d9000",
   "metadata": {},
   "outputs": [
    {
     "name": "stdout",
     "output_type": "stream",
     "text": [
      "C:\\Users\\C26764\\America Movil Peru S.A.C\\EAS - 1\\EAUPDATE01.07.xlsx\n",
      "D:\\EA\\Resultados\\EAS_03-07-2024.csv\n"
     ]
    }
   ],
   "source": [
    "with open(r'D:\\Scripts1\\Code\\ActPEA\\CODE\\Temps\\DF_OCS.pkl', \"rb\") as archivo:\n",
    "    Ocs_DF = pickle.load(archivo)\n",
    "Ocs_DF = Ocs_DF.drop_duplicates()\n",
    "Ocs_F = Ocs_DF['CONCATENADO'].tolist() \n",
    "\n",
    "df_analist,_ = get_recent_df(r'C:\\Users\\C26764\\America Movil Peru S.A.C\\EAS - 1',sheet_name='Sheet1')\n",
    "df_yesterday,_ = get_recent_csv(r'D:\\EA\\Resultados')\n",
    "##Merge \n",
    "df_analist = pd.merge(df_analist,df_yesterday[['CONCATENADO','Fecha de Ejecucion']],on='CONCATENADO',how='left')\n",
    "#df_analist.loc[:,'Fecha de Ejecucion'] = df_yesterday.loc[:,'Fecha de Ejecucion']\n",
    "#df_analist.loc[:,'Fecha de Ejecucion'] = pd.NaT\n",
    "df_analist_cut = df_analist[['CONCATENADO','SITE','Estado de EA','RESPONSABLE_DE_EA','ESTATUS GENERAL','Fecha de Ejecucion']].copy()\n",
    "df_analist_cut.loc[:,'ESTATUS GENERAL'].replace('TERMINADO','EJECUTADO',inplace=True)\n",
    "\n",
    "df_row_diff = df_analist_cut[df_analist_cut['ESTATUS GENERAL'].ne(df_yesterday['ESTATUS GENERAL'])]\n",
    "df_row_diff = df_row_diff[df_row_diff['ESTATUS GENERAL'] == 'EJECUTADO']\n",
    "df_row_diff = df_row_diff[~df_row_diff['CONCATENADO'].isin(Ocs_F)]\n",
    "\n",
    "\n",
    "import datetime\n",
    "df_row_diff['Fecha de Ejecucion'] = datetime.date.today().strftime('%d-%m-%Y')\n",
    "df_row_diff['Fecha de Ejecucion'] = pd.to_datetime(df_row_diff['Fecha de Ejecucion'],format = '%d-%m-%Y')\n"
   ]
  },
  {
   "cell_type": "code",
   "execution_count": 35,
   "id": "7956e90f-32de-43bf-b4ba-c520284a0ec0",
   "metadata": {},
   "outputs": [],
   "source": [
    "df_analist['Estado de EA'].value_counts(dropna=False)\n",
    "\n",
    "Ocs_DF = pd.concat([Ocs_DF,df_row_diff[['CONCATENADO','Fecha de Ejecucion']]],axis=0)\n",
    "\n",
    "with open(r'D:\\Scripts1\\Code\\ActPEA\\CODE\\Temps\\DF_OCS.pkl', \"wb\") as archivo:\n",
    "    pickle.dump(Ocs_DF, archivo)"
   ]
  },
  {
   "cell_type": "code",
   "execution_count": 36,
   "id": "7921d937-cffe-4f96-9994-a261af227efc",
   "metadata": {},
   "outputs": [
    {
     "data": {
      "text/html": [
       "<div>\n",
       "<style scoped>\n",
       "    .dataframe tbody tr th:only-of-type {\n",
       "        vertical-align: middle;\n",
       "    }\n",
       "\n",
       "    .dataframe tbody tr th {\n",
       "        vertical-align: top;\n",
       "    }\n",
       "\n",
       "    .dataframe thead th {\n",
       "        text-align: right;\n",
       "    }\n",
       "</style>\n",
       "<table border=\"1\" class=\"dataframe\">\n",
       "  <thead>\n",
       "    <tr style=\"text-align: right;\">\n",
       "      <th></th>\n",
       "      <th>CONCATENADO</th>\n",
       "      <th>SITE</th>\n",
       "      <th>Estado de EA</th>\n",
       "      <th>RESPONSABLE_DE_EA</th>\n",
       "      <th>ESTATUS GENERAL</th>\n",
       "      <th>Fecha de Ejecucion</th>\n",
       "    </tr>\n",
       "  </thead>\n",
       "  <tbody>\n",
       "    <tr>\n",
       "      <th>569</th>\n",
       "      <td>450068479610</td>\n",
       "      <td>LA_UNION_II</td>\n",
       "      <td>PENDIENTE</td>\n",
       "      <td>ANGGIE</td>\n",
       "      <td>EJECUTADO</td>\n",
       "      <td>2024-07-04</td>\n",
       "    </tr>\n",
       "    <tr>\n",
       "      <th>771</th>\n",
       "      <td>450071301040</td>\n",
       "      <td>MANCORA_NORTE</td>\n",
       "      <td>PENDIENTE</td>\n",
       "      <td>Danner Yarleque</td>\n",
       "      <td>EJECUTADO</td>\n",
       "      <td>2024-07-04</td>\n",
       "    </tr>\n",
       "  </tbody>\n",
       "</table>\n",
       "</div>"
      ],
      "text/plain": [
       "      CONCATENADO           SITE Estado de EA RESPONSABLE_DE_EA  \\\n",
       "569  450068479610    LA_UNION_II    PENDIENTE            ANGGIE   \n",
       "771  450071301040  MANCORA_NORTE    PENDIENTE   Danner Yarleque   \n",
       "\n",
       "    ESTATUS GENERAL Fecha de Ejecucion  \n",
       "569       EJECUTADO         2024-07-04  \n",
       "771       EJECUTADO         2024-07-04  "
      ]
     },
     "execution_count": 36,
     "metadata": {},
     "output_type": "execute_result"
    }
   ],
   "source": [
    "df_row_diff"
   ]
  },
  {
   "cell_type": "code",
   "execution_count": 37,
   "id": "505084a2-46ae-4c14-8ca2-9069cacf30f7",
   "metadata": {},
   "outputs": [],
   "source": [
    "df_analist_cut.update(df_row_diff)\n"
   ]
  },
  {
   "cell_type": "markdown",
   "id": "36c16ce7-56f1-406b-ba4d-405e79374cbf",
   "metadata": {},
   "source": [
    "## Merge data of the analist"
   ]
  },
  {
   "cell_type": "code",
   "execution_count": 38,
   "id": "b7dd3944-d1fa-4669-9bd2-671f084d883c",
   "metadata": {},
   "outputs": [],
   "source": [
    "analistas_map = {'JENNY PIZAN':'JENNY',\n",
    "                 'DANNER YARLEQUE':'DANNER',\n",
    "                 'LAURA RAFAEL':'LAURA'}\n",
    "Estado_EA_map = {'POR LIQUIDAR':'PENDIENTE'}"
   ]
  },
  {
   "cell_type": "code",
   "execution_count": 39,
   "id": "85c1d071-8c3a-4f9f-b5c8-254eef34c844",
   "metadata": {},
   "outputs": [],
   "source": [
    "df_analist_cut['Fecha de Ejecucion'] = pd.to_datetime(df_analist_cut['Fecha de Ejecucion'], unit='ns')\n",
    "EA_ACT_A_D = pd.merge(EA_PAP_SAP_PEXT_OTS,df_analist_cut,on=['CONCATENADO'],how='left')\n",
    "EA_ACT_A_D = combine_and_rename(EA_ACT_A_D,[('SITE_x', 'SITE_y')],{'SITE_x':'SITE'})\n",
    "EA_ACT_A_D = update_and_rename(EA_ACT_A_D,[('RESPONSABLE_DE_EA_x', 'RESPONSABLE_DE_EA_y'),\n",
    "                                          ('ESTATUS GENERAL_x','ESTATUS GENERAL_y')],\n",
    "                               {'RESPONSABLE_DE_EA_x':'RESPONSABLE_DE_EA','ESTATUS GENERAL_x':'ESTATUS GENERAL'})\n",
    "\n",
    "#EA_ACT_A_D['Fecha de Ejecucion'] = pd.to_datetime(EA_ACT_A_D['Fecha de Ejecucion'], errors='coerce')\n",
    "\n",
    "#display(EA_ACT_A_D[~EA_ACT_A_D['Fecha de Ejecucion'].isna()])\n",
    "EA_ACT_A_D.loc[:,'RESPONSABLE_DE_EA'] = EA_ACT_A_D.loc[:,'RESPONSABLE_DE_EA'].fillna('Por asignar') \n",
    "EA_ACT_A_D.loc[:,'Estado de EA'] = EA_ACT_A_D.loc[:,'Estado de EA'].fillna('PENDIENTE') \n",
    "\n",
    "# Estos son los valores permitidos\n",
    "valores_permitidos = ['PENDIENTE', 'EJECUTADO', 'ANULAR', 'ANULADA','LIQUIDADO']\n",
    "\n",
    "valores_anuladas = ['OC ANULADA']\n",
    "\n",
    "valores_anular = ['PENDIENTE ANULAR']\n",
    "\n",
    "\n",
    "# Este es el valor que se asignará cuando el valor actual no esté en la lista de valores permitidos\n",
    "valor_asignado = 'PENDIENTE'\n",
    "\n",
    "EA_ACT_A_D['Estado de EA'] = EA_ACT_A_D['Estado de EA'].apply(lambda x: 'ANULADA' if x in valores_anuladas else x)\n",
    "EA_ACT_A_D['Estado de EA'] = EA_ACT_A_D['Estado de EA'].apply(lambda x: 'ANULAR' if x in valores_anular else x)\n",
    "\n",
    "# Aplica la condición a la columna\n",
    "EA_ACT_A_D['Estado de EA'] = EA_ACT_A_D['Estado de EA'].where(EA_ACT_A_D['Estado de EA'].isin(valores_permitidos), valor_asignado)\n",
    "\n",
    "\n",
    "EA_ACT_A_D.loc[:,'RESPONSABLE_DE_EA'] = EA_ACT_A_D.loc[:,'RESPONSABLE_DE_EA'].str.upper()\n",
    "EA_ACT_A_D.loc[:,'RESPONSABLE_DE_EA'] = EA_ACT_A_D.loc[:,'RESPONSABLE_DE_EA'].replace(analistas_map)\n",
    "\n",
    "EA_ACT_A_D.loc[:,'Estado de EA'].replace('EJECUTADA','EJECUTADO',inplace = True)\n",
    "### Creo columna de mes para agrupar \n",
    "EA_ACT_A_D['FECHA_DOC'] = EA_ACT_A_D['FECHA_DOC'].str.replace(' 00:00:00', '')\n",
    "EA_ACT_A_D['FECHA_DOC'] = pd.to_datetime(EA_ACT_A_D['FECHA_DOC'],format = '%Y-%m-%d')\n",
    "\n",
    "\n"
   ]
  },
  {
   "cell_type": "code",
   "execution_count": 40,
   "id": "3c4bb108-6d9c-434a-a470-c0445aef6ece",
   "metadata": {},
   "outputs": [
    {
     "data": {
      "text/plain": [
       "ESTATUS GENERAL\n",
       "NaN             472\n",
       "CW              191\n",
       "POR EJECUTAR    149\n",
       "EJECUTADO       105\n",
       "TI               77\n",
       "EN EJECUCION     70\n",
       "ON AIR           49\n",
       "CW/TI            46\n",
       "OH               40\n",
       "ACTIVO           32\n",
       "ING              24\n",
       "SAQ              16\n",
       "SAQ/ING           6\n",
       "NO INICIADO       6\n",
       "ING/ON AIR        3\n",
       "ING/RF            3\n",
       "ING/SAQ           3\n",
       "ANULAR            2\n",
       "FINALIZADO        1\n",
       "CW/TI/ING         1\n",
       "CANCELADO         1\n",
       "Name: count, dtype: int64"
      ]
     },
     "execution_count": 40,
     "metadata": {},
     "output_type": "execute_result"
    }
   ],
   "source": [
    "EA_ACT_A_D['ESTATUS GENERAL'].value_counts(dropna=False)"
   ]
  },
  {
   "cell_type": "code",
   "execution_count": 41,
   "id": "4c05d8a5-fc5b-4b93-8424-6151a70679ce",
   "metadata": {},
   "outputs": [
    {
     "data": {
      "text/plain": [
       "Estado de EA\n",
       "PENDIENTE    1280\n",
       "ANULAR         12\n",
       "EJECUTADO       4\n",
       "LIQUIDADO       1\n",
       "Name: count, dtype: int64"
      ]
     },
     "execution_count": 41,
     "metadata": {},
     "output_type": "execute_result"
    }
   ],
   "source": [
    "EA_ACT_A_D['Estado de EA'].value_counts(dropna=False)"
   ]
  },
  {
   "cell_type": "code",
   "execution_count": 42,
   "id": "2845acae-a31e-4768-8537-d32946af4b5d",
   "metadata": {},
   "outputs": [
    {
     "name": "stdout",
     "output_type": "stream",
     "text": [
      "<class 'pandas.core.frame.DataFrame'>\n",
      "RangeIndex: 1297 entries, 0 to 1296\n",
      "Data columns (total 38 columns):\n",
      " #   Column                    Non-Null Count  Dtype         \n",
      "---  ------                    --------------  -----         \n",
      " 0   CONCATENADO               1297 non-null   int64         \n",
      " 1   NUMERO OC                 1297 non-null   int64         \n",
      " 2   POS_PREC                  1297 non-null   int64         \n",
      " 3   FECHA_DOC                 1297 non-null   datetime64[ns]\n",
      " 4   Estrategia de Liberación  1294 non-null   object        \n",
      " 5   Cod.Solicitante           1297 non-null   object        \n",
      " 6   SOLICITANTE               1297 non-null   object        \n",
      " 7   TIPO_DOC                  1297 non-null   object        \n",
      " 8   TIPO DE MATERIAL          1297 non-null   object        \n",
      " 9   MATERIAL                  1297 non-null   int64         \n",
      " 10  TEXTO                     1297 non-null   object        \n",
      " 11  COD_PROVEEDOR             1294 non-null   float64       \n",
      " 12  PROVEEDOR                 1297 non-null   object        \n",
      " 13  CENTRO_GESTOR             1297 non-null   object        \n",
      " 14  POS_PRESUP                1297 non-null   object        \n",
      " 15  COMPROM_USD               1297 non-null   float64       \n",
      " 16  EN_PROC_USD               1297 non-null   float64       \n",
      " 17  SUB_DIRECCION             1297 non-null   object        \n",
      " 18  CE_GESTOR                 1297 non-null   object        \n",
      " 19  RUBRO                     1297 non-null   object        \n",
      " 20  TIPO_PROYECTOS            1297 non-null   object        \n",
      " 21  fecha reporte             1297 non-null   object        \n",
      " 22  Proyecto CAPEX            1297 non-null   object        \n",
      " 23  NOMBRE PROYECTO           1297 non-null   object        \n",
      " 24  DESCRIPCIÓN PROYECTO      1297 non-null   object        \n",
      " 25  PEP                       1292 non-null   object        \n",
      " 26  CLASIF_FINANZAS           1297 non-null   object        \n",
      " 27  CLASIF_RED_1              1297 non-null   object        \n",
      " 28  CLASIF_RED_2              1297 non-null   object        \n",
      " 29  ID_SITIO                  1297 non-null   object        \n",
      " 30  SITE                      1297 non-null   object        \n",
      " 31  PAP                       363 non-null    float64       \n",
      " 32  ESTADO_PAP                1297 non-null   object        \n",
      " 33  RESPONSABLE_DE_EA         1297 non-null   object        \n",
      " 34  ESTATUS GENERAL           825 non-null    object        \n",
      " 35  OT                        743 non-null    object        \n",
      " 36  Estado de EA              1297 non-null   object        \n",
      " 37  Fecha de Ejecucion        94 non-null     datetime64[ns]\n",
      "dtypes: datetime64[ns](2), float64(4), int64(4), object(28)\n",
      "memory usage: 385.2+ KB\n"
     ]
    }
   ],
   "source": [
    "EA_ACT_A_D.info()"
   ]
  },
  {
   "cell_type": "code",
   "execution_count": 43,
   "id": "330306e2-66fb-48c4-9122-2a7648c1d8f9",
   "metadata": {},
   "outputs": [],
   "source": [
    "EA_ACT_A_D['RESPONSABLE_DE_EA'].replace('ANNGIE','ANGGIE',inplace=True)"
   ]
  },
  {
   "cell_type": "code",
   "execution_count": 44,
   "id": "2b309247-8ecb-4e05-aeec-3a10309ac140",
   "metadata": {},
   "outputs": [
    {
     "name": "stdout",
     "output_type": "stream",
     "text": [
      "Ejecutado:  04-07-2024\n"
     ]
    }
   ],
   "source": [
    "import datetime\n",
    "## guardo el TSLM\n",
    "filename = r'D:\\EA\\TS\\last_run.json'\n",
    "# Carga la última fecha de ejecución\n",
    "last_run_date = Ac.load_last_run_date(filename)\n",
    "\n",
    "# Comprueba si la celda ya se ha ejecutado hoy\n",
    "if last_run_date != datetime.datetime.now().date():\n",
    "    # Tu código aquí\n",
    "    print('Ejecutado: ',Today_str)\n",
    "    #process_to_bcsv(PRE_all_act,'D:/Prepa/TIME.S/Prepa_TS1.csv',Today_str)\n",
    "    EA_ACT_A_D.to_csv(fr'D:\\EA\\Resultados\\EAS_{Today_str}.csv',index=False) ## guardo el TODAY\n",
    "    process_to_bcsv(EA_ACT_A_D.copy(),r'D:\\EA\\TS\\EA_TS1.csv',Today_str)# añado al acumulado\n",
    "\n",
    "    # Guarda la fecha de hoy como la última fecha de ejecución\n",
    "    Ac.save_last_run_date(filename)\n",
    "else:\n",
    "    print(\"El código ya se ha ejecutado hoy.\")"
   ]
  },
  {
   "cell_type": "markdown",
   "id": "43e74f6d-bdd9-4f02-a0f5-86e0fa41d3a2",
   "metadata": {},
   "source": [
    "# TO BI \n",
    "    -Proceso el DF consolidado para el BI "
   ]
  },
  {
   "cell_type": "code",
   "execution_count": 45,
   "id": "6ee91d46-2e65-4328-b12a-eec82804ecc6",
   "metadata": {},
   "outputs": [
    {
     "name": "stdout",
     "output_type": "stream",
     "text": [
      "<class 'pandas.core.frame.DataFrame'>\n",
      "RangeIndex: 1297 entries, 0 to 1296\n",
      "Data columns (total 38 columns):\n",
      " #   Column                    Non-Null Count  Dtype         \n",
      "---  ------                    --------------  -----         \n",
      " 0   CONCATENADO               1297 non-null   int64         \n",
      " 1   NUMERO OC                 1297 non-null   int64         \n",
      " 2   POS_PREC                  1297 non-null   int64         \n",
      " 3   FECHA_DOC                 1297 non-null   datetime64[ns]\n",
      " 4   Estrategia de Liberación  1294 non-null   object        \n",
      " 5   Cod.Solicitante           1297 non-null   object        \n",
      " 6   SOLICITANTE               1297 non-null   object        \n",
      " 7   TIPO_DOC                  1297 non-null   object        \n",
      " 8   TIPO DE MATERIAL          1297 non-null   object        \n",
      " 9   MATERIAL                  1297 non-null   int64         \n",
      " 10  TEXTO                     1297 non-null   object        \n",
      " 11  COD_PROVEEDOR             1294 non-null   float64       \n",
      " 12  PROVEEDOR                 1297 non-null   object        \n",
      " 13  CENTRO_GESTOR             1297 non-null   object        \n",
      " 14  POS_PRESUP                1297 non-null   object        \n",
      " 15  COMPROM_USD               1297 non-null   float64       \n",
      " 16  EN_PROC_USD               1297 non-null   float64       \n",
      " 17  SUB_DIRECCION             1297 non-null   object        \n",
      " 18  CE_GESTOR                 1297 non-null   object        \n",
      " 19  RUBRO                     1297 non-null   object        \n",
      " 20  TIPO_PROYECTOS            1297 non-null   object        \n",
      " 21  fecha reporte             1297 non-null   object        \n",
      " 22  Proyecto CAPEX            1297 non-null   object        \n",
      " 23  NOMBRE PROYECTO           1297 non-null   object        \n",
      " 24  DESCRIPCIÓN PROYECTO      1297 non-null   object        \n",
      " 25  PEP                       1292 non-null   object        \n",
      " 26  CLASIF_FINANZAS           1297 non-null   object        \n",
      " 27  CLASIF_RED_1              1297 non-null   object        \n",
      " 28  CLASIF_RED_2              1297 non-null   object        \n",
      " 29  ID_SITIO                  1297 non-null   object        \n",
      " 30  SITE                      1297 non-null   object        \n",
      " 31  PAP                       363 non-null    float64       \n",
      " 32  ESTADO_PAP                1297 non-null   object        \n",
      " 33  RESPONSABLE_DE_EA         1297 non-null   object        \n",
      " 34  ESTATUS GENERAL           825 non-null    object        \n",
      " 35  OT                        743 non-null    object        \n",
      " 36  Estado de EA              1297 non-null   object        \n",
      " 37  Fecha de Ejecucion        94 non-null     datetime64[ns]\n",
      "dtypes: datetime64[ns](2), float64(4), int64(4), object(28)\n",
      "memory usage: 385.2+ KB\n"
     ]
    }
   ],
   "source": [
    "EA_ACT_A_D.info()"
   ]
  },
  {
   "cell_type": "code",
   "execution_count": 63,
   "id": "22bdc969-8010-4715-ac50-07b34bb88bf7",
   "metadata": {},
   "outputs": [],
   "source": [
    "Columnas_2_use= EA_ACT_A_D[['NUMERO OC','POS_PREC','FECHA_DOC','SOLICITANTE','TEXTO','PROVEEDOR',\n",
    "                 'EN_PROC_USD','CE_GESTOR','TIPO_PROYECTOS'\n",
    "                           ]]\n",
    "last_columns = EA_ACT_A_D.iloc[:,-12:]\n",
    "EA_ACT_A_B = pd.concat([Columnas_2_use,last_columns], axis=1)"
   ]
  },
  {
   "cell_type": "code",
   "execution_count": 64,
   "id": "1be69f9b-a992-4319-8988-aebf3e2f59ec",
   "metadata": {},
   "outputs": [],
   "source": [
    "list_columns = ['TEXTO' ,'SITE','ESTATUS GENERAL','TIPO_PROYECTOS']\n",
    "for column in list_columns:\n",
    "    EA_ACT_A_B[column] = EA_ACT_A_B[column].str.capitalize()"
   ]
  },
  {
   "cell_type": "code",
   "execution_count": 65,
   "id": "1b661eef-4647-40c8-8c97-adab07c18bb5",
   "metadata": {},
   "outputs": [],
   "source": [
    "## capitalizar valaores de la columna que esatn todas en mayuculas"
   ]
  },
  {
   "cell_type": "code",
   "execution_count": 66,
   "id": "59925f2c-0395-444d-b5e3-04a735e454d7",
   "metadata": {},
   "outputs": [
    {
     "name": "stdout",
     "output_type": "stream",
     "text": [
      "<class 'pandas.core.frame.DataFrame'>\n",
      "RangeIndex: 1297 entries, 0 to 1296\n",
      "Data columns (total 21 columns):\n",
      " #   Column              Non-Null Count  Dtype         \n",
      "---  ------              --------------  -----         \n",
      " 0   NUMERO OC           1297 non-null   int64         \n",
      " 1   POS_PREC            1297 non-null   int64         \n",
      " 2   FECHA_DOC           1297 non-null   datetime64[ns]\n",
      " 3   SOLICITANTE         1297 non-null   object        \n",
      " 4   TEXTO               1297 non-null   object        \n",
      " 5   PROVEEDOR           1297 non-null   object        \n",
      " 6   EN_PROC_USD         1297 non-null   float64       \n",
      " 7   CE_GESTOR           1297 non-null   object        \n",
      " 8   TIPO_PROYECTOS      1297 non-null   object        \n",
      " 9   CLASIF_FINANZAS     1297 non-null   object        \n",
      " 10  CLASIF_RED_1        1297 non-null   object        \n",
      " 11  CLASIF_RED_2        1297 non-null   object        \n",
      " 12  ID_SITIO            1297 non-null   object        \n",
      " 13  SITE                1297 non-null   object        \n",
      " 14  PAP                 363 non-null    float64       \n",
      " 15  ESTADO_PAP          1297 non-null   object        \n",
      " 16  RESPONSABLE_DE_EA   1297 non-null   object        \n",
      " 17  ESTATUS GENERAL     825 non-null    object        \n",
      " 18  OT                  743 non-null    object        \n",
      " 19  Estado de EA        1297 non-null   object        \n",
      " 20  Fecha de Ejecucion  94 non-null     datetime64[ns]\n",
      "dtypes: datetime64[ns](2), float64(2), int64(2), object(15)\n",
      "memory usage: 212.9+ KB\n"
     ]
    }
   ],
   "source": [
    "EA_ACT_A_B.info()"
   ]
  },
  {
   "cell_type": "code",
   "execution_count": 67,
   "id": "e0ea4d95-47a8-4007-ada1-8da4da4a65f3",
   "metadata": {},
   "outputs": [
    {
     "data": {
      "text/plain": [
       "Estado de EA\n",
       "PENDIENTE    1280\n",
       "ANULAR         12\n",
       "EJECUTADO       4\n",
       "LIQUIDADO       1\n",
       "Name: count, dtype: int64"
      ]
     },
     "execution_count": 67,
     "metadata": {},
     "output_type": "execute_result"
    }
   ],
   "source": [
    "EA_ACT_A_B['Estado de EA'].value_counts()"
   ]
  },
  {
   "cell_type": "code",
   "execution_count": 68,
   "id": "b56adf77-fa0c-4847-a3c9-097dac90eaba",
   "metadata": {},
   "outputs": [],
   "source": [
    "EA_ACT_A_B.to_csv(r'\\\\LIMBIPBICOV01.claro.pe\\Red Región Norte\\EAS\\EAs.csv',index=False) "
   ]
  },
  {
   "cell_type": "code",
   "execution_count": null,
   "id": "d5dbbd3a-e87a-47a6-a006-5a5b996b4148",
   "metadata": {},
   "outputs": [],
   "source": []
  },
  {
   "cell_type": "code",
   "execution_count": null,
   "id": "7bc629f9-d5e5-42b0-b077-1eba052ebb3f",
   "metadata": {},
   "outputs": [],
   "source": []
  }
 ],
 "metadata": {
  "kernelspec": {
   "display_name": "Python 3 (ipykernel)",
   "language": "python",
   "name": "python3"
  },
  "language_info": {
   "codemirror_mode": {
    "name": "ipython",
    "version": 3
   },
   "file_extension": ".py",
   "mimetype": "text/x-python",
   "name": "python",
   "nbconvert_exporter": "python",
   "pygments_lexer": "ipython3",
   "version": "3.11.5"
  }
 },
 "nbformat": 4,
 "nbformat_minor": 5
}
