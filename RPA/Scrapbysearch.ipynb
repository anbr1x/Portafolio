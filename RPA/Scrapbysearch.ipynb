{
 "cells": [
  {
   "cell_type": "code",
   "execution_count": 3,
   "id": "652b5937-d5df-4310-95b4-f0b866744d3d",
   "metadata": {},
   "outputs": [],
   "source": [
    "from selenium import webdriver\n",
    "from selenium.webdriver.common.keys import Keys\n",
    "from selenium.webdriver.common.by import By\n",
    "from selenium.webdriver.support.ui import WebDriverWait\n",
    "from selenium.webdriver.support import expected_conditions as EC\n",
    "from selenium.webdriver.chrome.options import Options\n",
    "from selenium.webdriver.common.action_chains import ActionChains\n",
    "import time\n",
    "import time\n",
    "import pandas as pd\n",
    "from selenium.common.exceptions import ElementClickInterceptedException,TimeoutException\n",
    "from selenium.webdriver.support import expected_conditions as EC\n",
    "import getData as GD\n",
    "from datetime import date\n",
    "import glob\n",
    "import os\n",
    "import traceback\n",
    "import tqdm\n"
   ]
  },
  {
   "cell_type": "code",
   "execution_count": 4,
   "id": "68dbf5e3-91f5-4fcc-9eaf-6c8580343f85",
   "metadata": {},
   "outputs": [],
   "source": [
    "def get_recent_df(Carpeta_path: str,sheet_name: str):\n",
    "    \"\"\" Devuelve el df de la hoja especifica, del archivo mas reciente de la carpeta especificada\"\"\"\n",
    "    Path_n= Carpeta_path + '/*'\n",
    "    tipo_de_archivo = '*.xlsx'\n",
    "    # Busca el archivo más reciente\n",
    "    archivos = glob.glob(Path_n + tipo_de_archivo)\n",
    "    archivo_mas_reciente = max(archivos, key=os.path.getctime)\n",
    "    nombre_del_archivo_N = os.path.basename(archivo_mas_reciente)\n",
    "    print(archivo_mas_reciente)\n",
    "    df = pd.read_excel(archivo_mas_reciente , sheet_name=sheet_name) \n",
    "    return df \n"
   ]
  },
  {
   "cell_type": "code",
   "execution_count": 5,
   "id": "0678db9c-a0e8-4686-99fb-c720a9a84568",
   "metadata": {},
   "outputs": [],
   "source": [
    "papxls= 'D:/Satelital_site/ATENCION SITE SATELITALES NOTE.xlsx'\n",
    "df_sat = pd.read_excel(papxls, sheet_name='Hoja1',header=2) "
   ]
  },
  {
   "cell_type": "code",
   "execution_count": 6,
   "id": "9e792739-de7c-49e7-8c17-c6176a7c1e02",
   "metadata": {},
   "outputs": [],
   "source": [
    "df_sat.drop(columns= ['Unnamed: 0'],inplace=True)\n"
   ]
  },
  {
   "cell_type": "code",
   "execution_count": 7,
   "id": "4ac3b897-fb35-4877-b454-af308235dcb3",
   "metadata": {
    "scrolled": true
   },
   "outputs": [
    {
     "data": {
      "text/html": [
       "<div>\n",
       "<style scoped>\n",
       "    .dataframe tbody tr th:only-of-type {\n",
       "        vertical-align: middle;\n",
       "    }\n",
       "\n",
       "    .dataframe tbody tr th {\n",
       "        vertical-align: top;\n",
       "    }\n",
       "\n",
       "    .dataframe thead th {\n",
       "        text-align: right;\n",
       "    }\n",
       "</style>\n",
       "<table border=\"1\" class=\"dataframe\">\n",
       "  <thead>\n",
       "    <tr style=\"text-align: right;\">\n",
       "      <th></th>\n",
       "      <th>ITEM</th>\n",
       "      <th>REGION</th>\n",
       "      <th>DEPARTAMENTO</th>\n",
       "      <th>CENTRO POBLADO</th>\n",
       "      <th>NOMBRE DEL SITIO</th>\n",
       "      <th>TIPO DE TECNOLOGÍA</th>\n",
       "      <th>ESTATUS</th>\n",
       "      <th>FECHA DE RESTABLECIMIENTO</th>\n",
       "      <th>ASIGNADO A (RECUP)</th>\n",
       "      <th>ATENCIONES</th>\n",
       "      <th>PROGRAMACIÓN</th>\n",
       "      <th>USUARIOS CLARO</th>\n",
       "      <th>Estado</th>\n",
       "    </tr>\n",
       "  </thead>\n",
       "  <tbody>\n",
       "    <tr>\n",
       "      <th>2</th>\n",
       "      <td>3</td>\n",
       "      <td>NORTE</td>\n",
       "      <td>LORETO</td>\n",
       "      <td>SARAMIRIZA</td>\n",
       "      <td>LL1858_Manseriche</td>\n",
       "      <td>CINC</td>\n",
       "      <td>CAIDO</td>\n",
       "      <td>NaT</td>\n",
       "      <td>AXESSAT</td>\n",
       "      <td>NaN</td>\n",
       "      <td>NaN</td>\n",
       "      <td>2043</td>\n",
       "      <td>NaN</td>\n",
       "    </tr>\n",
       "    <tr>\n",
       "      <th>7</th>\n",
       "      <td>8</td>\n",
       "      <td>NORTE</td>\n",
       "      <td>ANCASH</td>\n",
       "      <td>PATARA</td>\n",
       "      <td>TA18758_PATARA</td>\n",
       "      <td>VSAT</td>\n",
       "      <td>CAIDO</td>\n",
       "      <td>NaT</td>\n",
       "      <td>AXESSAT</td>\n",
       "      <td>NaN</td>\n",
       "      <td>NaN</td>\n",
       "      <td>480</td>\n",
       "      <td>NaN</td>\n",
       "    </tr>\n",
       "    <tr>\n",
       "      <th>8</th>\n",
       "      <td>9</td>\n",
       "      <td>NORTE</td>\n",
       "      <td>LA LIBERTAD</td>\n",
       "      <td>LOS LOROS</td>\n",
       "      <td>TJ18235_PICO_LOS_LOROS</td>\n",
       "      <td>VSAT</td>\n",
       "      <td>CAIDO</td>\n",
       "      <td>NaT</td>\n",
       "      <td>AXESSAT</td>\n",
       "      <td>NaN</td>\n",
       "      <td>NaN</td>\n",
       "      <td>443</td>\n",
       "      <td>NaN</td>\n",
       "    </tr>\n",
       "    <tr>\n",
       "      <th>11</th>\n",
       "      <td>12</td>\n",
       "      <td>NORTE</td>\n",
       "      <td>LA LIBERTAD</td>\n",
       "      <td>SATAPAMPA</td>\n",
       "      <td>TJ18742_SATAPAMPA</td>\n",
       "      <td>VSAT</td>\n",
       "      <td>CAIDO</td>\n",
       "      <td>NaT</td>\n",
       "      <td>EUTELSAT (BANDA C)</td>\n",
       "      <td>NaN</td>\n",
       "      <td>NaN</td>\n",
       "      <td>363</td>\n",
       "      <td>NaN</td>\n",
       "    </tr>\n",
       "    <tr>\n",
       "      <th>16</th>\n",
       "      <td>17</td>\n",
       "      <td>NORTE</td>\n",
       "      <td>ANCASH</td>\n",
       "      <td>HONUHUANAY (HUNUHUANEY)</td>\n",
       "      <td>TA18646_HONUHUANAY</td>\n",
       "      <td>VSAT</td>\n",
       "      <td>CAIDO</td>\n",
       "      <td>NaT</td>\n",
       "      <td>AXESSAT</td>\n",
       "      <td>NaN</td>\n",
       "      <td>NaN</td>\n",
       "      <td>272</td>\n",
       "      <td>NaN</td>\n",
       "    </tr>\n",
       "    <tr>\n",
       "      <th>21</th>\n",
       "      <td>22</td>\n",
       "      <td>NORTE</td>\n",
       "      <td>CAJAMARCA</td>\n",
       "      <td>CHICOTE</td>\n",
       "      <td>TC18696_SAN_ISIDRO_DE_LAS_ROSAS</td>\n",
       "      <td>VSAT</td>\n",
       "      <td>CAIDO</td>\n",
       "      <td>NaT</td>\n",
       "      <td>AXESSAT</td>\n",
       "      <td>NaN</td>\n",
       "      <td>NaN</td>\n",
       "      <td>243</td>\n",
       "      <td>NaN</td>\n",
       "    </tr>\n",
       "    <tr>\n",
       "      <th>27</th>\n",
       "      <td>28</td>\n",
       "      <td>NORTE</td>\n",
       "      <td>PIURA</td>\n",
       "      <td>SAUSAL DE CULUCAN</td>\n",
       "      <td>TP18046_PICO_SAUSAL</td>\n",
       "      <td>VSAT</td>\n",
       "      <td>CAIDO</td>\n",
       "      <td>NaT</td>\n",
       "      <td>AXESSAT</td>\n",
       "      <td>Personal en tránsito</td>\n",
       "      <td>NaN</td>\n",
       "      <td>192</td>\n",
       "      <td>NaN</td>\n",
       "    </tr>\n",
       "    <tr>\n",
       "      <th>29</th>\n",
       "      <td>30</td>\n",
       "      <td>NORTE</td>\n",
       "      <td>LA LIBERTAD</td>\n",
       "      <td>CANAQUILES</td>\n",
       "      <td>TJ18216_PICO_CALEMAR</td>\n",
       "      <td>VSAT</td>\n",
       "      <td>CAIDO</td>\n",
       "      <td>NaT</td>\n",
       "      <td>AXESSAT</td>\n",
       "      <td>NaN</td>\n",
       "      <td>NaN</td>\n",
       "      <td>174</td>\n",
       "      <td>NaN</td>\n",
       "    </tr>\n",
       "    <tr>\n",
       "      <th>41</th>\n",
       "      <td>42</td>\n",
       "      <td>NORTE</td>\n",
       "      <td>CAJAMARCA</td>\n",
       "      <td>ÑURUÑUPE</td>\n",
       "      <td>TC18668_NURUNUPE</td>\n",
       "      <td>VSAT</td>\n",
       "      <td>CAIDO</td>\n",
       "      <td>NaT</td>\n",
       "      <td>EUTELSAT (BANDA C)</td>\n",
       "      <td>Personal en sitio</td>\n",
       "      <td>NaN</td>\n",
       "      <td>126</td>\n",
       "      <td>NaN</td>\n",
       "    </tr>\n",
       "    <tr>\n",
       "      <th>42</th>\n",
       "      <td>43</td>\n",
       "      <td>NORTE</td>\n",
       "      <td>ANCASH</td>\n",
       "      <td>QUIROBAMBA</td>\n",
       "      <td>TA18029_QUIROBAMBA</td>\n",
       "      <td>VSAT</td>\n",
       "      <td>CAIDO</td>\n",
       "      <td>NaT</td>\n",
       "      <td>AXESSAT</td>\n",
       "      <td>NaN</td>\n",
       "      <td>NaN</td>\n",
       "      <td>124</td>\n",
       "      <td>NaN</td>\n",
       "    </tr>\n",
       "    <tr>\n",
       "      <th>46</th>\n",
       "      <td>47</td>\n",
       "      <td>NORTE</td>\n",
       "      <td>ANCASH</td>\n",
       "      <td>TAMBO</td>\n",
       "      <td>TA18776_TAMBO ANCASH</td>\n",
       "      <td>VSAT</td>\n",
       "      <td>CAIDO</td>\n",
       "      <td>NaT</td>\n",
       "      <td>AXESSAT</td>\n",
       "      <td>NaN</td>\n",
       "      <td>NaN</td>\n",
       "      <td>83</td>\n",
       "      <td>NaN</td>\n",
       "    </tr>\n",
       "    <tr>\n",
       "      <th>49</th>\n",
       "      <td>50</td>\n",
       "      <td>NORTE</td>\n",
       "      <td>LA LIBERTAD</td>\n",
       "      <td>CHACUR</td>\n",
       "      <td>TJ18748_LA_VINA_-_LA_LIBERTA</td>\n",
       "      <td>VSAT</td>\n",
       "      <td>CAIDO</td>\n",
       "      <td>NaT</td>\n",
       "      <td>AXESSAT</td>\n",
       "      <td>NaN</td>\n",
       "      <td>NaN</td>\n",
       "      <td>81</td>\n",
       "      <td>NaN</td>\n",
       "    </tr>\n",
       "    <tr>\n",
       "      <th>50</th>\n",
       "      <td>51</td>\n",
       "      <td>NORTE</td>\n",
       "      <td>CAJAMARCA</td>\n",
       "      <td>PAMPLONA</td>\n",
       "      <td>TC18707_PAMPLONA</td>\n",
       "      <td>VSAT</td>\n",
       "      <td>CAIDO</td>\n",
       "      <td>NaT</td>\n",
       "      <td>EUTELSAT (BANDA C)</td>\n",
       "      <td>Personal en sitio</td>\n",
       "      <td>NaN</td>\n",
       "      <td>77</td>\n",
       "      <td>NaN</td>\n",
       "    </tr>\n",
       "    <tr>\n",
       "      <th>55</th>\n",
       "      <td>56</td>\n",
       "      <td>NORTE</td>\n",
       "      <td>LA LIBERTAD</td>\n",
       "      <td>MUMALQUITA</td>\n",
       "      <td>TJ18705_EL_EDEN</td>\n",
       "      <td>VSAT</td>\n",
       "      <td>CAIDO</td>\n",
       "      <td>NaT</td>\n",
       "      <td>EUTELSAT (BANDA C)</td>\n",
       "      <td>Personal en sitio</td>\n",
       "      <td>NaN</td>\n",
       "      <td>55</td>\n",
       "      <td>NaN</td>\n",
       "    </tr>\n",
       "    <tr>\n",
       "      <th>60</th>\n",
       "      <td>61</td>\n",
       "      <td>NORTE</td>\n",
       "      <td>PIURA</td>\n",
       "      <td>PASALLAPAMPA</td>\n",
       "      <td>TP6288_Odebrech_Occidente</td>\n",
       "      <td>CINC</td>\n",
       "      <td>CAIDO</td>\n",
       "      <td>NaT</td>\n",
       "      <td>AXESSAT</td>\n",
       "      <td>Personal en tránsito</td>\n",
       "      <td>NaN</td>\n",
       "      <td>18</td>\n",
       "      <td>NaN</td>\n",
       "    </tr>\n",
       "  </tbody>\n",
       "</table>\n",
       "</div>"
      ],
      "text/plain": [
       "    ITEM REGION DEPARTAMENTO           CENTRO POBLADO  \\\n",
       "2      3  NORTE       LORETO               SARAMIRIZA   \n",
       "7      8  NORTE       ANCASH                   PATARA   \n",
       "8      9  NORTE  LA LIBERTAD                LOS LOROS   \n",
       "11    12  NORTE  LA LIBERTAD                SATAPAMPA   \n",
       "16    17  NORTE       ANCASH  HONUHUANAY (HUNUHUANEY)   \n",
       "21    22  NORTE    CAJAMARCA                  CHICOTE   \n",
       "27    28  NORTE        PIURA        SAUSAL DE CULUCAN   \n",
       "29    30  NORTE  LA LIBERTAD               CANAQUILES   \n",
       "41    42  NORTE    CAJAMARCA                 ÑURUÑUPE   \n",
       "42    43  NORTE       ANCASH               QUIROBAMBA   \n",
       "46    47  NORTE       ANCASH                    TAMBO   \n",
       "49    50  NORTE  LA LIBERTAD                   CHACUR   \n",
       "50    51  NORTE    CAJAMARCA                 PAMPLONA   \n",
       "55    56  NORTE  LA LIBERTAD               MUMALQUITA   \n",
       "60    61  NORTE        PIURA             PASALLAPAMPA   \n",
       "\n",
       "                   NOMBRE DEL SITIO TIPO DE TECNOLOGÍA ESTATUS  \\\n",
       "2                 LL1858_Manseriche               CINC   CAIDO   \n",
       "7                    TA18758_PATARA               VSAT   CAIDO   \n",
       "8            TJ18235_PICO_LOS_LOROS               VSAT   CAIDO   \n",
       "11                TJ18742_SATAPAMPA               VSAT   CAIDO   \n",
       "16               TA18646_HONUHUANAY               VSAT   CAIDO   \n",
       "21  TC18696_SAN_ISIDRO_DE_LAS_ROSAS               VSAT   CAIDO   \n",
       "27              TP18046_PICO_SAUSAL               VSAT   CAIDO   \n",
       "29             TJ18216_PICO_CALEMAR               VSAT   CAIDO   \n",
       "41                 TC18668_NURUNUPE               VSAT   CAIDO   \n",
       "42               TA18029_QUIROBAMBA               VSAT   CAIDO   \n",
       "46             TA18776_TAMBO ANCASH               VSAT   CAIDO   \n",
       "49     TJ18748_LA_VINA_-_LA_LIBERTA               VSAT   CAIDO   \n",
       "50                 TC18707_PAMPLONA               VSAT   CAIDO   \n",
       "55                  TJ18705_EL_EDEN               VSAT   CAIDO   \n",
       "60        TP6288_Odebrech_Occidente               CINC   CAIDO   \n",
       "\n",
       "   FECHA DE RESTABLECIMIENTO  ASIGNADO A (RECUP)            ATENCIONES  \\\n",
       "2                        NaT             AXESSAT                   NaN   \n",
       "7                        NaT             AXESSAT                   NaN   \n",
       "8                        NaT             AXESSAT                   NaN   \n",
       "11                       NaT  EUTELSAT (BANDA C)                   NaN   \n",
       "16                       NaT             AXESSAT                   NaN   \n",
       "21                       NaT             AXESSAT                   NaN   \n",
       "27                       NaT             AXESSAT  Personal en tránsito   \n",
       "29                       NaT             AXESSAT                   NaN   \n",
       "41                       NaT  EUTELSAT (BANDA C)     Personal en sitio   \n",
       "42                       NaT             AXESSAT                   NaN   \n",
       "46                       NaT             AXESSAT                   NaN   \n",
       "49                       NaT             AXESSAT                   NaN   \n",
       "50                       NaT  EUTELSAT (BANDA C)     Personal en sitio   \n",
       "55                       NaT  EUTELSAT (BANDA C)     Personal en sitio   \n",
       "60                       NaT             AXESSAT  Personal en tránsito   \n",
       "\n",
       "    PROGRAMACIÓN  USUARIOS CLARO Estado  \n",
       "2            NaN            2043    NaN  \n",
       "7            NaN             480    NaN  \n",
       "8            NaN             443    NaN  \n",
       "11           NaN             363    NaN  \n",
       "16           NaN             272    NaN  \n",
       "21           NaN             243    NaN  \n",
       "27           NaN             192    NaN  \n",
       "29           NaN             174    NaN  \n",
       "41           NaN             126    NaN  \n",
       "42           NaN             124    NaN  \n",
       "46           NaN              83    NaN  \n",
       "49           NaN              81    NaN  \n",
       "50           NaN              77    NaN  \n",
       "55           NaN              55    NaN  \n",
       "60           NaN              18    NaN  "
      ]
     },
     "execution_count": 7,
     "metadata": {},
     "output_type": "execute_result"
    }
   ],
   "source": [
    "df_sat_1 = df_sat[df_sat.ESTATUS == 'CAIDO']\n",
    "df_sat_1"
   ]
  },
  {
   "cell_type": "code",
   "execution_count": 32,
   "id": "34876ec1-54b7-4d69-9c39-d9a51da48567",
   "metadata": {},
   "outputs": [],
   "source": [
    "Id_sites =  df_sat['NOMBRE DEL SITIO'].str.split('_').str[0].tolist()"
   ]
  },
  {
   "cell_type": "code",
   "execution_count": 8,
   "id": "376cb21f-cbc7-41dc-a11e-5e83d6378b01",
   "metadata": {},
   "outputs": [],
   "source": [
    "Id_sites_1 =  df_sat_1['NOMBRE DEL SITIO'].str.split('_').str[0].tolist()"
   ]
  },
  {
   "cell_type": "code",
   "execution_count": null,
   "id": "fae6436e-1228-4f5b-8ebb-24b944a7c32f",
   "metadata": {},
   "outputs": [],
   "source": []
  },
  {
   "cell_type": "code",
   "execution_count": 7,
   "id": "4a624c59-9ea2-4bcb-9f1b-75862e87f436",
   "metadata": {},
   "outputs": [],
   "source": [
    "driver = webdriver.Chrome()\n",
    "############ Me Logeo en el Mapa Movil ###################\n",
    "driver.get(\"http://172.16.102.103/Mapa_Densidad_Sites/public/?ticketID=qbI9LHK1bskS1awTZD1V8ZxgLWr5fUwH\")\n",
    "button = driver.find_element(By.ID, \"details-button\")\n",
    "button.click()\n",
    "acces = driver.find_element(By.ID, \"proceed-link\")\n",
    "acces.click()\n",
    "GD.login(driver,'username','password')\n"
   ]
  },
  {
   "cell_type": "code",
   "execution_count": null,
   "id": "5fb6ad3e-7031-4906-b82a-fa5b0ab2c31c",
   "metadata": {},
   "outputs": [],
   "source": []
  },
  {
   "cell_type": "code",
   "execution_count": null,
   "id": "2b9ebb5b-e4f8-4fd8-b15c-64ef5902d022",
   "metadata": {},
   "outputs": [],
   "source": [
    "search_box = driver.find_element(By.XPATH, ('//*[@id=\"site_id\"]'))\n",
    "search_box.send_keys('TP6288')\n",
    "search_box.send_keys(Keys.ENTER)\n"
   ]
  },
  {
   "cell_type": "code",
   "execution_count": 31,
   "id": "05f0d6d9-f405-4e73-9f1d-de992f5200aa",
   "metadata": {},
   "outputs": [
    {
     "data": {
      "text/plain": [
       "'31'"
      ]
     },
     "execution_count": 31,
     "metadata": {},
     "output_type": "execute_result"
    }
   ],
   "source": [
    "data = driver.find_element(By.XPATH, ('//*[@id=\"table-viven-popup\"]/table/tbody/tr[td[contains(text(),\"Usuarios\")]]//td[2]'))\n",
    "data.text"
   ]
  },
  {
   "cell_type": "code",
   "execution_count": 42,
   "id": "77a110e9-17ca-4932-be32-e82f30eb9363",
   "metadata": {},
   "outputs": [],
   "source": [
    "for clave,valor in Sat_st_dic.items():\n",
    "    search_box = driver.find_element(By.XPATH, ('//*[@id=\"site_id\"]'))\n",
    "    search_box.clear()\n",
    "    search_box.send_keys(clave)\n",
    "    search_box.send_keys(Keys.ENTER)\n",
    "    element =   WebDriverWait(driver, 6).until(EC.visibility_of_element_located((By.XPATH, ('//*[@id=\"table-viven-popup\"]/table/tbody/tr[td[contains(text(),\"Usuarios\")]]//td[2]'))))\n",
    "    data = element.text\n",
    "    wait(2)\n",
    "    valor.append(data)"
   ]
  },
  {
   "cell_type": "code",
   "execution_count": 45,
   "id": "86583211-ea94-44b3-8d4e-deda1822ebb1",
   "metadata": {
    "scrolled": true
   },
   "outputs": [],
   "source": [
    "for clave, _ in Sat_st_dic.items():\n",
    "    search_box = driver.find_element(By.XPATH, ('//*[@id=\"site_id\"]'))\n",
    "    search_box.clear()\n",
    "    search_box.send_keys(clave)\n",
    "    search_box.send_keys(Keys.ENTER)\n",
    "    element = WebDriverWait(driver, 6).until(EC.visibility_of_element_located((By.XPATH, ('//*[@id=\"table-viven-popup\"]/table/tbody/tr[td[contains(text(),\"Usuarios\")]]//td[2]'))))\n",
    "    data = element.text\n",
    "    time.sleep(2)\n",
    "    Sat_st_dic[clave] = [data]  # Reemplaza la lista existente con una nueva lista que contiene solo 'data'\n"
   ]
  },
  {
   "cell_type": "code",
   "execution_count": 47,
   "id": "9f4f2188-1d42-4454-99b2-6064653bbdfe",
   "metadata": {},
   "outputs": [
    {
     "data": {
      "text/html": [
       "<div>\n",
       "<style scoped>\n",
       "    .dataframe tbody tr th:only-of-type {\n",
       "        vertical-align: middle;\n",
       "    }\n",
       "\n",
       "    .dataframe tbody tr th {\n",
       "        vertical-align: top;\n",
       "    }\n",
       "\n",
       "    .dataframe thead th {\n",
       "        text-align: right;\n",
       "    }\n",
       "</style>\n",
       "<table border=\"1\" class=\"dataframe\">\n",
       "  <thead>\n",
       "    <tr style=\"text-align: right;\">\n",
       "      <th></th>\n",
       "      <th>ID_site</th>\n",
       "      <th>Valores</th>\n",
       "    </tr>\n",
       "  </thead>\n",
       "  <tbody>\n",
       "    <tr>\n",
       "      <th>0</th>\n",
       "      <td>LH3616</td>\n",
       "      <td>[852]</td>\n",
       "    </tr>\n",
       "    <tr>\n",
       "      <th>1</th>\n",
       "      <td>LH3617</td>\n",
       "      <td>[599]</td>\n",
       "    </tr>\n",
       "    <tr>\n",
       "      <th>2</th>\n",
       "      <td>LL1858</td>\n",
       "      <td>[2082]</td>\n",
       "    </tr>\n",
       "    <tr>\n",
       "      <th>3</th>\n",
       "      <td>TC4928</td>\n",
       "      <td>[1282]</td>\n",
       "    </tr>\n",
       "    <tr>\n",
       "      <th>4</th>\n",
       "      <td>TM5604</td>\n",
       "      <td>[1075]</td>\n",
       "    </tr>\n",
       "    <tr>\n",
       "      <th>...</th>\n",
       "      <td>...</td>\n",
       "      <td>...</td>\n",
       "    </tr>\n",
       "    <tr>\n",
       "      <th>56</th>\n",
       "      <td>TJ18105</td>\n",
       "      <td>[53]</td>\n",
       "    </tr>\n",
       "    <tr>\n",
       "      <th>57</th>\n",
       "      <td>TC18057</td>\n",
       "      <td>[48]</td>\n",
       "    </tr>\n",
       "    <tr>\n",
       "      <th>58</th>\n",
       "      <td>TP18636</td>\n",
       "      <td>[34]</td>\n",
       "    </tr>\n",
       "    <tr>\n",
       "      <th>59</th>\n",
       "      <td>TC18698</td>\n",
       "      <td>[31]</td>\n",
       "    </tr>\n",
       "    <tr>\n",
       "      <th>60</th>\n",
       "      <td>TP6288</td>\n",
       "      <td>[31]</td>\n",
       "    </tr>\n",
       "  </tbody>\n",
       "</table>\n",
       "<p>61 rows × 2 columns</p>\n",
       "</div>"
      ],
      "text/plain": [
       "    ID_site Valores\n",
       "0    LH3616   [852]\n",
       "1    LH3617   [599]\n",
       "2    LL1858  [2082]\n",
       "3    TC4928  [1282]\n",
       "4    TM5604  [1075]\n",
       "..      ...     ...\n",
       "56  TJ18105    [53]\n",
       "57  TC18057    [48]\n",
       "58  TP18636    [34]\n",
       "59  TC18698    [31]\n",
       "60   TP6288    [31]\n",
       "\n",
       "[61 rows x 2 columns]"
      ]
     },
     "execution_count": 47,
     "metadata": {},
     "output_type": "execute_result"
    }
   ],
   "source": [
    "\n",
    "df = pd.DataFrame(list(Sat_st_dic.items()), columns=['ID_site', 'Valores'])\n",
    "\n",
    "df"
   ]
  },
  {
   "cell_type": "markdown",
   "id": "a35b3ae3-971d-4642-83f4-de8f1c466207",
   "metadata": {},
   "source": [
    "## V2 para extraer imagenes de las graficas de una lista de sites"
   ]
  },
  {
   "cell_type": "code",
   "execution_count": 12,
   "id": "bc700e9f-b8fc-4d4b-a990-8afed4a130e1",
   "metadata": {},
   "outputs": [],
   "source": [
    "def write_texta(driver,Xpath,Text2wrt):\n",
    "    texta = driver.find_element(By.XPATH,(Xpath))\n",
    "    texta.clear()\n",
    "    texta.send_keys(Text2wrt)"
   ]
  },
  {
   "cell_type": "code",
   "execution_count": 36,
   "id": "32fca1cc-ca67-48f7-bbe7-c174ba0ab4cd",
   "metadata": {
    "scrolled": true
   },
   "outputs": [
    {
     "data": {
      "text/plain": [
       "['LH3616',\n",
       " 'LH3617',\n",
       " 'TC4928',\n",
       " 'TM5604',\n",
       " 'TM5625',\n",
       " 'TA6451',\n",
       " 'TJ5238',\n",
       " 'TJ5261',\n",
       " 'TC18704',\n",
       " 'TA6446',\n",
       " 'TA5807',\n",
       " 'TC18676',\n",
       " 'TC18710',\n",
       " 'TA6445',\n",
       " 'TC18654',\n",
       " 'TA18790',\n",
       " 'TJ18736',\n",
       " 'TL18674',\n",
       " 'TC18660',\n",
       " 'TP18037',\n",
       " 'TJ18738',\n",
       " 'TA18792',\n",
       " 'TA18796',\n",
       " 'TJ18239',\n",
       " 'TP6539',\n",
       " 'TC18678',\n",
       " 'TC18700',\n",
       " 'TJ18722',\n",
       " 'TA6443',\n",
       " 'TA18760',\n",
       " 'TC18664',\n",
       " 'TJ18728',\n",
       " 'TC18059',\n",
       " 'TC18650',\n",
       " 'TJ18019',\n",
       " 'TP18634',\n",
       " 'TP18638',\n",
       " 'TP18642',\n",
       " 'TA18762',\n",
       " 'TP18640',\n",
       " 'TA6461',\n",
       " 'TA18764',\n",
       " 'TJ18105',\n",
       " 'TC18057',\n",
       " 'TP18636',\n",
       " 'TC18698']"
      ]
     },
     "execution_count": 36,
     "metadata": {},
     "output_type": "execute_result"
    }
   ],
   "source": [
    "Id_sites # lista d elos sites"
   ]
  },
  {
   "cell_type": "code",
   "execution_count": 9,
   "id": "30bf31d5-8ce4-46ab-985f-c83dde31a4df",
   "metadata": {},
   "outputs": [],
   "source": [
    "chrome_options = webdriver.ChromeOptions()\n",
    "prefs = {\"download.default_directory\" : r\"D:\\Satelital_site\"}\n",
    "chrome_options.add_experimental_option(\"prefs\",prefs)\n",
    "driver = webdriver.Chrome(options=chrome_options)\n",
    "\n",
    "# Ahora puedes continuar con tu código...\n",
    "\n",
    "\n",
    "driver.get('http://172.17.27.157/portalmonitoreo/public/login')\n",
    "GD.login(driver,'username','password',password = 'Elbrix<3123')\n",
    "############ Me Logeo en el Mapa Movil ###################"
   ]
  },
  {
   "cell_type": "code",
   "execution_count": null,
   "id": "e20fdc59-e5f7-4592-99bb-cc2c53704459",
   "metadata": {},
   "outputs": [],
   "source": [
    "#TC18704"
   ]
  },
  {
   "cell_type": "code",
   "execution_count": 80,
   "id": "91e686dc-cbc6-4519-990a-2c2df2c6e17e",
   "metadata": {},
   "outputs": [
    {
     "name": "stderr",
     "output_type": "stream",
     "text": [
      "Progreso,Site: TJ18736:  46%|██████████████████████████▍                               | 21/46 [03:52<06:36, 15.86s/it]"
     ]
    },
    {
     "name": "stdout",
     "output_type": "stream",
     "text": [
      "Fallo en:  TJ18738\n"
     ]
    },
    {
     "name": "stderr",
     "output_type": "stream",
     "text": [
      "Progreso,Site: TJ18736:  57%|████████████████████████████████▊                         | 26/46 [04:59<05:20, 16.01s/it]"
     ]
    },
    {
     "name": "stdout",
     "output_type": "stream",
     "text": [
      "Fallo en:  TC18678\n"
     ]
    },
    {
     "name": "stderr",
     "output_type": "stream",
     "text": [
      "Progreso,Site: TJ18736:  59%|██████████████████████████████████                        | 27/46 [05:25<06:00, 18.96s/it]"
     ]
    },
    {
     "name": "stdout",
     "output_type": "stream",
     "text": [
      "Fallo en:  TC18700\n"
     ]
    },
    {
     "name": "stderr",
     "output_type": "stream",
     "text": [
      "Progreso,Site: TJ18736:  61%|███████████████████████████████████▎                      | 28/46 [05:41<05:25, 18.10s/it]"
     ]
    },
    {
     "name": "stdout",
     "output_type": "stream",
     "text": [
      "Fallo en:  TJ18722\n"
     ]
    },
    {
     "name": "stderr",
     "output_type": "stream",
     "text": [
      "Progreso,Site: TJ18736:  63%|████████████████████████████████████▌                     | 29/46 [06:06<05:44, 20.25s/it]"
     ]
    },
    {
     "name": "stdout",
     "output_type": "stream",
     "text": [
      "Fallo en:  TA6443\n"
     ]
    },
    {
     "name": "stderr",
     "output_type": "stream",
     "text": [
      "Progreso,Site: TJ18736:  65%|█████████████████████████████████████▊                    | 30/46 [06:33<05:53, 22.07s/it]"
     ]
    },
    {
     "name": "stdout",
     "output_type": "stream",
     "text": [
      "Fallo en:  TA18760\n"
     ]
    },
    {
     "name": "stderr",
     "output_type": "stream",
     "text": [
      "Progreso,Site: TJ18736:  70%|████████████████████████████████████████▎                 | 32/46 [07:09<04:50, 20.74s/it]"
     ]
    },
    {
     "name": "stdout",
     "output_type": "stream",
     "text": [
      "Fallo en:  TJ18728\n"
     ]
    },
    {
     "name": "stderr",
     "output_type": "stream",
     "text": [
      "Progreso,Site: TJ18736:  72%|█████████████████████████████████████████▌                | 33/46 [07:35<04:47, 22.14s/it]"
     ]
    },
    {
     "name": "stdout",
     "output_type": "stream",
     "text": [
      "Fallo en:  TC18059\n"
     ]
    },
    {
     "name": "stderr",
     "output_type": "stream",
     "text": [
      "Progreso,Site: TJ18736:  74%|██████████████████████████████████████████▊               | 34/46 [07:59<04:35, 22.95s/it]"
     ]
    },
    {
     "name": "stdout",
     "output_type": "stream",
     "text": [
      "Fallo en:  TC18650\n"
     ]
    },
    {
     "name": "stderr",
     "output_type": "stream",
     "text": [
      "Progreso,Site: TJ18736:  78%|█████████████████████████████████████████████▍            | 36/46 [08:26<03:02, 18.22s/it]"
     ]
    },
    {
     "name": "stdout",
     "output_type": "stream",
     "text": [
      "Fallo en:  TP18634\n"
     ]
    },
    {
     "name": "stderr",
     "output_type": "stream",
     "text": [
      "Progreso,Site: TJ18736: 100%|██████████████████████████████████████████████████████████| 46/46 [10:28<00:00, 13.66s/it]\n"
     ]
    }
   ],
   "source": [
    "\n",
    "for code in tqdm.tqdm(Id_sites,desc=f'Progreso,Site: {code}'):\n",
    "    try:\n",
    "        driver.get(f'http://172.17.27.157/portalmonitoreo/public/desemp/1/16/249?site_name=%7B\"operator\"%3A\"like\"%2C\"value\"%3A\"{code}\"%7D')\n",
    "        wait = WebDriverWait(driver, 15)\n",
    "        look_graph_btt= wait.until(EC.visibility_of_element_located((By.XPATH, '//*[@id=\"crudTable\"]/tbody/tr/td[7]/a[1]/span')))\n",
    "        look_graph_btt.click()\n",
    "        #/html/body/div[2]/main/div[8]/div[5]/div[1]\n",
    "        look_graph_btt= wait.until(EC.visibility_of_element_located((By.XPATH, '/html/body/div[2]/main/div[8]/div[5]/div[1]')))\n",
    "        look_graph_btt.click()\n",
    "        #//*[@id=\"idatarange\"]\n",
    "        write_texta(driver,'//*[@id=\"idatarange\"]','15/01/2024 - 19/03/2024')\n",
    "        look_graph_btt= wait.until(EC.visibility_of_element_located((By.XPATH, '/html/body/div[3]/div[4]/button[2]')))\n",
    "        look_graph_btt.click()\n",
    "        time.sleep(2)\n",
    "        look_graph_btt= wait.until(EC.visibility_of_element_located((By.XPATH, \"//label[contains(text(), 'TRAFICO DE VOZ')]\")))\n",
    "        look_graph_btt.click()\n",
    "        time.sleep(4)\n",
    "    \n",
    "        lin3s= wait.until(EC.visibility_of_element_located((By.XPATH, \"(//*[starts-with(@class, 'highcharts-container')])[1]/child::*[1]/child::*[11]\")))\n",
    "        lin3s.click()\n",
    "        time.sleep(1)\n",
    "        look_graph_btt= wait.until(EC.visibility_of_element_located((By.XPATH, \"//li[contains(text(), 'Download JPEG image')]\")))\n",
    "        look_graph_btt.click()\n",
    "    except TimeoutException:\n",
    "        print('Fallo en: ',code)\n",
    "        fail_list = []\n",
    "        fail_list.append(code)\n",
    "        pass\n"
   ]
  },
  {
   "cell_type": "code",
   "execution_count": 81,
   "id": "332ac616-db95-4d14-9502-9402a6236dc2",
   "metadata": {},
   "outputs": [],
   "source": [
    "fail_list = ['TA18760', 'TJ18728','TC18059','TC18650','TP18634']"
   ]
  },
  {
   "cell_type": "code",
   "execution_count": 82,
   "id": "12a4c72a-96cd-45a7-a84b-6412ff1ea7f8",
   "metadata": {},
   "outputs": [
    {
     "name": "stderr",
     "output_type": "stream",
     "text": [
      "Progreso:: 100%|█████████████████████████████████████████████████████████████████████████| 5/5 [00:53<00:00, 10.69s/it]"
     ]
    },
    {
     "name": "stdout",
     "output_type": "stream",
     "text": [
      "Fallo en:  TP18634\n"
     ]
    },
    {
     "name": "stderr",
     "output_type": "stream",
     "text": [
      "\n"
     ]
    }
   ],
   "source": [
    "for code in tqdm.tqdm(fail_list,desc = 'Progreso:'):\n",
    "    try:\n",
    "        driver.get(f'http://172.17.27.157/portalmonitoreo/public/desemp/1/16/249?site_name=%7B\"operator\"%3A\"like\"%2C\"value\"%3A\"{code}\"%7D')\n",
    "        wait = WebDriverWait(driver, 15)\n",
    "        look_graph_btt= wait.until(EC.visibility_of_element_located((By.XPATH, '//*[@id=\"crudTable\"]/tbody/tr/td[7]/a[1]/span')))\n",
    "        look_graph_btt.click()\n",
    "        #/html/body/div[2]/main/div[8]/div[5]/div[1]\n",
    "        look_graph_btt= wait.until(EC.visibility_of_element_located((By.XPATH, '/html/body/div[2]/main/div[8]/div[5]/div[1]')))\n",
    "        look_graph_btt.click()\n",
    "        #//*[@id=\"idatarange\"]\n",
    "        write_texta(driver,'//*[@id=\"idatarange\"]','15/01/2024 - 19/03/2024')\n",
    "        look_graph_btt= wait.until(EC.visibility_of_element_located((By.XPATH, '/html/body/div[3]/div[4]/button[2]')))\n",
    "        look_graph_btt.click()\n",
    "        time.sleep(2)\n",
    "        look_graph_btt= wait.until(EC.visibility_of_element_located((By.XPATH, \"//label[contains(text(), 'TRAFICO DE VOZ')]\")))\n",
    "        look_graph_btt.click()\n",
    "        time.sleep(4)\n",
    "    \n",
    "        lin3s= wait.until(EC.visibility_of_element_located((By.XPATH, \"(//*[starts-with(@class, 'highcharts-container')])[1]/child::*[1]/child::*[11]\")))\n",
    "        lin3s.click()\n",
    "        time.sleep(1)\n",
    "        look_graph_btt= wait.until(EC.visibility_of_element_located((By.XPATH, \"//li[contains(text(), 'Download JPEG image')]\")))\n",
    "        look_graph_btt.click()\n",
    "    except TimeoutException:\n",
    "        print('Fallo en: ',code)\n",
    "        fail_list = []\n",
    "        fail_list.append(code)\n",
    "        pass"
   ]
  },
  {
   "cell_type": "code",
   "execution_count": 14,
   "id": "70a7eb86-e492-426d-b7a7-11cb6d0c6e16",
   "metadata": {},
   "outputs": [
    {
     "name": "stderr",
     "output_type": "stream",
     "text": [
      "Progreso:: 100%|███████████████████████████████████████████████████████████████████████| 15/15 [02:21<00:00,  9.44s/it]\n"
     ]
    }
   ],
   "source": [
    "for code in tqdm.tqdm(Id_sites_1,desc = 'Progreso:'):\n",
    "    try:\n",
    "        driver.get(f'http://172.17.27.157/portalmonitoreo/public/desemp/1/16/249?site_name=%7B\"operator\"%3A\"like\"%2C\"value\"%3A\"{code}\"%7D')\n",
    "        wait = WebDriverWait(driver, 15)\n",
    "        look_graph_btt= wait.until(EC.visibility_of_element_located((By.XPATH, '//*[@id=\"crudTable\"]/tbody/tr/td[7]/a[1]/span')))\n",
    "        look_graph_btt.click()\n",
    "        #/html/body/div[2]/main/div[8]/div[5]/div[1]\n",
    "        look_graph_btt= wait.until(EC.visibility_of_element_located((By.XPATH, '/html/body/div[2]/main/div[8]/div[5]/div[1]')))\n",
    "        look_graph_btt.click()\n",
    "        #//*[@id=\"idatarange\"]\n",
    "        write_texta(driver,'//*[@id=\"idatarange\"]','15/01/2024 - 19/03/2024')\n",
    "        look_graph_btt= wait.until(EC.visibility_of_element_located((By.XPATH, '/html/body/div[3]/div[4]/button[2]')))\n",
    "        look_graph_btt.click()\n",
    "        time.sleep(2)\n",
    "        look_graph_btt= wait.until(EC.visibility_of_element_located((By.XPATH, \"//label[contains(text(), 'TRAFICO DE VOZ')]\")))\n",
    "        look_graph_btt.click()\n",
    "        time.sleep(4)\n",
    "    \n",
    "        lin3s= wait.until(EC.visibility_of_element_located((By.XPATH, \"(//*[starts-with(@class, 'highcharts-container')])[1]/child::*[1]/child::*[11]\")))\n",
    "        lin3s.click()\n",
    "        time.sleep(0.5)\n",
    "        look_graph_btt= wait.until(EC.visibility_of_element_located((By.XPATH, \"//li[contains(text(), 'Download JPEG image')]\")))\n",
    "        look_graph_btt.click()\n",
    "    except TimeoutException:\n",
    "        print('Fallo en: ',code)\n",
    "        fail_list = []\n",
    "        fail_list.append(code)\n",
    "        pass"
   ]
  },
  {
   "cell_type": "code",
   "execution_count": null,
   "id": "49e3d86e-b337-4101-8b78-5e9651256ce7",
   "metadata": {},
   "outputs": [],
   "source": [
    "  # para descargar\n",
    "Apps_bttn = wait.until(EC.visibility_of_element_located((By.XPATH, \"//div[img[@title='Mostrar lista de aplicaciones']]\")))\n",
    "Apps_bttn.click()\n",
    "\n",
    "bar =  wait.until(EC.visibility_of_element_located((By.XPATH,'//*[@id=\"WIN_0_304248710\"]/fieldset/div/dl')))\n",
    "bar.click()\n",
    "\n",
    "Ges_Cambs =  wait.until(EC.visibility_of_element_located((By.XPATH,\"//*[@id='WIN_0_80077']/fieldset/div/div/div/div[a[span[text() = 'Gestión de cambios']]]\")))\n",
    "Ges_Cambs.click()                                 \n",
    "\n",
    "Nuv_Cam =  wait.until(EC.visibility_of_element_located((By.XPATH, '//*[@id=\"FormContainer\"]/div[5]/div/div[10]/div/div[2]')))\n",
    "\n",
    "actions = ActionChains(driver)\n",
    "actions.move_to_element(Ges_Cambs)\n",
    "actions.click(Nuv_Cam)\n",
    "actions.perform()"
   ]
  }
 ],
 "metadata": {
  "kernelspec": {
   "display_name": "Python 3 (ipykernel)",
   "language": "python",
   "name": "python3"
  },
  "language_info": {
   "codemirror_mode": {
    "name": "ipython",
    "version": 3
   },
   "file_extension": ".py",
   "mimetype": "text/x-python",
   "name": "python",
   "nbconvert_exporter": "python",
   "pygments_lexer": "ipython3",
   "version": "3.11.5"
  }
 },
 "nbformat": 4,
 "nbformat_minor": 5
}
