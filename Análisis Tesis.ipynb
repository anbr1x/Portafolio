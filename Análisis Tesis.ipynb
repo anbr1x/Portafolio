{
  "nbformat": 4,
  "nbformat_minor": 0,
  "metadata": {
    "colab": {
      "provenance": [],
      "mount_file_id": "1I7xK1IMco2GXPRldMlMgDgoB4zAYJGIK",
      "authorship_tag": "ABX9TyObweqVDfbbtQ679BCdr1zS",
      "include_colab_link": true
    },
    "kernelspec": {
      "name": "python3",
      "display_name": "Python 3"
    },
    "language_info": {
      "name": "python"
    },
    "gpuClass": "standard"
  },
  "cells": [
    {
      "cell_type": "markdown",
      "metadata": {
        "id": "view-in-github",
        "colab_type": "text"
      },
      "source": [
        "<a href=\"https://colab.research.google.com/github/anbr1x/Portafolio/blob/main/An%C3%A1lisis%20Tesis.ipynb\" target=\"_parent\"><img src=\"https://colab.research.google.com/assets/colab-badge.svg\" alt=\"Open In Colab\"/></a>"
      ]
    },
    {
      "cell_type": "markdown",
      "source": [],
      "metadata": {
        "id": "z75BoaImtJ5W"
      }
    },
    {
      "cell_type": "code",
      "source": [
        "\n",
        "import pandas as pd\n",
        " \n",
        "import pandas_datareader.data as web\n",
        "\n",
        "import pandas as pd\n",
        "\n",
        "import datetime as dt\n",
        " \n",
        " "
      ],
      "metadata": {
        "id": "DfUhrbH6AdL-"
      },
      "execution_count": null,
      "outputs": []
    },
    {
      "cell_type": "code",
      "source": [
        "import pandas\n",
        "\n",
        "df = pandas.read_csv('/content/drive/MyDrive/Sample data/datos100reales.csv')\n",
        "df = df.rename(columns={'giroscopio': 'Potenciometro'})\n",
        "df1 = df.iloc[142:840] #se limpia los extremos \n",
        "df"
      ],
      "metadata": {
        "id": "S78mvvRwA4eW",
        "colab": {
          "base_uri": "https://localhost:8080/",
          "height": 424
        },
        "outputId": "6d5b7a73-af1a-46c0-8248-49b1f261beee"
      },
      "execution_count": null,
      "outputs": [
        {
          "output_type": "execute_result",
          "data": {
            "text/plain": [
              "     tiempo  camara  Potenciometro\n",
              "0     0.000  170.84         171.50\n",
              "1     0.068  173.02         171.60\n",
              "2     0.127  174.01         173.22\n",
              "3     0.182  175.73         173.22\n",
              "4     0.245  176.86         175.14\n",
              "..      ...     ...            ...\n",
              "892  43.589  178.57         161.10\n",
              "893  43.646  179.80         165.60\n",
              "894  43.696  179.96         170.34\n",
              "895  43.739  172.73         172.26\n",
              "896  43.782  171.12         172.74\n",
              "\n",
              "[897 rows x 3 columns]"
            ],
            "text/html": [
              "\n",
              "  <div id=\"df-c9ce79f6-84e2-49ab-acda-c18a8fff086e\">\n",
              "    <div class=\"colab-df-container\">\n",
              "      <div>\n",
              "<style scoped>\n",
              "    .dataframe tbody tr th:only-of-type {\n",
              "        vertical-align: middle;\n",
              "    }\n",
              "\n",
              "    .dataframe tbody tr th {\n",
              "        vertical-align: top;\n",
              "    }\n",
              "\n",
              "    .dataframe thead th {\n",
              "        text-align: right;\n",
              "    }\n",
              "</style>\n",
              "<table border=\"1\" class=\"dataframe\">\n",
              "  <thead>\n",
              "    <tr style=\"text-align: right;\">\n",
              "      <th></th>\n",
              "      <th>tiempo</th>\n",
              "      <th>camara</th>\n",
              "      <th>Potenciometro</th>\n",
              "    </tr>\n",
              "  </thead>\n",
              "  <tbody>\n",
              "    <tr>\n",
              "      <th>0</th>\n",
              "      <td>0.000</td>\n",
              "      <td>170.84</td>\n",
              "      <td>171.50</td>\n",
              "    </tr>\n",
              "    <tr>\n",
              "      <th>1</th>\n",
              "      <td>0.068</td>\n",
              "      <td>173.02</td>\n",
              "      <td>171.60</td>\n",
              "    </tr>\n",
              "    <tr>\n",
              "      <th>2</th>\n",
              "      <td>0.127</td>\n",
              "      <td>174.01</td>\n",
              "      <td>173.22</td>\n",
              "    </tr>\n",
              "    <tr>\n",
              "      <th>3</th>\n",
              "      <td>0.182</td>\n",
              "      <td>175.73</td>\n",
              "      <td>173.22</td>\n",
              "    </tr>\n",
              "    <tr>\n",
              "      <th>4</th>\n",
              "      <td>0.245</td>\n",
              "      <td>176.86</td>\n",
              "      <td>175.14</td>\n",
              "    </tr>\n",
              "    <tr>\n",
              "      <th>...</th>\n",
              "      <td>...</td>\n",
              "      <td>...</td>\n",
              "      <td>...</td>\n",
              "    </tr>\n",
              "    <tr>\n",
              "      <th>892</th>\n",
              "      <td>43.589</td>\n",
              "      <td>178.57</td>\n",
              "      <td>161.10</td>\n",
              "    </tr>\n",
              "    <tr>\n",
              "      <th>893</th>\n",
              "      <td>43.646</td>\n",
              "      <td>179.80</td>\n",
              "      <td>165.60</td>\n",
              "    </tr>\n",
              "    <tr>\n",
              "      <th>894</th>\n",
              "      <td>43.696</td>\n",
              "      <td>179.96</td>\n",
              "      <td>170.34</td>\n",
              "    </tr>\n",
              "    <tr>\n",
              "      <th>895</th>\n",
              "      <td>43.739</td>\n",
              "      <td>172.73</td>\n",
              "      <td>172.26</td>\n",
              "    </tr>\n",
              "    <tr>\n",
              "      <th>896</th>\n",
              "      <td>43.782</td>\n",
              "      <td>171.12</td>\n",
              "      <td>172.74</td>\n",
              "    </tr>\n",
              "  </tbody>\n",
              "</table>\n",
              "<p>897 rows × 3 columns</p>\n",
              "</div>\n",
              "      <button class=\"colab-df-convert\" onclick=\"convertToInteractive('df-c9ce79f6-84e2-49ab-acda-c18a8fff086e')\"\n",
              "              title=\"Convert this dataframe to an interactive table.\"\n",
              "              style=\"display:none;\">\n",
              "        \n",
              "  <svg xmlns=\"http://www.w3.org/2000/svg\" height=\"24px\"viewBox=\"0 0 24 24\"\n",
              "       width=\"24px\">\n",
              "    <path d=\"M0 0h24v24H0V0z\" fill=\"none\"/>\n",
              "    <path d=\"M18.56 5.44l.94 2.06.94-2.06 2.06-.94-2.06-.94-.94-2.06-.94 2.06-2.06.94zm-11 1L8.5 8.5l.94-2.06 2.06-.94-2.06-.94L8.5 2.5l-.94 2.06-2.06.94zm10 10l.94 2.06.94-2.06 2.06-.94-2.06-.94-.94-2.06-.94 2.06-2.06.94z\"/><path d=\"M17.41 7.96l-1.37-1.37c-.4-.4-.92-.59-1.43-.59-.52 0-1.04.2-1.43.59L10.3 9.45l-7.72 7.72c-.78.78-.78 2.05 0 2.83L4 21.41c.39.39.9.59 1.41.59.51 0 1.02-.2 1.41-.59l7.78-7.78 2.81-2.81c.8-.78.8-2.07 0-2.86zM5.41 20L4 18.59l7.72-7.72 1.47 1.35L5.41 20z\"/>\n",
              "  </svg>\n",
              "      </button>\n",
              "      \n",
              "  <style>\n",
              "    .colab-df-container {\n",
              "      display:flex;\n",
              "      flex-wrap:wrap;\n",
              "      gap: 12px;\n",
              "    }\n",
              "\n",
              "    .colab-df-convert {\n",
              "      background-color: #E8F0FE;\n",
              "      border: none;\n",
              "      border-radius: 50%;\n",
              "      cursor: pointer;\n",
              "      display: none;\n",
              "      fill: #1967D2;\n",
              "      height: 32px;\n",
              "      padding: 0 0 0 0;\n",
              "      width: 32px;\n",
              "    }\n",
              "\n",
              "    .colab-df-convert:hover {\n",
              "      background-color: #E2EBFA;\n",
              "      box-shadow: 0px 1px 2px rgba(60, 64, 67, 0.3), 0px 1px 3px 1px rgba(60, 64, 67, 0.15);\n",
              "      fill: #174EA6;\n",
              "    }\n",
              "\n",
              "    [theme=dark] .colab-df-convert {\n",
              "      background-color: #3B4455;\n",
              "      fill: #D2E3FC;\n",
              "    }\n",
              "\n",
              "    [theme=dark] .colab-df-convert:hover {\n",
              "      background-color: #434B5C;\n",
              "      box-shadow: 0px 1px 3px 1px rgba(0, 0, 0, 0.15);\n",
              "      filter: drop-shadow(0px 1px 2px rgba(0, 0, 0, 0.3));\n",
              "      fill: #FFFFFF;\n",
              "    }\n",
              "  </style>\n",
              "\n",
              "      <script>\n",
              "        const buttonEl =\n",
              "          document.querySelector('#df-c9ce79f6-84e2-49ab-acda-c18a8fff086e button.colab-df-convert');\n",
              "        buttonEl.style.display =\n",
              "          google.colab.kernel.accessAllowed ? 'block' : 'none';\n",
              "\n",
              "        async function convertToInteractive(key) {\n",
              "          const element = document.querySelector('#df-c9ce79f6-84e2-49ab-acda-c18a8fff086e');\n",
              "          const dataTable =\n",
              "            await google.colab.kernel.invokeFunction('convertToInteractive',\n",
              "                                                     [key], {});\n",
              "          if (!dataTable) return;\n",
              "\n",
              "          const docLinkHtml = 'Like what you see? Visit the ' +\n",
              "            '<a target=\"_blank\" href=https://colab.research.google.com/notebooks/data_table.ipynb>data table notebook</a>'\n",
              "            + ' to learn more about interactive tables.';\n",
              "          element.innerHTML = '';\n",
              "          dataTable['output_type'] = 'display_data';\n",
              "          await google.colab.output.renderOutput(dataTable, element);\n",
              "          const docLink = document.createElement('div');\n",
              "          docLink.innerHTML = docLinkHtml;\n",
              "          element.appendChild(docLink);\n",
              "        }\n",
              "      </script>\n",
              "    </div>\n",
              "  </div>\n",
              "  "
            ]
          },
          "metadata": {},
          "execution_count": 48
        }
      ]
    },
    {
      "cell_type": "code",
      "source": [
        "angulomin = df[\"camara\"].min()\n",
        "angulomax = df[\"camara\"].max()\n",
        "print(angulomin)\n",
        "print(angulomax)"
      ],
      "metadata": {
        "id": "GsCQJyBevPkt",
        "colab": {
          "base_uri": "https://localhost:8080/"
        },
        "outputId": "2429e92b-c43c-410c-c099-0b4089475190"
      },
      "execution_count": null,
      "outputs": [
        {
          "output_type": "stream",
          "name": "stdout",
          "text": [
            "40.51\n",
            "180.0\n"
          ]
        }
      ]
    },
    {
      "cell_type": "code",
      "source": [
        "angulomin1 = df[\"Potenciometro\"].min()\n",
        "angulomax1 = df[\"Potenciometro\"].max()\n",
        "print(angulomin1)\n",
        "print(angulomax1)"
      ],
      "metadata": {
        "id": "TMTPHnG4yybs",
        "colab": {
          "base_uri": "https://localhost:8080/"
        },
        "outputId": "cffecb76-30da-4cc4-c0fe-7a6067f9444c"
      },
      "execution_count": null,
      "outputs": [
        {
          "output_type": "stream",
          "name": "stdout",
          "text": [
            "60.0\n",
            "183.72\n"
          ]
        }
      ]
    },
    {
      "cell_type": "code",
      "source": [
        "import matplotlib.pyplot as plt\n",
        "# Crear un gráfico de dispersión de 'precio' vs 'cantidad'\n",
        "plt.scatter(df['tiempo'], df['camara'])\n",
        "\n",
        "# Establecer el título y las etiquetas de los ejes\n",
        "plt.title('Gráfico de dispersión')\n",
        "plt.xlabel('tiempo')\n",
        "plt.ylabel('camara')\n",
        "\n",
        "# Mostrar el gráfico\n",
        "plt.show()"
      ],
      "metadata": {
        "id": "PGq5mh0TyyUR",
        "colab": {
          "base_uri": "https://localhost:8080/",
          "height": 472
        },
        "outputId": "1cb09389-b0c7-4e43-c6bc-548b20a4a1dc"
      },
      "execution_count": null,
      "outputs": [
        {
          "output_type": "display_data",
          "data": {
            "text/plain": [
              "<Figure size 640x480 with 1 Axes>"
            ],
            "image/png": "[encoded data removed]"
          },
          "metadata": {}
        }
      ]
    },
    {
      "cell_type": "code",
      "source": [
        "import matplotlib.pyplot as plt\n",
        "# Crear un gráfico de dispersión de 'precio' vs 'cantidad'\n",
        "plt.scatter(df['tiempo'], df['Potenciometro'])\n",
        "\n",
        "# Establecer el título y las etiquetas de los ejes\n",
        "plt.title('Gráfico de dispersión')\n",
        "plt.xlabel('tiempo')\n",
        "plt.ylabel('Potenciometro')\n",
        "\n",
        "# Mostrar el gráfico\n",
        "plt.show()"
      ],
      "metadata": {
        "id": "xpWPGqpA0iMN",
        "colab": {
          "base_uri": "https://localhost:8080/",
          "height": 472
        },
        "outputId": "172303f0-5724-4789-ac7e-3ee211992be7"
      },
      "execution_count": null,
      "outputs": [
        {
          "output_type": "display_data",
          "data": {
            "text/plain": [
              "<Figure size 640x480 with 1 Axes>"
            ],
            "image/png": "[encoded data removed]"
          },
          "metadata": {}
        }
      ]
    },
    {
      "cell_type": "code",
      "source": [
        "# Crear un scatter plot de columna1 y columna2\n",
        "plt.scatter(df['camara'], df['Potenciometro'])\n",
        "plt.xlabel('camara')\n",
        "plt.ylabel('Potenciometro')\n",
        "plt.title('Correlación medicion media software y dispositivo electronico')\n",
        "plt.show()\n"
      ],
      "metadata": {
        "id": "eXpoLZXS7d7c",
        "colab": {
          "base_uri": "https://localhost:8080/",
          "height": 472
        },
        "outputId": "c716b491-3087-4bf3-fc69-4e263e55e33b"
      },
      "execution_count": null,
      "outputs": [
        {
          "output_type": "display_data",
          "data": {
            "text/plain": [
              "<Figure size 640x480 with 1 Axes>"
            ],
            "image/png": "[encoded data removed]"
          },
          "metadata": {}
        }
      ]
    },
    {
      "cell_type": "code",
      "source": [
        "fig, (ax1, ax2) = plt.subplots(2, 1, sharex=True)\n",
        "fig.suptitle('Medicion del Potenciometro vs Medicion del Software')\n",
        "# Configurar el primer subgráfico para trazar columna1\n",
        "\n",
        "ax1.plot(df['tiempo'], df['Potenciometro'], color='blue')\n",
        "ax1.set_ylabel('Angulo articular')\n",
        "ax2.set_xlabel('Tiempo')\n",
        "\n",
        "# Configurar el segundo subgráfico para trazar columna2\n",
        "ax2.plot(df['tiempo'], df['camara'], color='red')\n",
        "ax2.set_ylabel('Angulo articular')\n",
        "ax2.set_xlabel('Tiempo')\n",
        "plt.figure(figsize=(8, 6))\n",
        "# Mostrar el gráfico completo\n",
        "plt.show()"
      ],
      "metadata": {
        "id": "beWQrL7N1j5m",
        "colab": {
          "base_uri": "https://localhost:8080/",
          "height": 514
        },
        "outputId": "da4e4e8e-253a-4113-e3ce-155ff4187b78"
      },
      "execution_count": null,
      "outputs": [
        {
          "output_type": "display_data",
          "data": {
            "text/plain": [
              "<Figure size 640x480 with 2 Axes>"
            ],
            "image/png": "[encoded data removed]"
          },
          "metadata": {}
        },
        {
          "output_type": "display_data",
          "data": {
            "text/plain": [
              "<Figure size 800x600 with 0 Axes>"
            ]
          },
          "metadata": {}
        }
      ]
    },
    {
      "cell_type": "markdown",
      "source": [
        "# Segmentar las repes por angulo de la camara"
      ],
      "metadata": {
        "id": "WlWAhJupscDH"
      }
    },
    {
      "cell_type": "code",
      "source": [
        "parte1 = df.iloc[142: 330]\n",
        "\n",
        "parte2 = df.iloc[330: 416]\n",
        "parte3 = df.iloc[416:519]\n",
        "\n",
        "parte4 = df.iloc[519:647]\n",
        "\n",
        "parte5 = df.iloc[647:745]\n",
        "\n",
        "parte6 = df.iloc[745:]\n"
      ],
      "metadata": {
        "id": "nERpFK39Dyvg"
      },
      "execution_count": null,
      "outputs": []
    },
    {
      "cell_type": "markdown",
      "source": [
        "# Prestest para pruebas estadisticas"
      ],
      "metadata": {
        "id": "h4r50U_unbm1"
      }
    },
    {
      "cell_type": "code",
      "source": [
        "import seaborn as sns\n",
        "import scipy.stats as stats\n",
        "# Visualización de histograma y gráfico de probabilidad normal\n",
        "sns.histplot(parte2['camara'], kde=True)\n",
        "stats.probplot(parte2['camara'], plot=sns.mpl.pyplot)\n",
        "sns.mpl.pyplot.show()\n",
        "\n",
        "# Visualización de histograma y gráfico de probabilidad normal\n",
        "sns.histplot(df['Potenciometro'], kde=True)\n",
        "stats.probplot(df['Potenciometro'], plot=sns.mpl.pyplot)\n",
        "sns.mpl.pyplot.show()"
      ],
      "metadata": {
        "id": "mpIXEHCOEz4G",
        "colab": {
          "base_uri": "https://localhost:8080/",
          "height": 927
        },
        "outputId": "6d6cf09b-19d7-447e-ac8b-791f2af89f2c"
      },
      "execution_count": null,
      "outputs": [
        {
          "output_type": "display_data",
          "data": {
            "text/plain": [
              "<Figure size 640x480 with 1 Axes>"
            ],
            "image/png": "[encoded data removed]"
          },
          "metadata": {}
        },
        {
          "output_type": "display_data",
          "data": {
            "text/plain": [
              "<Figure size 640x480 with 1 Axes>"
            ],
            "image/png": "[encoded data removed]"
          },
          "metadata": {}
        }
      ]
    },
    {
      "cell_type": "code",
      "source": [
        "from scipy.stats import shapiro\n",
        "\n",
        "# Prueba de Shapiro-Wilk\n",
        "stat, p = shapiro(df['camara'])\n",
        "print('Estadística de prueba:', stat)\n",
        "print('Valor p:', p)\n",
        "\n",
        "# Interpretación del resultado\n",
        "alpha = 0.05\n",
        "if p > alpha:\n",
        "    print('No se rechaza la hipótesis nula (los datos están distribuidos normalmente)')\n",
        "else:\n",
        "    print('Se rechaza la hipótesis nula (los datos no están distribuidos normalmente)')\n"
      ],
      "metadata": {
        "id": "LokTijb4uB7p",
        "colab": {
          "base_uri": "https://localhost:8080/"
        },
        "outputId": "caa8138f-2137-4435-90d9-5604850d2ec4"
      },
      "execution_count": null,
      "outputs": [
        {
          "output_type": "stream",
          "name": "stdout",
          "text": [
            "Estadística de prueba: 0.6728596091270447\n",
            "Valor p: 2.3990151236526866e-38\n",
            "Se rechaza la hipótesis nula (los datos no están distribuidos normalmente)\n"
          ]
        }
      ]
    },
    {
      "cell_type": "code",
      "source": [
        "from scipy.stats import shapiro\n",
        "\n",
        "# Prueba de Shapiro-Wilk\n",
        "stat, p = shapiro(df['Potenciometro'])\n",
        "print('Estadística de prueba:', stat)\n",
        "print('Valor p:', p)\n",
        "\n",
        "# Interpretación del resultado\n",
        "alpha = 0.05\n",
        "if p > alpha:\n",
        "    print('No se rechaza la hipótesis nula (los datos están distribuidos normalmente)')\n",
        "else:\n",
        "    print('Se rechaza la hipótesis nula (los datos no están distribuidos normalmente)')\n"
      ],
      "metadata": {
        "id": "6DkWLxYguCPv",
        "colab": {
          "base_uri": "https://localhost:8080/"
        },
        "outputId": "b463b298-6431-4897-a360-5fb7e7666704"
      },
      "execution_count": null,
      "outputs": [
        {
          "output_type": "stream",
          "name": "stdout",
          "text": [
            "Estadística de prueba: 0.727497935295105\n",
            "Valor p: 7.486690803991643e-36\n",
            "Se rechaza la hipótesis nula (los datos no están distribuidos normalmente)\n"
          ]
        }
      ]
    },
    {
      "cell_type": "code",
      "source": [
        "from scipy.stats import levene\n",
        "\n",
        "# Prueba de Levene\n",
        "stat, p = levene(df['camara'], df['Potenciometro'])\n",
        "print('Estadística de prueba:', stat)\n",
        "print('Valor p:', p)\n",
        "\n",
        "# Interpretación del resultado\n",
        "alpha = 0.05\n",
        "if p > alpha:\n",
        "    print('No se rechaza la hipótesis nula (las varianzas son iguales)')\n",
        "else:\n",
        "    print('Se rechaza la hipótesis nula (las varianzas no son iguales)')\n"
      ],
      "metadata": {
        "id": "1XDXuEmGuCmN",
        "colab": {
          "base_uri": "https://localhost:8080/"
        },
        "outputId": "8f279649-e8ba-4bea-b169-0c35f18f3e17"
      },
      "execution_count": null,
      "outputs": [
        {
          "output_type": "stream",
          "name": "stdout",
          "text": [
            "Estadística de prueba: 7.37682650922867\n",
            "Valor p: 0.00667044601996822\n",
            "Se rechaza la hipótesis nula (las varianzas no son iguales)\n"
          ]
        }
      ]
    },
    {
      "cell_type": "code",
      "source": [
        "parte4"
      ],
      "metadata": {
        "colab": {
          "base_uri": "https://localhost:8080/",
          "height": 424
        },
        "id": "c_h2Z5BTeIMF",
        "outputId": "2ac1ca19-5c7d-45cb-c119-02b97c21426e"
      },
      "execution_count": null,
      "outputs": [
        {
          "output_type": "execute_result",
          "data": {
            "text/plain": [
              "     tiempo  camara  Potenciometro\n",
              "519  25.007  171.20         173.52\n",
              "520  25.053  170.68         175.14\n",
              "521  25.100  170.68         176.10\n",
              "522  25.142  171.80         176.52\n",
              "523  25.192  172.36         177.00\n",
              "..      ...     ...            ...\n",
              "642  30.789  174.08         174.48\n",
              "643  30.831  174.08         174.18\n",
              "644  30.876  175.12         175.32\n",
              "645  30.927  174.53         175.32\n",
              "646  30.979  174.53         175.14\n",
              "\n",
              "[128 rows x 3 columns]"
            ],
            "text/html": [
              "\n",
              "  <div id=\"df-f4ac79b6-d5a1-4849-a94c-d883dc0ff78c\">\n",
              "    <div class=\"colab-df-container\">\n",
              "      <div>\n",
              "<style scoped>\n",
              "    .dataframe tbody tr th:only-of-type {\n",
              "        vertical-align: middle;\n",
              "    }\n",
              "\n",
              "    .dataframe tbody tr th {\n",
              "        vertical-align: top;\n",
              "    }\n",
              "\n",
              "    .dataframe thead th {\n",
              "        text-align: right;\n",
              "    }\n",
              "</style>\n",
              "<table border=\"1\" class=\"dataframe\">\n",
              "  <thead>\n",
              "    <tr style=\"text-align: right;\">\n",
              "      <th></th>\n",
              "      <th>tiempo</th>\n",
              "      <th>camara</th>\n",
              "      <th>Potenciometro</th>\n",
              "    </tr>\n",
              "  </thead>\n",
              "  <tbody>\n",
              "    <tr>\n",
              "      <th>519</th>\n",
              "      <td>25.007</td>\n",
              "      <td>171.20</td>\n",
              "      <td>173.52</td>\n",
              "    </tr>\n",
              "    <tr>\n",
              "      <th>520</th>\n",
              "      <td>25.053</td>\n",
              "      <td>170.68</td>\n",
              "      <td>175.14</td>\n",
              "    </tr>\n",
              "    <tr>\n",
              "      <th>521</th>\n",
              "      <td>25.100</td>\n",
              "      <td>170.68</td>\n",
              "      <td>176.10</td>\n",
              "    </tr>\n",
              "    <tr>\n",
              "      <th>522</th>\n",
              "      <td>25.142</td>\n",
              "      <td>171.80</td>\n",
              "      <td>176.52</td>\n",
              "    </tr>\n",
              "    <tr>\n",
              "      <th>523</th>\n",
              "      <td>25.192</td>\n",
              "      <td>172.36</td>\n",
              "      <td>177.00</td>\n",
              "    </tr>\n",
              "    <tr>\n",
              "      <th>...</th>\n",
              "      <td>...</td>\n",
              "      <td>...</td>\n",
              "      <td>...</td>\n",
              "    </tr>\n",
              "    <tr>\n",
              "      <th>642</th>\n",
              "      <td>30.789</td>\n",
              "      <td>174.08</td>\n",
              "      <td>174.48</td>\n",
              "    </tr>\n",
              "    <tr>\n",
              "      <th>643</th>\n",
              "      <td>30.831</td>\n",
              "      <td>174.08</td>\n",
              "      <td>174.18</td>\n",
              "    </tr>\n",
              "    <tr>\n",
              "      <th>644</th>\n",
              "      <td>30.876</td>\n",
              "      <td>175.12</td>\n",
              "      <td>175.32</td>\n",
              "    </tr>\n",
              "    <tr>\n",
              "      <th>645</th>\n",
              "      <td>30.927</td>\n",
              "      <td>174.53</td>\n",
              "      <td>175.32</td>\n",
              "    </tr>\n",
              "    <tr>\n",
              "      <th>646</th>\n",
              "      <td>30.979</td>\n",
              "      <td>174.53</td>\n",
              "      <td>175.14</td>\n",
              "    </tr>\n",
              "  </tbody>\n",
              "</table>\n",
              "<p>128 rows × 3 columns</p>\n",
              "</div>\n",
              "      <button class=\"colab-df-convert\" onclick=\"convertToInteractive('df-f4ac79b6-d5a1-4849-a94c-d883dc0ff78c')\"\n",
              "              title=\"Convert this dataframe to an interactive table.\"\n",
              "              style=\"display:none;\">\n",
              "        \n",
              "  <svg xmlns=\"http://www.w3.org/2000/svg\" height=\"24px\"viewBox=\"0 0 24 24\"\n",
              "       width=\"24px\">\n",
              "    <path d=\"M0 0h24v24H0V0z\" fill=\"none\"/>\n",
              "    <path d=\"M18.56 5.44l.94 2.06.94-2.06 2.06-.94-2.06-.94-.94-2.06-.94 2.06-2.06.94zm-11 1L8.5 8.5l.94-2.06 2.06-.94-2.06-.94L8.5 2.5l-.94 2.06-2.06.94zm10 10l.94 2.06.94-2.06 2.06-.94-2.06-.94-.94-2.06-.94 2.06-2.06.94z\"/><path d=\"M17.41 7.96l-1.37-1.37c-.4-.4-.92-.59-1.43-.59-.52 0-1.04.2-1.43.59L10.3 9.45l-7.72 7.72c-.78.78-.78 2.05 0 2.83L4 21.41c.39.39.9.59 1.41.59.51 0 1.02-.2 1.41-.59l7.78-7.78 2.81-2.81c.8-.78.8-2.07 0-2.86zM5.41 20L4 18.59l7.72-7.72 1.47 1.35L5.41 20z\"/>\n",
              "  </svg>\n",
              "      </button>\n",
              "      \n",
              "  <style>\n",
              "    .colab-df-container {\n",
              "      display:flex;\n",
              "      flex-wrap:wrap;\n",
              "      gap: 12px;\n",
              "    }\n",
              "\n",
              "    .colab-df-convert {\n",
              "      background-color: #E8F0FE;\n",
              "      border: none;\n",
              "      border-radius: 50%;\n",
              "      cursor: pointer;\n",
              "      display: none;\n",
              "      fill: #1967D2;\n",
              "      height: 32px;\n",
              "      padding: 0 0 0 0;\n",
              "      width: 32px;\n",
              "    }\n",
              "\n",
              "    .colab-df-convert:hover {\n",
              "      background-color: #E2EBFA;\n",
              "      box-shadow: 0px 1px 2px rgba(60, 64, 67, 0.3), 0px 1px 3px 1px rgba(60, 64, 67, 0.15);\n",
              "      fill: #174EA6;\n",
              "    }\n",
              "\n",
              "    [theme=dark] .colab-df-convert {\n",
              "      background-color: #3B4455;\n",
              "      fill: #D2E3FC;\n",
              "    }\n",
              "\n",
              "    [theme=dark] .colab-df-convert:hover {\n",
              "      background-color: #434B5C;\n",
              "      box-shadow: 0px 1px 3px 1px rgba(0, 0, 0, 0.15);\n",
              "      filter: drop-shadow(0px 1px 2px rgba(0, 0, 0, 0.3));\n",
              "      fill: #FFFFFF;\n",
              "    }\n",
              "  </style>\n",
              "\n",
              "      <script>\n",
              "        const buttonEl =\n",
              "          document.querySelector('#df-f4ac79b6-d5a1-4849-a94c-d883dc0ff78c button.colab-df-convert');\n",
              "        buttonEl.style.display =\n",
              "          google.colab.kernel.accessAllowed ? 'block' : 'none';\n",
              "\n",
              "        async function convertToInteractive(key) {\n",
              "          const element = document.querySelector('#df-f4ac79b6-d5a1-4849-a94c-d883dc0ff78c');\n",
              "          const dataTable =\n",
              "            await google.colab.kernel.invokeFunction('convertToInteractive',\n",
              "                                                     [key], {});\n",
              "          if (!dataTable) return;\n",
              "\n",
              "          const docLinkHtml = 'Like what you see? Visit the ' +\n",
              "            '<a target=\"_blank\" href=https://colab.research.google.com/notebooks/data_table.ipynb>data table notebook</a>'\n",
              "            + ' to learn more about interactive tables.';\n",
              "          element.innerHTML = '';\n",
              "          dataTable['output_type'] = 'display_data';\n",
              "          await google.colab.output.renderOutput(dataTable, element);\n",
              "          const docLink = document.createElement('div');\n",
              "          docLink.innerHTML = docLinkHtml;\n",
              "          element.appendChild(docLink);\n",
              "        }\n",
              "      </script>\n",
              "    </div>\n",
              "  </div>\n",
              "  "
            ]
          },
          "metadata": {},
          "execution_count": 60
        }
      ]
    },
    {
      "cell_type": "markdown",
      "source": [
        "## Se verifico que no hay homogeneidad de varianza ni normalidad \n",
        "### por tanto se usa la prueba La prueba de Wilcoxon para muestras pareadas"
      ],
      "metadata": {
        "id": "wiNnlWGTt8CR"
      }
    },
    {
      "cell_type": "markdown",
      "source": [
        "\n",
        "# Orden de toma de datos\n",
        "\n",
        "\n",
        "\n",
        "1.   perpendicular con la camara , 7s\n",
        "2.   rotacion de 45° antihorario (diagonal del perfil izquierdo), 16s\n",
        "3.   90° antihorario (mirando ala camara), 20s\n",
        "4.   180° antihorario(perfil contrario al del sensor) 25s\n",
        "5.   225° antihorario (diagonal del perfil derecho)31s\n",
        "6.   270° antihorario (de espaldas ala camara)36s\n",
        "\n",
        "\n",
        "\n",
        "\n",
        "\n",
        "\n",
        "\n"
      ],
      "metadata": {
        "id": "TFvCzXXg9Vpc"
      }
    },
    {
      "cell_type": "code",
      "source": [
        "import pandas as pd\n",
        "from scipy.stats import wilcoxon\n",
        "\n",
        "# Cargar los datos en un dataframe de pandas\n",
        "\n",
        "# Aplicar la prueba de Wilcoxon para muestras pareadas\n",
        "w_statistic, p_value = wilcoxon(parte2[\"camara\"], parte2[\"Potenciometro\"])\n",
        "\n",
        "# Imprimir los resultados\n",
        "print(\"w-statistic:\", w_statistic)\n",
        "print(\"p-value:\", p_value)\n",
        "\n",
        "# Conclusión\n",
        "if p_value < 0.05:\n",
        "    print(\"Se rechaza la hipótesis nula y se concluye que hay una diferencia significativa entre las dos muestras.\")\n",
        "else:\n",
        "    print(\"No se puede rechazar la hipótesis nula y no se concluye que haya una diferencia significativa entre las dos muestras.\")\n"
      ],
      "metadata": {
        "id": "3EpAgE8QuC6l",
        "colab": {
          "base_uri": "https://localhost:8080/"
        },
        "outputId": "1bffc923-b308-4874-f2d3-d28a95ba81f4"
      },
      "execution_count": null,
      "outputs": [
        {
          "output_type": "stream",
          "name": "stdout",
          "text": [
            "w-statistic: 440.0\n",
            "p-value: 7.286970649137622e-10\n",
            "Se rechaza la hipótesis nula y se concluye que hay una diferencia significativa entre las dos muestras.\n"
          ]
        }
      ]
    },
    {
      "cell_type": "markdown",
      "source": [
        "# Calculo de diferencia significativa para cada una de las repes"
      ],
      "metadata": {
        "id": "96PXl2p2CXWD"
      }
    },
    {
      "cell_type": "code",
      "source": [
        "# lista de nombres de los dataframes\n",
        "lista_dataframes = [parte1, parte2, parte3, parte4, parte5, parte6]\n",
        "\n",
        "import pandas as pd\n",
        "import numpy as np\n",
        "from scipy.stats import wilcoxon\n",
        "\n",
        "# Crear una lista de los nombres de las columnas que deseas comparar\n",
        "columnas = ['camara', 'Potenciometro']\n",
        "\n",
        "# Crear una lista vacía para almacenar los valores p de cada DataFrame\n",
        "p_values = []\n",
        "\n",
        "# Iterar sobre cada DataFrame\n",
        "for datf in lista_dataframes:\n",
        "    # Seleccionar las columnas a comparar\n",
        "    columnas = datf.columns[:2]\n",
        "    # Realizar la prueba de Wilcoxon en las dos columnas\n",
        "    _, p = wilcoxon(datf.iloc[:,1], datf.iloc[:,2])\n",
        "    print(p)\n",
        "    # Agregar el valor p a la lista\n",
        "    p_values.append(p)\n",
        "\n",
        "# Crear un gráfico de barras para mostrar los valores p\n",
        "import matplotlib.pyplot as plt\n",
        "\n",
        "plt.scatter(np.arange(len(p_values)), p_values)\n",
        "plt.title('Valores p de la prueba de Wilcoxon')\n",
        "plt.xlabel('Índice del DataFrame')\n",
        "plt.ylabel('Valor p')\n",
        "plt.figure(figsize=(8, 6))\n",
        "plt.show()\n",
        "\n"
      ],
      "metadata": {
        "id": "Z5DxoTCIxn2T",
        "colab": {
          "base_uri": "https://localhost:8080/",
          "height": 594
        },
        "outputId": "e6ffea1e-d52f-4892-bf79-a5958c3412be"
      },
      "execution_count": null,
      "outputs": [
        {
          "output_type": "stream",
          "name": "stdout",
          "text": [
            "0.9126006156093239\n",
            "7.286970649137622e-10\n",
            "5.468982989076735e-17\n",
            "0.003514869584675255\n",
            "9.678472292246787e-13\n",
            "0.000627261360987401\n"
          ]
        },
        {
          "output_type": "display_data",
          "data": {
            "text/plain": [
              "<Figure size 640x480 with 1 Axes>"
            ],
            "image/png": "[encoded data removed]"
          },
          "metadata": {}
        },
        {
          "output_type": "display_data",
          "data": {
            "text/plain": [
              "<Figure size 800x600 with 0 Axes>"
            ]
          },
          "metadata": {}
        }
      ]
    },
    {
      "cell_type": "markdown",
      "source": [
        "# convertidor a spss"
      ],
      "metadata": {
        "id": "qD6IJ9OrGuZD"
      }
    },
    {
      "cell_type": "markdown",
      "source": [
        "# Pruebas estadisticas de correlacion\n"
      ],
      "metadata": {
        "id": "d2UDo6g87fst"
      }
    },
    {
      "cell_type": "code",
      "source": [
        "df"
      ],
      "metadata": {
        "colab": {
          "base_uri": "https://localhost:8080/",
          "height": 424
        },
        "id": "GCWHiWk5Z6DY",
        "outputId": "57cf0344-bf1c-4290-d825-937837008740"
      },
      "execution_count": null,
      "outputs": [
        {
          "output_type": "execute_result",
          "data": {
            "text/plain": [
              "     tiempo  camara  Potenciometro\n",
              "0     0.000  170.84         171.50\n",
              "1     0.068  173.02         171.60\n",
              "2     0.127  174.01         173.22\n",
              "3     0.182  175.73         173.22\n",
              "4     0.245  176.86         175.14\n",
              "..      ...     ...            ...\n",
              "892  43.589  178.57         161.10\n",
              "893  43.646  179.80         165.60\n",
              "894  43.696  179.96         170.34\n",
              "895  43.739  172.73         172.26\n",
              "896  43.782  171.12         172.74\n",
              "\n",
              "[897 rows x 3 columns]"
            ],
            "text/html": [
              "\n",
              "  <div id=\"df-64e414f0-65f5-40e0-9fc7-519b21ca383a\">\n",
              "    <div class=\"colab-df-container\">\n",
              "      <div>\n",
              "<style scoped>\n",
              "    .dataframe tbody tr th:only-of-type {\n",
              "        vertical-align: middle;\n",
              "    }\n",
              "\n",
              "    .dataframe tbody tr th {\n",
              "        vertical-align: top;\n",
              "    }\n",
              "\n",
              "    .dataframe thead th {\n",
              "        text-align: right;\n",
              "    }\n",
              "</style>\n",
              "<table border=\"1\" class=\"dataframe\">\n",
              "  <thead>\n",
              "    <tr style=\"text-align: right;\">\n",
              "      <th></th>\n",
              "      <th>tiempo</th>\n",
              "      <th>camara</th>\n",
              "      <th>Potenciometro</th>\n",
              "    </tr>\n",
              "  </thead>\n",
              "  <tbody>\n",
              "    <tr>\n",
              "      <th>0</th>\n",
              "      <td>0.000</td>\n",
              "      <td>170.84</td>\n",
              "      <td>171.50</td>\n",
              "    </tr>\n",
              "    <tr>\n",
              "      <th>1</th>\n",
              "      <td>0.068</td>\n",
              "      <td>173.02</td>\n",
              "      <td>171.60</td>\n",
              "    </tr>\n",
              "    <tr>\n",
              "      <th>2</th>\n",
              "      <td>0.127</td>\n",
              "      <td>174.01</td>\n",
              "      <td>173.22</td>\n",
              "    </tr>\n",
              "    <tr>\n",
              "      <th>3</th>\n",
              "      <td>0.182</td>\n",
              "      <td>175.73</td>\n",
              "      <td>173.22</td>\n",
              "    </tr>\n",
              "    <tr>\n",
              "      <th>4</th>\n",
              "      <td>0.245</td>\n",
              "      <td>176.86</td>\n",
              "      <td>175.14</td>\n",
              "    </tr>\n",
              "    <tr>\n",
              "      <th>...</th>\n",
              "      <td>...</td>\n",
              "      <td>...</td>\n",
              "      <td>...</td>\n",
              "    </tr>\n",
              "    <tr>\n",
              "      <th>892</th>\n",
              "      <td>43.589</td>\n",
              "      <td>178.57</td>\n",
              "      <td>161.10</td>\n",
              "    </tr>\n",
              "    <tr>\n",
              "      <th>893</th>\n",
              "      <td>43.646</td>\n",
              "      <td>179.80</td>\n",
              "      <td>165.60</td>\n",
              "    </tr>\n",
              "    <tr>\n",
              "      <th>894</th>\n",
              "      <td>43.696</td>\n",
              "      <td>179.96</td>\n",
              "      <td>170.34</td>\n",
              "    </tr>\n",
              "    <tr>\n",
              "      <th>895</th>\n",
              "      <td>43.739</td>\n",
              "      <td>172.73</td>\n",
              "      <td>172.26</td>\n",
              "    </tr>\n",
              "    <tr>\n",
              "      <th>896</th>\n",
              "      <td>43.782</td>\n",
              "      <td>171.12</td>\n",
              "      <td>172.74</td>\n",
              "    </tr>\n",
              "  </tbody>\n",
              "</table>\n",
              "<p>897 rows × 3 columns</p>\n",
              "</div>\n",
              "      <button class=\"colab-df-convert\" onclick=\"convertToInteractive('df-64e414f0-65f5-40e0-9fc7-519b21ca383a')\"\n",
              "              title=\"Convert this dataframe to an interactive table.\"\n",
              "              style=\"display:none;\">\n",
              "        \n",
              "  <svg xmlns=\"http://www.w3.org/2000/svg\" height=\"24px\"viewBox=\"0 0 24 24\"\n",
              "       width=\"24px\">\n",
              "    <path d=\"M0 0h24v24H0V0z\" fill=\"none\"/>\n",
              "    <path d=\"M18.56 5.44l.94 2.06.94-2.06 2.06-.94-2.06-.94-.94-2.06-.94 2.06-2.06.94zm-11 1L8.5 8.5l.94-2.06 2.06-.94-2.06-.94L8.5 2.5l-.94 2.06-2.06.94zm10 10l.94 2.06.94-2.06 2.06-.94-2.06-.94-.94-2.06-.94 2.06-2.06.94z\"/><path d=\"M17.41 7.96l-1.37-1.37c-.4-.4-.92-.59-1.43-.59-.52 0-1.04.2-1.43.59L10.3 9.45l-7.72 7.72c-.78.78-.78 2.05 0 2.83L4 21.41c.39.39.9.59 1.41.59.51 0 1.02-.2 1.41-.59l7.78-7.78 2.81-2.81c.8-.78.8-2.07 0-2.86zM5.41 20L4 18.59l7.72-7.72 1.47 1.35L5.41 20z\"/>\n",
              "  </svg>\n",
              "      </button>\n",
              "      \n",
              "  <style>\n",
              "    .colab-df-container {\n",
              "      display:flex;\n",
              "      flex-wrap:wrap;\n",
              "      gap: 12px;\n",
              "    }\n",
              "\n",
              "    .colab-df-convert {\n",
              "      background-color: #E8F0FE;\n",
              "      border: none;\n",
              "      border-radius: 50%;\n",
              "      cursor: pointer;\n",
              "      display: none;\n",
              "      fill: #1967D2;\n",
              "      height: 32px;\n",
              "      padding: 0 0 0 0;\n",
              "      width: 32px;\n",
              "    }\n",
              "\n",
              "    .colab-df-convert:hover {\n",
              "      background-color: #E2EBFA;\n",
              "      box-shadow: 0px 1px 2px rgba(60, 64, 67, 0.3), 0px 1px 3px 1px rgba(60, 64, 67, 0.15);\n",
              "      fill: #174EA6;\n",
              "    }\n",
              "\n",
              "    [theme=dark] .colab-df-convert {\n",
              "      background-color: #3B4455;\n",
              "      fill: #D2E3FC;\n",
              "    }\n",
              "\n",
              "    [theme=dark] .colab-df-convert:hover {\n",
              "      background-color: #434B5C;\n",
              "      box-shadow: 0px 1px 3px 1px rgba(0, 0, 0, 0.15);\n",
              "      filter: drop-shadow(0px 1px 2px rgba(0, 0, 0, 0.3));\n",
              "      fill: #FFFFFF;\n",
              "    }\n",
              "  </style>\n",
              "\n",
              "      <script>\n",
              "        const buttonEl =\n",
              "          document.querySelector('#df-64e414f0-65f5-40e0-9fc7-519b21ca383a button.colab-df-convert');\n",
              "        buttonEl.style.display =\n",
              "          google.colab.kernel.accessAllowed ? 'block' : 'none';\n",
              "\n",
              "        async function convertToInteractive(key) {\n",
              "          const element = document.querySelector('#df-64e414f0-65f5-40e0-9fc7-519b21ca383a');\n",
              "          const dataTable =\n",
              "            await google.colab.kernel.invokeFunction('convertToInteractive',\n",
              "                                                     [key], {});\n",
              "          if (!dataTable) return;\n",
              "\n",
              "          const docLinkHtml = 'Like what you see? Visit the ' +\n",
              "            '<a target=\"_blank\" href=https://colab.research.google.com/notebooks/data_table.ipynb>data table notebook</a>'\n",
              "            + ' to learn more about interactive tables.';\n",
              "          element.innerHTML = '';\n",
              "          dataTable['output_type'] = 'display_data';\n",
              "          await google.colab.output.renderOutput(dataTable, element);\n",
              "          const docLink = document.createElement('div');\n",
              "          docLink.innerHTML = docLinkHtml;\n",
              "          element.appendChild(docLink);\n",
              "        }\n",
              "      </script>\n",
              "    </div>\n",
              "  </div>\n",
              "  "
            ]
          },
          "metadata": {},
          "execution_count": 63
        }
      ]
    },
    {
      "cell_type": "code",
      "source": [
        "# Calcular la correlación de Pearson\n",
        "correlacion = df['camara'].corr(df['Potenciometro'])\n",
        "\n",
        "print('La correlación de Pearson entre camara y giroscopio es:', correlacion)\n"
      ],
      "metadata": {
        "id": "UgKtwp_p7dOp",
        "colab": {
          "base_uri": "https://localhost:8080/"
        },
        "outputId": "56014028-e860-4203-f8c1-9f482b9c7b05"
      },
      "execution_count": null,
      "outputs": [
        {
          "output_type": "stream",
          "name": "stdout",
          "text": [
            "La correlación de Pearson entre camara y giroscopio es: 0.9174586998382879\n"
          ]
        }
      ]
    },
    {
      "cell_type": "code",
      "source": [
        "import numpy as np\n",
        "# Calcular la correlación cruzada\n",
        "xcorr = np.correlate(df['camara'], df['Potenciometro'], mode='full')\n",
        "\n",
        "# Calcular el tiempo de retraso correspondiente a cada valor de correlación\n",
        "lags = np.arange(-len(df)+1, len(df))\n",
        "\n",
        "# Graficar la correlación cruzada\n",
        "plt.plot(lags, xcorr)\n",
        "plt.xlabel('Retraso')\n",
        "plt.ylabel('Correlación cruzada')\n",
        "plt.title('Similitud entre Columna 1 y Columna 2')\n",
        "plt.show()\n"
      ],
      "metadata": {
        "id": "MfTpf1yR6mze",
        "colab": {
          "base_uri": "https://localhost:8080/",
          "height": 472
        },
        "outputId": "4af507e7-e585-4b9e-ce73-13f521a61813"
      },
      "execution_count": null,
      "outputs": [
        {
          "output_type": "display_data",
          "data": {
            "text/plain": [
              "<Figure size 640x480 with 1 Axes>"
            ],
            "image/png": "[encoded data removed]"
          },
          "metadata": {}
        }
      ]
    },
    {
      "cell_type": "markdown",
      "source": [
        "# Error entre camara y potenciometro"
      ],
      "metadata": {
        "id": "cYgIZ3xZGptb"
      }
    },
    {
      "cell_type": "code",
      "source": [
        "import pandas as pd\n",
        "\n",
        "# Crear un dataframe de ejemplo\n",
        "\n",
        "# Calcular el porcentaje de error para cada fila\n",
        "df['porcentaje_error'] = abs(df['Potenciometro'] - df['camara']) / abs(df['Potenciometro']) * 100\n",
        "\n",
        "# Calcular el promedio de los porcentajes de error\n",
        "promedio_error = df['porcentaje_error'].mean()\n",
        "\n",
        "print('El promedio de los porcentajes de error es:', promedio_error)\n"
      ],
      "metadata": {
        "id": "eA4qeOuEFOG8",
        "colab": {
          "base_uri": "https://localhost:8080/"
        },
        "outputId": "409f1fa3-eeb5-4064-873c-5f90d055f8c7"
      },
      "execution_count": null,
      "outputs": [
        {
          "output_type": "stream",
          "name": "stdout",
          "text": [
            "El promedio de los porcentajes de error es: 8.783305913780964\n"
          ]
        }
      ]
    },
    {
      "cell_type": "code",
      "source": [
        "df"
      ],
      "metadata": {
        "id": "5ZFBEwlDqZYe",
        "colab": {
          "base_uri": "https://localhost:8080/",
          "height": 424
        },
        "outputId": "9af335a3-5220-4666-d3c1-820e564cc539"
      },
      "execution_count": null,
      "outputs": [
        {
          "output_type": "execute_result",
          "data": {
            "text/plain": [
              "     tiempo  camara  Potenciometro  porcentaje_error\n",
              "0     0.000  170.84         171.50          0.384840\n",
              "1     0.068  173.02         171.60          0.827506\n",
              "2     0.127  174.01         173.22          0.456067\n",
              "3     0.182  175.73         173.22          1.449024\n",
              "4     0.245  176.86         175.14          0.982071\n",
              "..      ...     ...            ...               ...\n",
              "892  43.589  178.57         161.10         10.844196\n",
              "893  43.646  179.80         165.60          8.574879\n",
              "894  43.696  179.96         170.34          5.647528\n",
              "895  43.739  172.73         172.26          0.272843\n",
              "896  43.782  171.12         172.74          0.937826\n",
              "\n",
              "[897 rows x 4 columns]"
            ],
            "text/html": [
              "\n",
              "  <div id=\"df-70dc47b9-6ff6-45f9-b9fa-89114aa04e11\">\n",
              "    <div class=\"colab-df-container\">\n",
              "      <div>\n",
              "<style scoped>\n",
              "    .dataframe tbody tr th:only-of-type {\n",
              "        vertical-align: middle;\n",
              "    }\n",
              "\n",
              "    .dataframe tbody tr th {\n",
              "        vertical-align: top;\n",
              "    }\n",
              "\n",
              "    .dataframe thead th {\n",
              "        text-align: right;\n",
              "    }\n",
              "</style>\n",
              "<table border=\"1\" class=\"dataframe\">\n",
              "  <thead>\n",
              "    <tr style=\"text-align: right;\">\n",
              "      <th></th>\n",
              "      <th>tiempo</th>\n",
              "      <th>camara</th>\n",
              "      <th>Potenciometro</th>\n",
              "      <th>porcentaje_error</th>\n",
              "    </tr>\n",
              "  </thead>\n",
              "  <tbody>\n",
              "    <tr>\n",
              "      <th>0</th>\n",
              "      <td>0.000</td>\n",
              "      <td>170.84</td>\n",
              "      <td>171.50</td>\n",
              "      <td>0.384840</td>\n",
              "    </tr>\n",
              "    <tr>\n",
              "      <th>1</th>\n",
              "      <td>0.068</td>\n",
              "      <td>173.02</td>\n",
              "      <td>171.60</td>\n",
              "      <td>0.827506</td>\n",
              "    </tr>\n",
              "    <tr>\n",
              "      <th>2</th>\n",
              "      <td>0.127</td>\n",
              "      <td>174.01</td>\n",
              "      <td>173.22</td>\n",
              "      <td>0.456067</td>\n",
              "    </tr>\n",
              "    <tr>\n",
              "      <th>3</th>\n",
              "      <td>0.182</td>\n",
              "      <td>175.73</td>\n",
              "      <td>173.22</td>\n",
              "      <td>1.449024</td>\n",
              "    </tr>\n",
              "    <tr>\n",
              "      <th>4</th>\n",
              "      <td>0.245</td>\n",
              "      <td>176.86</td>\n",
              "      <td>175.14</td>\n",
              "      <td>0.982071</td>\n",
              "    </tr>\n",
              "    <tr>\n",
              "      <th>...</th>\n",
              "      <td>...</td>\n",
              "      <td>...</td>\n",
              "      <td>...</td>\n",
              "      <td>...</td>\n",
              "    </tr>\n",
              "    <tr>\n",
              "      <th>892</th>\n",
              "      <td>43.589</td>\n",
              "      <td>178.57</td>\n",
              "      <td>161.10</td>\n",
              "      <td>10.844196</td>\n",
              "    </tr>\n",
              "    <tr>\n",
              "      <th>893</th>\n",
              "      <td>43.646</td>\n",
              "      <td>179.80</td>\n",
              "      <td>165.60</td>\n",
              "      <td>8.574879</td>\n",
              "    </tr>\n",
              "    <tr>\n",
              "      <th>894</th>\n",
              "      <td>43.696</td>\n",
              "      <td>179.96</td>\n",
              "      <td>170.34</td>\n",
              "      <td>5.647528</td>\n",
              "    </tr>\n",
              "    <tr>\n",
              "      <th>895</th>\n",
              "      <td>43.739</td>\n",
              "      <td>172.73</td>\n",
              "      <td>172.26</td>\n",
              "      <td>0.272843</td>\n",
              "    </tr>\n",
              "    <tr>\n",
              "      <th>896</th>\n",
              "      <td>43.782</td>\n",
              "      <td>171.12</td>\n",
              "      <td>172.74</td>\n",
              "      <td>0.937826</td>\n",
              "    </tr>\n",
              "  </tbody>\n",
              "</table>\n",
              "<p>897 rows × 4 columns</p>\n",
              "</div>\n",
              "      <button class=\"colab-df-convert\" onclick=\"convertToInteractive('df-70dc47b9-6ff6-45f9-b9fa-89114aa04e11')\"\n",
              "              title=\"Convert this dataframe to an interactive table.\"\n",
              "              style=\"display:none;\">\n",
              "        \n",
              "  <svg xmlns=\"http://www.w3.org/2000/svg\" height=\"24px\"viewBox=\"0 0 24 24\"\n",
              "       width=\"24px\">\n",
              "    <path d=\"M0 0h24v24H0V0z\" fill=\"none\"/>\n",
              "    <path d=\"M18.56 5.44l.94 2.06.94-2.06 2.06-.94-2.06-.94-.94-2.06-.94 2.06-2.06.94zm-11 1L8.5 8.5l.94-2.06 2.06-.94-2.06-.94L8.5 2.5l-.94 2.06-2.06.94zm10 10l.94 2.06.94-2.06 2.06-.94-2.06-.94-.94-2.06-.94 2.06-2.06.94z\"/><path d=\"M17.41 7.96l-1.37-1.37c-.4-.4-.92-.59-1.43-.59-.52 0-1.04.2-1.43.59L10.3 9.45l-7.72 7.72c-.78.78-.78 2.05 0 2.83L4 21.41c.39.39.9.59 1.41.59.51 0 1.02-.2 1.41-.59l7.78-7.78 2.81-2.81c.8-.78.8-2.07 0-2.86zM5.41 20L4 18.59l7.72-7.72 1.47 1.35L5.41 20z\"/>\n",
              "  </svg>\n",
              "      </button>\n",
              "      \n",
              "  <style>\n",
              "    .colab-df-container {\n",
              "      display:flex;\n",
              "      flex-wrap:wrap;\n",
              "      gap: 12px;\n",
              "    }\n",
              "\n",
              "    .colab-df-convert {\n",
              "      background-color: #E8F0FE;\n",
              "      border: none;\n",
              "      border-radius: 50%;\n",
              "      cursor: pointer;\n",
              "      display: none;\n",
              "      fill: #1967D2;\n",
              "      height: 32px;\n",
              "      padding: 0 0 0 0;\n",
              "      width: 32px;\n",
              "    }\n",
              "\n",
              "    .colab-df-convert:hover {\n",
              "      background-color: #E2EBFA;\n",
              "      box-shadow: 0px 1px 2px rgba(60, 64, 67, 0.3), 0px 1px 3px 1px rgba(60, 64, 67, 0.15);\n",
              "      fill: #174EA6;\n",
              "    }\n",
              "\n",
              "    [theme=dark] .colab-df-convert {\n",
              "      background-color: #3B4455;\n",
              "      fill: #D2E3FC;\n",
              "    }\n",
              "\n",
              "    [theme=dark] .colab-df-convert:hover {\n",
              "      background-color: #434B5C;\n",
              "      box-shadow: 0px 1px 3px 1px rgba(0, 0, 0, 0.15);\n",
              "      filter: drop-shadow(0px 1px 2px rgba(0, 0, 0, 0.3));\n",
              "      fill: #FFFFFF;\n",
              "    }\n",
              "  </style>\n",
              "\n",
              "      <script>\n",
              "        const buttonEl =\n",
              "          document.querySelector('#df-70dc47b9-6ff6-45f9-b9fa-89114aa04e11 button.colab-df-convert');\n",
              "        buttonEl.style.display =\n",
              "          google.colab.kernel.accessAllowed ? 'block' : 'none';\n",
              "\n",
              "        async function convertToInteractive(key) {\n",
              "          const element = document.querySelector('#df-70dc47b9-6ff6-45f9-b9fa-89114aa04e11');\n",
              "          const dataTable =\n",
              "            await google.colab.kernel.invokeFunction('convertToInteractive',\n",
              "                                                     [key], {});\n",
              "          if (!dataTable) return;\n",
              "\n",
              "          const docLinkHtml = 'Like what you see? Visit the ' +\n",
              "            '<a target=\"_blank\" href=https://colab.research.google.com/notebooks/data_table.ipynb>data table notebook</a>'\n",
              "            + ' to learn more about interactive tables.';\n",
              "          element.innerHTML = '';\n",
              "          dataTable['output_type'] = 'display_data';\n",
              "          await google.colab.output.renderOutput(dataTable, element);\n",
              "          const docLink = document.createElement('div');\n",
              "          docLink.innerHTML = docLinkHtml;\n",
              "          element.appendChild(docLink);\n",
              "        }\n",
              "      </script>\n",
              "    </div>\n",
              "  </div>\n",
              "  "
            ]
          },
          "metadata": {},
          "execution_count": 67
        }
      ]
    },
    {
      "cell_type": "code",
      "source": [
        "!pip install pyreadstat\n"
      ],
      "metadata": {
        "id": "vCNZKNNHURWo",
        "colab": {
          "base_uri": "https://localhost:8080/"
        },
        "outputId": "726023a7-419c-4eb1-8ae0-4480aec2c77a"
      },
      "execution_count": null,
      "outputs": [
        {
          "output_type": "stream",
          "name": "stdout",
          "text": [
            "Looking in indexes: https://pypi.org/simple, https://us-python.pkg.dev/colab-wheels/public/simple/\n",
            "Collecting pyreadstat\n",
            "  Downloading pyreadstat-1.2.1-cp310-cp310-manylinux_2_17_x86_64.manylinux2014_x86_64.whl (2.7 MB)\n",
            "\u001b[2K     \u001b[90m━━━━━━━━━━━━━━━━━━━━━━━━━━━━━━━━━━━━━━━━\u001b[0m \u001b[32m2.7/2.7 MB\u001b[0m \u001b[31m37.3 MB/s\u001b[0m eta \u001b[36m0:00:00\u001b[0m\n",
            "\u001b[?25hRequirement already satisfied: pandas>=1.2.0 in /usr/local/lib/python3.10/dist-packages (from pyreadstat) (1.5.3)\n",
            "Requirement already satisfied: python-dateutil>=2.8.1 in /usr/local/lib/python3.10/dist-packages (from pandas>=1.2.0->pyreadstat) (2.8.2)\n",
            "Requirement already satisfied: pytz>=2020.1 in /usr/local/lib/python3.10/dist-packages (from pandas>=1.2.0->pyreadstat) (2022.7.1)\n",
            "Requirement already satisfied: numpy>=1.21.0 in /usr/local/lib/python3.10/dist-packages (from pandas>=1.2.0->pyreadstat) (1.22.4)\n",
            "Requirement already satisfied: six>=1.5 in /usr/local/lib/python3.10/dist-packages (from python-dateutil>=2.8.1->pandas>=1.2.0->pyreadstat) (1.16.0)\n",
            "Installing collected packages: pyreadstat\n",
            "Successfully installed pyreadstat-1.2.1\n"
          ]
        }
      ]
    },
    {
      "cell_type": "code",
      "source": [
        "import pandas as pd\n",
        "\n",
        "# Crear un dataframe de ejemplo\n",
        "\n",
        "\n",
        "# Definir el número de valores máximos y mínimos a considerar\n",
        "N = 48\n",
        "\n",
        "# Encontrar los índices de los N valores máximos y mínimos\n",
        "idx_max = df.nlargest(N, 'camara').index\n",
        "idx_min = df.nsmallest(N, 'camara').index\n",
        "\n",
        "# Calcular la media de los N valores máximos y mínimos\n",
        "media_max = df.loc[idx_max, 'camara'].mean()\n",
        "media_min = df.loc[idx_min, 'camara'].mean()\n",
        "\n",
        "print('La media de los', N, 'valores máximos es:', media_max)\n",
        "print('La media de los', N, 'valores mínimos es:', media_min)\n"
      ],
      "metadata": {
        "id": "zn0dLNpvGZ68",
        "colab": {
          "base_uri": "https://localhost:8080/"
        },
        "outputId": "ec6eef60-178a-4cda-c4fd-f1b8a3fb3437"
      },
      "execution_count": null,
      "outputs": [
        {
          "output_type": "stream",
          "name": "stdout",
          "text": [
            "La media de los 48 valores máximos es: 179.64145833333336\n",
            "La media de los 48 valores mínimos es: 58.1025\n"
          ]
        }
      ]
    },
    {
      "cell_type": "code",
      "source": [
        "\n",
        "# Definir el número de valores máximos y mínimos a considerar\n",
        "N = 48\n",
        "\n",
        "# Encontrar los índices de los N valores máximos y mínimos\n",
        "idx_max = df.nlargest(N, 'Potenciometro').index\n",
        "idx_min = df.nsmallest(N, 'Potenciometro').index\n",
        "\n",
        "# Calcular la media de los N valores máximos y mínimos\n",
        "media_max = df.loc[idx_max, 'Potenciometro'].mean()\n",
        "media_min = df.loc[idx_min, 'Potenciometro'].mean()\n",
        "\n",
        "print('La media de los', N, 'valores máximos es:', media_max)\n",
        "print('La media de los', N, 'valores mínimos es:', media_min)"
      ],
      "metadata": {
        "id": "t1tt8YCTCetU",
        "colab": {
          "base_uri": "https://localhost:8080/"
        },
        "outputId": "26437795-3f99-4ecd-ca06-2d8f02214f40"
      },
      "execution_count": null,
      "outputs": [
        {
          "output_type": "stream",
          "name": "stdout",
          "text": [
            "La media de los 48 valores máximos es: 180.965\n",
            "La media de los 48 valores mínimos es: 63.756249999999994\n"
          ]
        }
      ]
    },
    {
      "cell_type": "code",
      "source": [
        "df.to_excel('archivo.xlsx', index=False)"
      ],
      "metadata": {
        "id": "eYBXiJlqJMUz"
      },
      "execution_count": null,
      "outputs": []
    },
    {
      "cell_type": "markdown",
      "source": [
        "# Parte 2 \n",
        "## Analisis de muestras "
      ],
      "metadata": {
        "id": "lG5OWbi2Mfd5"
      }
    },
    {
      "cell_type": "code",
      "source": [
        "import pandas\n",
        "\n",
        "df2 = pandas.read_excel('/content/drive/MyDrive/Sample data/Datosprepost.xlsx')\n",
        "print(df2)"
      ],
      "metadata": {
        "id": "YuSzBgHfjfEM"
      },
      "execution_count": null,
      "outputs": []
    },
    {
      "cell_type": "code",
      "source": [
        "from scipy.stats import shapiro\n",
        "\n",
        "# Prueba de Shapiro-Wilk\n",
        "stat, p = shapiro(df2['potenciometro.pre(max)'])\n",
        "print('Estadística de prueba:', stat)\n",
        "print('Valor p:', p)\n",
        "\n",
        "# Interpretación del resultado\n",
        "alpha = 0.05\n",
        "if p > alpha:\n",
        "    print('No se rechaza la hipótesis nula (los datos están distribuidos normalmente)')\n",
        "else:\n",
        "    print('Se rechaza la hipótesis nula (los datos no están distribuidos normalmente)')\n",
        "\n",
        "# Prueba de Shapiro-Wilk\n",
        "stat, p = shapiro(df2['potenciometro.post(max)'])\n",
        "print('Estadística de prueba:', stat)\n",
        "print('Valor p:', p)\n",
        "\n",
        "# Interpretación del resultado\n",
        "alpha = 0.05\n",
        "if p > alpha:\n",
        "    print('No se rechaza la hipótesis nula (los datos están distribuidos normalmente)')\n",
        "else:\n",
        "    print('Se rechaza la hipótesis nula (los datos no están distribuidos normalmente)')\n",
        "\n",
        "\n",
        "from scipy.stats import levene\n",
        "\n",
        "# Prueba de Levene\n",
        "stat, p = levene(df2['potenciometro.pre(max)'], df2['potenciometro.post(max)'])\n",
        "print('Estadística de prueba:', stat)\n",
        "print('Valor p:', p)\n",
        "\n",
        "# Interpretación del resultado\n",
        "alpha = 0.05\n",
        "if p > alpha:\n",
        "    print('No se rechaza la hipótesis nula (las varianzas son iguales)')\n",
        "else:\n",
        "    print('Se rechaza la hipótesis nula (las varianzas no son iguales)')"
      ],
      "metadata": {
        "id": "ka4SYlyXQH_L"
      },
      "execution_count": null,
      "outputs": []
    },
    {
      "cell_type": "markdown",
      "source": [
        "#Cuanto mejoró el Rango articular ? "
      ],
      "metadata": {
        "id": "-TmpxuGUaKFr"
      }
    },
    {
      "cell_type": "code",
      "source": [
        "df2[\"Rango_arti(potenciometro.pre)\"] = df2['potenciometro.pre(max)']- df2['potenciometro.pre(min)']\n",
        "df2[\"Rango_arti(potenciometro.post)\"] = df2['potenciometro.post(max)']- df2['potenciometro.post(min)']\n",
        "df2[\"Rango_arti(software.pre)\"] = df2['software.pre(max)']- df2['software.pre(min)']\n",
        "df2[\"Rango_arti(software.post)\"] = df2['software.post(max)']- df2['software.post(min)']\n",
        "\n",
        "df2"
      ],
      "metadata": {
        "id": "tnn61gLlaJ0d"
      },
      "execution_count": null,
      "outputs": []
    },
    {
      "cell_type": "markdown",
      "source": [
        "## Se verifico que no hay homogeneidad de varianza ni normalidad \n",
        "### por tanto se usa la prueba La prueba de Wilcoxon para muestras pareadas"
      ],
      "metadata": {
        "id": "mXR1N7QnT2hl"
      }
    },
    {
      "cell_type": "markdown",
      "source": [
        "## Separo los datos a compara en dataframes mas pequeños"
      ],
      "metadata": {
        "id": "g8UPE0kgdp-M"
      }
    },
    {
      "cell_type": "code",
      "source": [
        "potenciometro_max = df2.iloc[ :,[1,5]]\n",
        "potenciometro_min = df2.iloc[ :,[2,6]]\n",
        "software_max = df2.iloc[ :,[3,7]]\n",
        "software_min = df2.iloc[ :,[4,8]]\n",
        "software_min"
      ],
      "metadata": {
        "id": "xqTxRz7sdpmw"
      },
      "execution_count": null,
      "outputs": []
    },
    {
      "cell_type": "code",
      "source": [
        "df_grande = pd.concat([potenciometro_max, potenciometro_min, software_max, software_min], axis = 1)\n",
        "df_grande"
      ],
      "metadata": {
        "id": "E4ssc5VQNIKd"
      },
      "execution_count": null,
      "outputs": []
    },
    {
      "cell_type": "code",
      "source": [
        "import matplotlib.pyplot as plt\n",
        "fig, axs = plt.subplots(2, 2)\n",
        "\n",
        "axs[0, 0].plot(potenciometro_max['potenciometro.pre(max)'], potenciometro_max['potenciometro.post(max)'])\n",
        "axs[0, 0].set_title('Maximo angulo articular medido con el Potenciometro')\n",
        "\n",
        "# Trazar el segundo DataFrame en la subtrama superior derecha\n",
        "axs[0, 1].plot(potenciometro_min['potenciometro.pre(min)'], potenciometro_min['potenciometro.post(min)'])\n",
        "axs[0, 1].set_title('Minimo angulo articular medido con el Potenciometro')\n",
        "\n",
        "# Trazar el tercer DataFrame en la subtrama inferior izquierda\n",
        "axs[1, 0].plot(software_max['software.pre(max)'], software_max['software.post(max)'])\n",
        "axs[1, 0].set_title('Maximo angulo articular medido con el Software')\n",
        "\n",
        "# Trazar el cuarto DataFrame en la subtrama inferior derecha\n",
        "axs[1, 1].plot(software_min['software.pre(min)'], software_min['software.post(min)'])\n",
        "axs[1, 1].set_title('Minimo angulo articular medido con el Software')\n",
        "\n",
        "# Ajustar el espacio entre las subtramas\n",
        "plt.tight_layout()\n",
        "\n",
        "# Mostrar el gráfico\n",
        "plt.show()"
      ],
      "metadata": {
        "id": "OPibL27xJORr"
      },
      "execution_count": null,
      "outputs": []
    },
    {
      "cell_type": "code",
      "source": [
        "import pandas as pd\n",
        "from scipy.stats import wilcoxon\n",
        "\n",
        "# Cargar los datos en un dataframe de pandas\n",
        "\n",
        "# Aplicar la prueba de Wilcoxon para muestras pareadas\n",
        "w_statistic, p_value = wilcoxon(df2[\"potenciometro.pre(min)\"], df2[\"potenciometro.post(min)\"])\n",
        "\n",
        "# Imprimir los resultados\n",
        "print(\"w-statistic:\", w_statistic)\n",
        "print(\"p-value:\", p_value)\n",
        "\n",
        "# Conclusión\n",
        "if p_value < 0.05:\n",
        "    print(\"Se rechaza la hipótesis nula y se concluye que hay una diferencia significativa entre las dos muestras.\")\n",
        "else:\n",
        "    print(\"No se puede rechazar la hipótesis nula y no se concluye que haya una diferencia significativa entre las dos muestras.\")"
      ],
      "metadata": {
        "id": "jVKkKaKdTvP_"
      },
      "execution_count": null,
      "outputs": []
    },
    {
      "cell_type": "code",
      "source": [
        "potenciometro_min"
      ],
      "metadata": {
        "id": "GFnmdH5fexKF"
      },
      "execution_count": null,
      "outputs": []
    },
    {
      "cell_type": "code",
      "source": [
        "# lista de nombres de los dataframes\n",
        "lista_dataframes = [potenciometro_min, potenciometro_max, software_min, software_max]\n",
        "\n",
        "import pandas as pd\n",
        "import numpy as np\n",
        "from scipy.stats import wilcoxon\n",
        "\n",
        "# Crear lista para almacenar los valores p\n",
        "p_values = []\n",
        "\n",
        "# Iterar sobre los dataframes\n",
        "for datf in lista_dataframes:\n",
        "    # Seleccionar las columnas a comparar\n",
        "    columnas = datf.columns[0:2]\n",
        "    # Realizar la prueba de Wilcoxon en las dos columnas\n",
        "    _, p = wilcoxon(datf.iloc[:,0], datf.iloc[:,1])\n",
        "    print(p)\n",
        "    # Agregar el valor p a la lista\n",
        "    p_values.append(p)\n",
        "\n",
        "# Crear un gráfico de barras para mostrar los valores p\n",
        "import matplotlib.pyplot as plt\n",
        "\n",
        "plt.scatter(np.arange(len(p_values)), p_values)\n",
        "plt.title('Valores p de la prueba de Wilcoxon')\n",
        "plt.xlabel('Grupos de Datos comparados')\n",
        "plt.ylabel('Valor p')\n",
        "plt.text(0, 3.5E-5, '')\n",
        "plt.figure(figsize=(8, 6))\n",
        "plt.show()\n",
        "\n",
        "\n",
        "\n"
      ],
      "metadata": {
        "id": "quuu34ztckCl"
      },
      "execution_count": null,
      "outputs": []
    },
    {
      "cell_type": "code",
      "source": [],
      "metadata": {
        "id": "rIW1w_BjBOc0"
      },
      "execution_count": null,
      "outputs": []
    },
    {
      "cell_type": "markdown",
      "source": [
        "# Ya se que hay diferencias significativas\n",
        "## pero cuanta?"
      ],
      "metadata": {
        "id": "3q2l-McWW7bN"
      }
    },
    {
      "cell_type": "markdown",
      "source": [
        "# Porcentaje de mejora del pot"
      ],
      "metadata": {
        "id": "sFawJhWDmvWs"
      }
    },
    {
      "cell_type": "code",
      "source": [
        "# Calcular diferencia en grados\n",
        "df2['diff_degrees'] = df2['Rango_arti(potenciometro.post)'] - df2['Rango_arti(potenciometro.pre)']\n",
        "\n",
        "# Calcular diferencia porcentual\n",
        "mean_diff = df2['diff_degrees'].mean()\n",
        "df2['diff_percent'] = mean_diff / df2['Rango_arti(potenciometro.post)'] * 100\n",
        "\n",
        "print(df2[\"diff_percent\"].mean())\n"
      ],
      "metadata": {
        "id": "M77xcVuAft4W"
      },
      "execution_count": null,
      "outputs": []
    },
    {
      "cell_type": "markdown",
      "source": [
        "# Porcentaje de mejora de Software"
      ],
      "metadata": {
        "id": "PSNnyYGImyai"
      }
    },
    {
      "cell_type": "code",
      "source": [
        "# Calcular diferencia en grados\n",
        "df2['diff_degrees2'] = df2['Rango_arti(software.post)'] - df2['Rango_arti(software.pre)']\n",
        "\n",
        "# Calcular diferencia porcentual\n",
        "mean_diff = df2['diff_degrees2'].mean()\n",
        "df2['diff_percent2'] = mean_diff / df2['Rango_arti(software.post)'] * 100\n",
        "\n",
        "print(df2[\"diff_percent2\"].mean())\n"
      ],
      "metadata": {
        "id": "k_Vj5MVzmiHk"
      },
      "execution_count": null,
      "outputs": []
    }
  ]
}