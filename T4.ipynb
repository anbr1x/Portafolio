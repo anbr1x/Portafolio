{
 "cells": [
  {
   "cell_type": "code",
   "execution_count": 1,
   "id": "eabe161b-00b1-40c0-a331-0cb7c22c5ba8",
   "metadata": {},
   "outputs": [],
   "source": [
    "import pandas as pd\n",
    "import numpy as np\n",
    "import matplotlib.pyplot as plt\n",
    "import matplotlib.transforms as transforms\n",
    "import seaborn as sns "
   ]
  },
  {
   "cell_type": "markdown",
   "id": "875d6fd3-dd23-492f-999a-d8fce572c506",
   "metadata": {},
   "source": [
    "# Pregunta 1\n",
    "### ¿Cuál de las siguientes alternativas corresponde a la estimación de la cantidad de pacientes con GRD9 que llegarán el día 425 al Hospital Salvador utilizando un método de media móvil sobre los últimos 5 días (días 420 a 424) redondeado al entero superior?  \r\n",
    "\r\n"
   ]
  },
  {
   "cell_type": "code",
   "execution_count": 104,
   "id": "4e1bdd7b-22c4-4964-9f44-6a3ebba88f44",
   "metadata": {},
   "outputs": [
    {
     "data": {
      "text/html": [
       "<div>\n",
       "<style scoped>\n",
       "    .dataframe tbody tr th:only-of-type {\n",
       "        vertical-align: middle;\n",
       "    }\n",
       "\n",
       "    .dataframe tbody tr th {\n",
       "        vertical-align: top;\n",
       "    }\n",
       "\n",
       "    .dataframe thead th {\n",
       "        text-align: right;\n",
       "    }\n",
       "</style>\n",
       "<table border=\"1\" class=\"dataframe\">\n",
       "  <thead>\n",
       "    <tr style=\"text-align: right;\">\n",
       "      <th></th>\n",
       "      <th>Número de llegada</th>\n",
       "      <th>Hospital al que llega</th>\n",
       "      <th>GRD</th>\n",
       "      <th>Día de llegada</th>\n",
       "      <th>Día de salida</th>\n",
       "      <th>Estadia</th>\n",
       "    </tr>\n",
       "  </thead>\n",
       "  <tbody>\n",
       "    <tr>\n",
       "      <th>0</th>\n",
       "      <td>1</td>\n",
       "      <td>Instituto Traumatológico Dr. Teodoro Gebauer</td>\n",
       "      <td>GRD3</td>\n",
       "      <td>1</td>\n",
       "      <td>4</td>\n",
       "      <td>3</td>\n",
       "    </tr>\n",
       "    <tr>\n",
       "      <th>1</th>\n",
       "      <td>2</td>\n",
       "      <td>Hospital Clínico San Borja-Arriarán</td>\n",
       "      <td>GRD7</td>\n",
       "      <td>1</td>\n",
       "      <td>5</td>\n",
       "      <td>4</td>\n",
       "    </tr>\n",
       "    <tr>\n",
       "      <th>2</th>\n",
       "      <td>3</td>\n",
       "      <td>Hospital Dr. Luis Tisné B.</td>\n",
       "      <td>GRD7</td>\n",
       "      <td>1</td>\n",
       "      <td>5</td>\n",
       "      <td>4</td>\n",
       "    </tr>\n",
       "    <tr>\n",
       "      <th>3</th>\n",
       "      <td>4</td>\n",
       "      <td>Hospital Dr. Exequiel González Cortés</td>\n",
       "      <td>GRD10</td>\n",
       "      <td>1</td>\n",
       "      <td>11</td>\n",
       "      <td>10</td>\n",
       "    </tr>\n",
       "    <tr>\n",
       "      <th>4</th>\n",
       "      <td>5</td>\n",
       "      <td>Hospital Barros Luco Trudeau</td>\n",
       "      <td>GRD6</td>\n",
       "      <td>1</td>\n",
       "      <td>6</td>\n",
       "      <td>5</td>\n",
       "    </tr>\n",
       "    <tr>\n",
       "      <th>...</th>\n",
       "      <td>...</td>\n",
       "      <td>...</td>\n",
       "      <td>...</td>\n",
       "      <td>...</td>\n",
       "      <td>...</td>\n",
       "      <td>...</td>\n",
       "    </tr>\n",
       "    <tr>\n",
       "      <th>65529</th>\n",
       "      <td>65530</td>\n",
       "      <td>Hospital Clínico San Borja-Arriarán</td>\n",
       "      <td>GRD2</td>\n",
       "      <td>424</td>\n",
       "      <td>428</td>\n",
       "      <td>4</td>\n",
       "    </tr>\n",
       "    <tr>\n",
       "      <th>65530</th>\n",
       "      <td>65531</td>\n",
       "      <td>Hospital Dr. Exequiel González Cortés</td>\n",
       "      <td>GRD9</td>\n",
       "      <td>424</td>\n",
       "      <td>429</td>\n",
       "      <td>5</td>\n",
       "    </tr>\n",
       "    <tr>\n",
       "      <th>65531</th>\n",
       "      <td>65532</td>\n",
       "      <td>Hospital Del Salvador</td>\n",
       "      <td>GRD10</td>\n",
       "      <td>424</td>\n",
       "      <td>434</td>\n",
       "      <td>10</td>\n",
       "    </tr>\n",
       "    <tr>\n",
       "      <th>65532</th>\n",
       "      <td>65533</td>\n",
       "      <td>Hospital de Enfermedades Infecciosas Dr. Lucio...</td>\n",
       "      <td>GRD3</td>\n",
       "      <td>424</td>\n",
       "      <td>427</td>\n",
       "      <td>3</td>\n",
       "    </tr>\n",
       "    <tr>\n",
       "      <th>65533</th>\n",
       "      <td>65534</td>\n",
       "      <td>Hospital de Urgencia Asistencia Pública Dr. Al...</td>\n",
       "      <td>GRD7</td>\n",
       "      <td>424</td>\n",
       "      <td>428</td>\n",
       "      <td>4</td>\n",
       "    </tr>\n",
       "  </tbody>\n",
       "</table>\n",
       "<p>65534 rows × 6 columns</p>\n",
       "</div>"
      ],
      "text/plain": [
       "       Número de llegada                              Hospital al que llega   \n",
       "0                      1       Instituto Traumatológico Dr. Teodoro Gebauer  \\\n",
       "1                      2                Hospital Clínico San Borja-Arriarán   \n",
       "2                      3                         Hospital Dr. Luis Tisné B.   \n",
       "3                      4              Hospital Dr. Exequiel González Cortés   \n",
       "4                      5                       Hospital Barros Luco Trudeau   \n",
       "...                  ...                                                ...   \n",
       "65529              65530                Hospital Clínico San Borja-Arriarán   \n",
       "65530              65531              Hospital Dr. Exequiel González Cortés   \n",
       "65531              65532                              Hospital Del Salvador   \n",
       "65532              65533  Hospital de Enfermedades Infecciosas Dr. Lucio...   \n",
       "65533              65534  Hospital de Urgencia Asistencia Pública Dr. Al...   \n",
       "\n",
       "         GRD  Día de llegada  Día de salida  Estadia  \n",
       "0       GRD3               1              4        3  \n",
       "1       GRD7               1              5        4  \n",
       "2       GRD7               1              5        4  \n",
       "3      GRD10               1             11       10  \n",
       "4       GRD6               1              6        5  \n",
       "...      ...             ...            ...      ...  \n",
       "65529   GRD2             424            428        4  \n",
       "65530   GRD9             424            429        5  \n",
       "65531  GRD10             424            434       10  \n",
       "65532   GRD3             424            427        3  \n",
       "65533   GRD7             424            428        4  \n",
       "\n",
       "[65534 rows x 6 columns]"
      ]
     },
     "execution_count": 104,
     "metadata": {},
     "output_type": "execute_result"
    }
   ],
   "source": [
    "Info_sheet = pd.read_excel('Datos.xls', sheet_name='Información Histórica') #Datos del dia de llegada\n",
    "Info_sheet"
   ]
  },
  {
   "cell_type": "code",
   "execution_count": 24,
   "id": "00289ac7-3652-4d90-8430-8c63791794cd",
   "metadata": {},
   "outputs": [
    {
     "data": {
      "text/html": [
       "<div>\n",
       "<style scoped>\n",
       "    .dataframe tbody tr th:only-of-type {\n",
       "        vertical-align: middle;\n",
       "    }\n",
       "\n",
       "    .dataframe tbody tr th {\n",
       "        vertical-align: top;\n",
       "    }\n",
       "\n",
       "    .dataframe thead th {\n",
       "        text-align: right;\n",
       "    }\n",
       "</style>\n",
       "<table border=\"1\" class=\"dataframe\">\n",
       "  <thead>\n",
       "    <tr style=\"text-align: right;\">\n",
       "      <th></th>\n",
       "      <th>Número de llegada</th>\n",
       "    </tr>\n",
       "    <tr>\n",
       "      <th>Día de llegada</th>\n",
       "      <th></th>\n",
       "    </tr>\n",
       "  </thead>\n",
       "  <tbody>\n",
       "    <tr>\n",
       "      <th>420</th>\n",
       "      <td>3</td>\n",
       "    </tr>\n",
       "    <tr>\n",
       "      <th>421</th>\n",
       "      <td>2</td>\n",
       "    </tr>\n",
       "    <tr>\n",
       "      <th>422</th>\n",
       "      <td>0</td>\n",
       "    </tr>\n",
       "    <tr>\n",
       "      <th>423</th>\n",
       "      <td>0</td>\n",
       "    </tr>\n",
       "    <tr>\n",
       "      <th>424</th>\n",
       "      <td>0</td>\n",
       "    </tr>\n",
       "  </tbody>\n",
       "</table>\n",
       "</div>"
      ],
      "text/plain": [
       "                Número de llegada\n",
       "Día de llegada                   \n",
       "420                             3\n",
       "421                             2\n",
       "422                             0\n",
       "423                             0\n",
       "424                             0"
      ]
     },
     "execution_count": 24,
     "metadata": {},
     "output_type": "execute_result"
    }
   ],
   "source": [
    "GRD9=Info_sheet.loc[(Info_sheet[\"GRD\"]==\"GRD9\") & (Info_sheet[\"Hospital al que llega\"] == \"Hospital Del Salvador\")]\n",
    "Llegadas_GRD9 = GRD9[[\"Día de llegada\", \"Número de llegada\"]].groupby(\"Día de llegada\", ).count()\n",
    "Llegadas_GRD9.loc[422] = 0\n",
    "Llegadas_GRD9.loc[423] = 0\n",
    "Llegadas_GRD9.loc[424] = 0\n",
    "Llegadas_GRD9.tail(5)"
   ]
  },
  {
   "cell_type": "code",
   "execution_count": 26,
   "id": "272b3ba2-401e-4760-955e-f0eea6bc3601",
   "metadata": {},
   "outputs": [
    {
     "data": {
      "text/plain": [
       "1.0"
      ]
     },
     "execution_count": 26,
     "metadata": {},
     "output_type": "execute_result"
    }
   ],
   "source": [
    "media_movil = Llegadas_GRD9.tail(5)\n",
    "np.round(media_movil.mean()[0],0)"
   ]
  },
  {
   "cell_type": "markdown",
   "id": "863cca39-7e61-4605-a539-26648dae4596",
   "metadata": {},
   "source": [
    "# Pregunta 2\n",
    "### ¿Cuál de las siguientes alternativas corresponde a la estimación de la cantidad de pacientes que llegarán el día 425 al Hospital Salvador utilizando un método de media móvil sobre los últimos 5 días (días 420 a 424) redondeado al entero superior?  \r\n",
    "\r\n"
   ]
  },
  {
   "cell_type": "code",
   "execution_count": 17,
   "id": "70def28f-8ec3-4e03-903c-f36126dbc0ec",
   "metadata": {},
   "outputs": [
    {
     "data": {
      "text/html": [
       "<div>\n",
       "<style scoped>\n",
       "    .dataframe tbody tr th:only-of-type {\n",
       "        vertical-align: middle;\n",
       "    }\n",
       "\n",
       "    .dataframe tbody tr th {\n",
       "        vertical-align: top;\n",
       "    }\n",
       "\n",
       "    .dataframe thead th {\n",
       "        text-align: right;\n",
       "    }\n",
       "</style>\n",
       "<table border=\"1\" class=\"dataframe\">\n",
       "  <thead>\n",
       "    <tr style=\"text-align: right;\">\n",
       "      <th></th>\n",
       "      <th>Número de llegada</th>\n",
       "    </tr>\n",
       "    <tr>\n",
       "      <th>Día de llegada</th>\n",
       "      <th></th>\n",
       "    </tr>\n",
       "  </thead>\n",
       "  <tbody>\n",
       "    <tr>\n",
       "      <th>420</th>\n",
       "      <td>14</td>\n",
       "    </tr>\n",
       "    <tr>\n",
       "      <th>421</th>\n",
       "      <td>12</td>\n",
       "    </tr>\n",
       "    <tr>\n",
       "      <th>422</th>\n",
       "      <td>18</td>\n",
       "    </tr>\n",
       "    <tr>\n",
       "      <th>423</th>\n",
       "      <td>9</td>\n",
       "    </tr>\n",
       "    <tr>\n",
       "      <th>424</th>\n",
       "      <td>6</td>\n",
       "    </tr>\n",
       "  </tbody>\n",
       "</table>\n",
       "</div>"
      ],
      "text/plain": [
       "                Número de llegada\n",
       "Día de llegada                   \n",
       "420                            14\n",
       "421                            12\n",
       "422                            18\n",
       "423                             9\n",
       "424                             6"
      ]
     },
     "execution_count": 17,
     "metadata": {},
     "output_type": "execute_result"
    }
   ],
   "source": [
    "PR2=Info_sheet.loc[(Info_sheet[\"Hospital al que llega\"] == \"Hospital Del Salvador\")]\n",
    "Llegadas_GHDS = GRD9[[\"Día de llegada\", \"Número de llegada\"]].groupby(\"Día de llegada\", ).count()\n",
    "Llegadas_GHDS.tail(5)"
   ]
  },
  {
   "cell_type": "code",
   "execution_count": 18,
   "id": "a243114a-9239-4a26-a319-b8e411e01bf9",
   "metadata": {},
   "outputs": [
    {
     "data": {
      "text/plain": [
       "12.0"
      ]
     },
     "execution_count": 18,
     "metadata": {},
     "output_type": "execute_result"
    }
   ],
   "source": [
    "media_movil = Llegadas_GHDS.tail(5)\n",
    "np.round(media_movil.mean()[0],0)"
   ]
  },
  {
   "cell_type": "markdown",
   "id": "52327270-a9db-4414-9497-e26844472dfc",
   "metadata": {},
   "source": [
    "# Pregunta 3 \n",
    "### ¿Cuál de las siguientes alternativas corresponde a la estimación de la cantidad de pacientes que llegarán el día 425 a la red utilizando un método de media móvil sobre los últimos 5 días (días 420 a 424) redondeado al entero superior?   \r\n",
    "\r\n"
   ]
  },
  {
   "cell_type": "code",
   "execution_count": 19,
   "id": "0ca65e52-fb2b-471b-92ab-ea6e6419bd1d",
   "metadata": {},
   "outputs": [
    {
     "data": {
      "text/html": [
       "<div>\n",
       "<style scoped>\n",
       "    .dataframe tbody tr th:only-of-type {\n",
       "        vertical-align: middle;\n",
       "    }\n",
       "\n",
       "    .dataframe tbody tr th {\n",
       "        vertical-align: top;\n",
       "    }\n",
       "\n",
       "    .dataframe thead th {\n",
       "        text-align: right;\n",
       "    }\n",
       "</style>\n",
       "<table border=\"1\" class=\"dataframe\">\n",
       "  <thead>\n",
       "    <tr style=\"text-align: right;\">\n",
       "      <th></th>\n",
       "      <th>Número de llegada</th>\n",
       "    </tr>\n",
       "    <tr>\n",
       "      <th>Día de llegada</th>\n",
       "      <th></th>\n",
       "    </tr>\n",
       "  </thead>\n",
       "  <tbody>\n",
       "    <tr>\n",
       "      <th>420</th>\n",
       "      <td>183</td>\n",
       "    </tr>\n",
       "    <tr>\n",
       "      <th>421</th>\n",
       "      <td>159</td>\n",
       "    </tr>\n",
       "    <tr>\n",
       "      <th>422</th>\n",
       "      <td>160</td>\n",
       "    </tr>\n",
       "    <tr>\n",
       "      <th>423</th>\n",
       "      <td>159</td>\n",
       "    </tr>\n",
       "    <tr>\n",
       "      <th>424</th>\n",
       "      <td>82</td>\n",
       "    </tr>\n",
       "  </tbody>\n",
       "</table>\n",
       "</div>"
      ],
      "text/plain": [
       "                Número de llegada\n",
       "Día de llegada                   \n",
       "420                           183\n",
       "421                           159\n",
       "422                           160\n",
       "423                           159\n",
       "424                            82"
      ]
     },
     "execution_count": 19,
     "metadata": {},
     "output_type": "execute_result"
    }
   ],
   "source": [
    "Llegadas_Totales = Info_sheet[[\"Día de llegada\", \"Número de llegada\"]].groupby(\"Día de llegada\", ).count()\n",
    "Llegadas_Totales.tail(5)"
   ]
  },
  {
   "cell_type": "code",
   "execution_count": 20,
   "id": "d9d7af43-490f-4c56-972f-f801a19bb8e9",
   "metadata": {},
   "outputs": [
    {
     "data": {
      "text/plain": [
       "149.0"
      ]
     },
     "execution_count": 20,
     "metadata": {},
     "output_type": "execute_result"
    }
   ],
   "source": [
    "media_movil = Llegadas_Totales.tail(5)\n",
    "np.round(media_movil.mean()[0],0)"
   ]
  },
  {
   "cell_type": "markdown",
   "id": "f62ca997-b956-4d91-9735-399fea322bb2",
   "metadata": {},
   "source": [
    "# Pregunta 4\n",
    "### ¿Cuál de las siguientes alternativas corresponde a la estimación de la cantidad de pacientes con GRD9 que llegarán el día 425 al Hospital Salvador utilizando una regresión lineal simple sobre los últimos 5 días (días 420 a 424) redondeado al entero superior?  \r\n",
    "\r\n"
   ]
  },
  {
   "cell_type": "code",
   "execution_count": 32,
   "id": "43fe5dcf-b4e9-4ac0-8a23-49a0671ef510",
   "metadata": {},
   "outputs": [],
   "source": [
    "from sklearn.linear_model import LinearRegression"
   ]
  },
  {
   "cell_type": "code",
   "execution_count": 37,
   "id": "aaf2274a-bbbb-478d-98e6-0176b07598bc",
   "metadata": {},
   "outputs": [
    {
     "data": {
      "text/html": [
       "<div>\n",
       "<style scoped>\n",
       "    .dataframe tbody tr th:only-of-type {\n",
       "        vertical-align: middle;\n",
       "    }\n",
       "\n",
       "    .dataframe tbody tr th {\n",
       "        vertical-align: top;\n",
       "    }\n",
       "\n",
       "    .dataframe thead th {\n",
       "        text-align: right;\n",
       "    }\n",
       "</style>\n",
       "<table border=\"1\" class=\"dataframe\">\n",
       "  <thead>\n",
       "    <tr style=\"text-align: right;\">\n",
       "      <th></th>\n",
       "      <th>Día de llegada</th>\n",
       "      <th>Número de llegada</th>\n",
       "    </tr>\n",
       "  </thead>\n",
       "  <tbody>\n",
       "    <tr>\n",
       "      <th>0</th>\n",
       "      <td>420</td>\n",
       "      <td>3</td>\n",
       "    </tr>\n",
       "    <tr>\n",
       "      <th>1</th>\n",
       "      <td>421</td>\n",
       "      <td>2</td>\n",
       "    </tr>\n",
       "    <tr>\n",
       "      <th>2</th>\n",
       "      <td>422</td>\n",
       "      <td>0</td>\n",
       "    </tr>\n",
       "    <tr>\n",
       "      <th>3</th>\n",
       "      <td>423</td>\n",
       "      <td>0</td>\n",
       "    </tr>\n",
       "    <tr>\n",
       "      <th>4</th>\n",
       "      <td>424</td>\n",
       "      <td>0</td>\n",
       "    </tr>\n",
       "  </tbody>\n",
       "</table>\n",
       "</div>"
      ],
      "text/plain": [
       "   Día de llegada  Número de llegada\n",
       "0             420                  3\n",
       "1             421                  2\n",
       "2             422                  0\n",
       "3             423                  0\n",
       "4             424                  0"
      ]
     },
     "execution_count": 37,
     "metadata": {},
     "output_type": "execute_result"
    }
   ],
   "source": [
    "GRD9=Info_sheet.loc[(Info_sheet[\"GRD\"]==\"GRD9\") & (Info_sheet[\"Hospital al que llega\"] == \"Hospital Del Salvador\")]\n",
    "Llegadas_GRD9 = GRD9[[\"Día de llegada\", \"Número de llegada\"]].groupby(\"Día de llegada\", ).count()\n",
    "Llegadas_GRD9.loc[422] = 0\n",
    "Llegadas_GRD9.loc[423] = 0\n",
    "Llegadas_GRD9.loc[424] = 0\n",
    "Llegadas_GRD9.tail(5)\n",
    "Llegadas_GRD9 = Llegadas_GRD9.tail(5).reset_index()\n",
    "Llegadas_GRD9"
   ]
  },
  {
   "cell_type": "code",
   "execution_count": 38,
   "id": "4d31fbf7-a8f4-462c-80be-42e2944da046",
   "metadata": {},
   "outputs": [
    {
     "name": "stdout",
     "output_type": "stream",
     "text": [
      "Pendiente: -0.7999999999999999, Intercepto: 338.59999999999997\n"
     ]
    }
   ],
   "source": [
    "X = Llegadas_GRD9[[\"Día de llegada\"]]\n",
    "y = Llegadas_GRD9[[\"Número de llegada\"]]\n",
    "regressor = LinearRegression().fit(X, y)\n",
    "print(f\"Pendiente: {regressor.coef_[0][0]}, Intercepto: {regressor.intercept_[0]}\")"
   ]
  },
  {
   "cell_type": "code",
   "execution_count": 39,
   "id": "487cad37-aef0-4a36-8648-8f7589559bdf",
   "metadata": {},
   "outputs": [
    {
     "data": {
      "image/png": "[encoded data removed]",
      "text/plain": [
       "<Figure size 1200x500 with 1 Axes>"
      ]
     },
     "metadata": {},
     "output_type": "display_data"
    }
   ],
   "source": [
    "plt.figure(figsize=(12,5))\n",
    "plt.scatter(X, y, color = 'black')\n",
    "plt.plot(X, regressor.predict(X), color = 'red')\n",
    "plt.title('Día de llegada vs Número de llegadas')\n",
    "plt.xlabel('Día de llegada')\n",
    "plt.ylabel('Número de llegadas')\n",
    "plt.show()"
   ]
  },
  {
   "cell_type": "code",
   "execution_count": 40,
   "id": "7224bdc8-17e9-4481-bf15-1a343cfb656a",
   "metadata": {},
   "outputs": [
    {
     "name": "stdout",
     "output_type": "stream",
     "text": [
      "0.7999999999999943\n"
     ]
    }
   ],
   "source": [
    "print(regressor.score(X, y))"
   ]
  },
  {
   "cell_type": "code",
   "execution_count": 43,
   "id": "85cc050c-88cb-426a-91aa-a4f925ba0ca7",
   "metadata": {},
   "outputs": [
    {
     "name": "stdout",
     "output_type": "stream",
     "text": [
      "Llegadas estimadas para el día 425: -1.0\n"
     ]
    }
   ],
   "source": [
    "prox_llegada = 425*regressor.coef_[0][0]+regressor.intercept_[0]\n",
    "print(f\"Llegadas estimadas para el día 425: {np.round(prox_llegada,0)}\")"
   ]
  },
  {
   "cell_type": "markdown",
   "id": "edf9a720-ed44-4741-9c8d-a1f4d07a8711",
   "metadata": {},
   "source": [
    "### Como no pueden haber llegadas negaticas se concluye que se pronostica 0 llegadas con regresion lineal simple"
   ]
  },
  {
   "cell_type": "markdown",
   "id": "981dd421-93ba-4639-a522-eadfbb559a53",
   "metadata": {},
   "source": [
    "# Pregunta 5 \n",
    "### ¿Cuál de las siguientes alternativas corresponde a la estimación de la cantidad de pacientes que llegarán el día 425 al Hospital Salvador utilizando una regresión lineal simple sobre los últimos 5 días (días 420 a 424) redondeado al entero superior?  \r\n",
    "\r\n"
   ]
  },
  {
   "cell_type": "code",
   "execution_count": 52,
   "id": "4507b73a-606b-489f-b145-291c428d62f3",
   "metadata": {},
   "outputs": [
    {
     "data": {
      "text/html": [
       "<div>\n",
       "<style scoped>\n",
       "    .dataframe tbody tr th:only-of-type {\n",
       "        vertical-align: middle;\n",
       "    }\n",
       "\n",
       "    .dataframe tbody tr th {\n",
       "        vertical-align: top;\n",
       "    }\n",
       "\n",
       "    .dataframe thead th {\n",
       "        text-align: right;\n",
       "    }\n",
       "</style>\n",
       "<table border=\"1\" class=\"dataframe\">\n",
       "  <thead>\n",
       "    <tr style=\"text-align: right;\">\n",
       "      <th></th>\n",
       "      <th>Día de llegada</th>\n",
       "      <th>Número de llegada</th>\n",
       "    </tr>\n",
       "  </thead>\n",
       "  <tbody>\n",
       "    <tr>\n",
       "      <th>0</th>\n",
       "      <td>420</td>\n",
       "      <td>14</td>\n",
       "    </tr>\n",
       "    <tr>\n",
       "      <th>1</th>\n",
       "      <td>421</td>\n",
       "      <td>12</td>\n",
       "    </tr>\n",
       "    <tr>\n",
       "      <th>2</th>\n",
       "      <td>422</td>\n",
       "      <td>18</td>\n",
       "    </tr>\n",
       "    <tr>\n",
       "      <th>3</th>\n",
       "      <td>423</td>\n",
       "      <td>9</td>\n",
       "    </tr>\n",
       "    <tr>\n",
       "      <th>4</th>\n",
       "      <td>424</td>\n",
       "      <td>6</td>\n",
       "    </tr>\n",
       "  </tbody>\n",
       "</table>\n",
       "</div>"
      ],
      "text/plain": [
       "   Día de llegada  Número de llegada\n",
       "0             420                 14\n",
       "1             421                 12\n",
       "2             422                 18\n",
       "3             423                  9\n",
       "4             424                  6"
      ]
     },
     "execution_count": 52,
     "metadata": {},
     "output_type": "execute_result"
    }
   ],
   "source": [
    "PR5=Info_sheet.loc[(Info_sheet[\"Hospital al que llega\"] == \"Hospital Del Salvador\")]\n",
    "Llegadas_GHDS = PR5[[\"Día de llegada\", \"Número de llegada\"]].groupby(\"Día de llegada\", ).count()\n",
    "Llegadas_GHDS = Llegadas_GHDS.tail(5).reset_index()\n",
    "Llegadas_GHDS"
   ]
  },
  {
   "cell_type": "code",
   "execution_count": 53,
   "id": "4c1a01fb-5cb2-4159-8272-6c5253d983e9",
   "metadata": {},
   "outputs": [
    {
     "name": "stdout",
     "output_type": "stream",
     "text": [
      "Pendiente: -1.9000000000000001, Intercepto: 813.6\n"
     ]
    }
   ],
   "source": [
    "X = Llegadas_GHDS[[\"Día de llegada\"]]\n",
    "y = Llegadas_GHDS[[\"Número de llegada\"]]\n",
    "regressor = LinearRegression().fit(X, y)\n",
    "print(f\"Pendiente: {regressor.coef_[0][0]}, Intercepto: {regressor.intercept_[0]}\")"
   ]
  },
  {
   "cell_type": "code",
   "execution_count": 54,
   "id": "9f42e244-056a-46c8-9201-94381ae6146f",
   "metadata": {},
   "outputs": [
    {
     "data": {
      "image/png": "[encoded data removed]",
      "text/plain": [
       "<Figure size 1200x500 with 1 Axes>"
      ]
     },
     "metadata": {},
     "output_type": "display_data"
    }
   ],
   "source": [
    "plt.figure(figsize=(12,5))\n",
    "plt.scatter(X, y, color = 'black')\n",
    "plt.plot(X, regressor.predict(X), color = 'red')\n",
    "plt.title('Día de llegada vs Número de llegadas')\n",
    "plt.xlabel('Día de llegada')\n",
    "plt.ylabel('Número de llegadas')\n",
    "plt.show()"
   ]
  },
  {
   "cell_type": "code",
   "execution_count": 61,
   "id": "97bd3f32-d3a1-41fb-a92b-786e7272bc03",
   "metadata": {},
   "outputs": [
    {
     "name": "stdout",
     "output_type": "stream",
     "text": [
      "Llegadas estimadas para el día 425: 6.0\n"
     ]
    }
   ],
   "source": [
    "prox_llegada = 425*regressor.coef_[0][0]+regressor.intercept_[0]\n",
    "print(f\"Llegadas estimadas para el día 425: {np.round(prox_llegada,0)}\")"
   ]
  },
  {
   "cell_type": "markdown",
   "id": "9aaad8ee-945a-4e7e-b4f0-4b582d848bca",
   "metadata": {},
   "source": [
    "# Pregunta 6 \n",
    "### ¿Cuál de las siguientes alternativas corresponde a la estimación de la cantidad de pacientes que llegarán a la red el día 425 utilizando una regresión lineal simple sobre los últimos 5 días (días 420 a 424) redondeado al entero superior?  \r\n",
    "\r\n"
   ]
  },
  {
   "cell_type": "code",
   "execution_count": 64,
   "id": "9172ccc4-d083-4a47-8f67-5caaac078173",
   "metadata": {},
   "outputs": [
    {
     "data": {
      "text/html": [
       "<div>\n",
       "<style scoped>\n",
       "    .dataframe tbody tr th:only-of-type {\n",
       "        vertical-align: middle;\n",
       "    }\n",
       "\n",
       "    .dataframe tbody tr th {\n",
       "        vertical-align: top;\n",
       "    }\n",
       "\n",
       "    .dataframe thead th {\n",
       "        text-align: right;\n",
       "    }\n",
       "</style>\n",
       "<table border=\"1\" class=\"dataframe\">\n",
       "  <thead>\n",
       "    <tr style=\"text-align: right;\">\n",
       "      <th></th>\n",
       "      <th>Día de llegada</th>\n",
       "      <th>Número de llegada</th>\n",
       "    </tr>\n",
       "  </thead>\n",
       "  <tbody>\n",
       "    <tr>\n",
       "      <th>0</th>\n",
       "      <td>420</td>\n",
       "      <td>183</td>\n",
       "    </tr>\n",
       "    <tr>\n",
       "      <th>1</th>\n",
       "      <td>421</td>\n",
       "      <td>159</td>\n",
       "    </tr>\n",
       "    <tr>\n",
       "      <th>2</th>\n",
       "      <td>422</td>\n",
       "      <td>160</td>\n",
       "    </tr>\n",
       "    <tr>\n",
       "      <th>3</th>\n",
       "      <td>423</td>\n",
       "      <td>159</td>\n",
       "    </tr>\n",
       "    <tr>\n",
       "      <th>4</th>\n",
       "      <td>424</td>\n",
       "      <td>82</td>\n",
       "    </tr>\n",
       "  </tbody>\n",
       "</table>\n",
       "</div>"
      ],
      "text/plain": [
       "   Día de llegada  Número de llegada\n",
       "0             420                183\n",
       "1             421                159\n",
       "2             422                160\n",
       "3             423                159\n",
       "4             424                 82"
      ]
     },
     "execution_count": 64,
     "metadata": {},
     "output_type": "execute_result"
    }
   ],
   "source": [
    "Llegadas_Totales = Info_sheet[[\"Día de llegada\", \"Número de llegada\"]].groupby(\"Día de llegada\", ).count()\n",
    "Llegadas_Totales = Llegadas_Totales.tail(5).reset_index()\n",
    "Llegadas_Totales"
   ]
  },
  {
   "cell_type": "code",
   "execution_count": 66,
   "id": "8333588a-ebc3-4f2f-846d-c643776ff272",
   "metadata": {},
   "outputs": [
    {
     "name": "stdout",
     "output_type": "stream",
     "text": [
      "Pendiente: -20.200000000000003, Intercepto: 8673.000000000002\n"
     ]
    }
   ],
   "source": [
    "X = Llegadas_Totales[[\"Día de llegada\"]]\n",
    "y = Llegadas_Totales[[\"Número de llegada\"]]\n",
    "regressor = LinearRegression().fit(X, y)\n",
    "print(f\"Pendiente: {regressor.coef_[0][0]}, Intercepto: {regressor.intercept_[0]}\")"
   ]
  },
  {
   "cell_type": "code",
   "execution_count": 67,
   "id": "539f2020-aab9-48b5-92f2-0d93f8c66019",
   "metadata": {},
   "outputs": [
    {
     "data": {
      "image/png": "[encoded data removed]",
      "text/plain": [
       "<Figure size 1200x500 with 1 Axes>"
      ]
     },
     "metadata": {},
     "output_type": "display_data"
    }
   ],
   "source": [
    "plt.figure(figsize=(12,5))\n",
    "plt.scatter(X, y, color = 'black')\n",
    "plt.plot(X, regressor.predict(X), color = 'red')\n",
    "plt.title('Día de llegada vs Número de llegadas')\n",
    "plt.xlabel('Día de llegada')\n",
    "plt.ylabel('Número de llegadas')\n",
    "plt.show()"
   ]
  },
  {
   "cell_type": "code",
   "execution_count": 91,
   "id": "0752c476-ce2a-46de-a3c6-956de53d553b",
   "metadata": {},
   "outputs": [
    {
     "name": "stdout",
     "output_type": "stream",
     "text": [
      "Llegadas estimadas para el día 425: 108.0\n"
     ]
    }
   ],
   "source": [
    "prox_llegada = 424*regressor.coef_[0][0]+regressor.intercept_[0]\n",
    "print(f\"Llegadas estimadas para el día 425: {np.round(prox_llegada,0)}\")\n"
   ]
  },
  {
   "cell_type": "code",
   "execution_count": 93,
   "id": "e6441349-9a39-4bd9-8986-6b94e15de047",
   "metadata": {},
   "outputs": [
    {
     "name": "stdout",
     "output_type": "stream",
     "text": [
      "[20]\n",
      "[20.]\n",
      "0.7989292088042832\n",
      "Coeficiente de determinación (R2): 0.7989292088042832\n"
     ]
    }
   ],
   "source": []
  },
  {
   "cell_type": "markdown",
   "id": "dc5732f8-52ec-4ac6-bb28-ef56e6b4b1c1",
   "metadata": {},
   "source": [
    "# Pregunta 7 \n",
    "### ¿Cuál de las siguientes alternativas corresponde al valor del coeficiente R2 de una estimación de la cantidad de pacientes que llegarán a la red el día 425 utilizando una regresión lineal simple sobre los últimos 5 días (días 420 a 424) redondeado al entero superior?  \r\n",
    "\r\n"
   ]
  },
  {
   "cell_type": "code",
   "execution_count": 94,
   "id": "a20ea1bc-b886-47f0-a1a4-1bccb13f7ea3",
   "metadata": {},
   "outputs": [
    {
     "name": "stdout",
     "output_type": "stream",
     "text": [
      "0.7989292088042832\n",
      "Coeficiente de determinación (R2): 0.7989292088042832\n"
     ]
    }
   ],
   "source": [
    "\n",
    "# Calcular el coeficiente de determinación (R2)\n",
    "r2 = r2_score([82,0], [108,0])\n",
    "print(r2)\n",
    "print(\"Coeficiente de determinación (R2):\", r2)\n"
   ]
  },
  {
   "cell_type": "markdown",
   "id": "3312d715-222e-4a5e-81dd-fe2cad2b2ff1",
   "metadata": {},
   "source": [
    "# Pregunta 8\n",
    "### Usted realizó una estimación sobre el total de pacientes que llegarán a la red los días 420 a 424, siendo esta predicción: 156, 123, 178, 200 y 155, para los días 420 a 424 respectivamente. ¿Cuál de las siguientes alternativas corresponde al error total de esta estimación?  \r\n",
    "\r\n"
   ]
  },
  {
   "cell_type": "code",
   "execution_count": 99,
   "id": "de1fd78a-7ffa-4496-8011-a13f1966967e",
   "metadata": {},
   "outputs": [
    {
     "data": {
      "text/html": [
       "<div>\n",
       "<style scoped>\n",
       "    .dataframe tbody tr th:only-of-type {\n",
       "        vertical-align: middle;\n",
       "    }\n",
       "\n",
       "    .dataframe tbody tr th {\n",
       "        vertical-align: top;\n",
       "    }\n",
       "\n",
       "    .dataframe thead th {\n",
       "        text-align: right;\n",
       "    }\n",
       "</style>\n",
       "<table border=\"1\" class=\"dataframe\">\n",
       "  <thead>\n",
       "    <tr style=\"text-align: right;\">\n",
       "      <th></th>\n",
       "      <th>Día</th>\n",
       "      <th>Llegadas</th>\n",
       "      <th>Regresión</th>\n",
       "      <th>Error</th>\n",
       "    </tr>\n",
       "  </thead>\n",
       "  <tbody>\n",
       "    <tr>\n",
       "      <th>0</th>\n",
       "      <td>420</td>\n",
       "      <td>183</td>\n",
       "      <td>156</td>\n",
       "      <td>27</td>\n",
       "    </tr>\n",
       "    <tr>\n",
       "      <th>1</th>\n",
       "      <td>421</td>\n",
       "      <td>159</td>\n",
       "      <td>123</td>\n",
       "      <td>36</td>\n",
       "    </tr>\n",
       "    <tr>\n",
       "      <th>2</th>\n",
       "      <td>422</td>\n",
       "      <td>160</td>\n",
       "      <td>178</td>\n",
       "      <td>-18</td>\n",
       "    </tr>\n",
       "    <tr>\n",
       "      <th>3</th>\n",
       "      <td>423</td>\n",
       "      <td>159</td>\n",
       "      <td>200</td>\n",
       "      <td>-41</td>\n",
       "    </tr>\n",
       "    <tr>\n",
       "      <th>4</th>\n",
       "      <td>424</td>\n",
       "      <td>82</td>\n",
       "      <td>155</td>\n",
       "      <td>-73</td>\n",
       "    </tr>\n",
       "  </tbody>\n",
       "</table>\n",
       "</div>"
      ],
      "text/plain": [
       "   Día  Llegadas  Regresión  Error\n",
       "0  420       183        156     27\n",
       "1  421       159        123     36\n",
       "2  422       160        178    -18\n",
       "3  423       159        200    -41\n",
       "4  424        82        155    -73"
      ]
     },
     "execution_count": 99,
     "metadata": {},
     "output_type": "execute_result"
    }
   ],
   "source": [
    "Llegadas_Totales8 = Llegadas_Totales.tail(5)\n",
    "Llegadas_Totales8 = Llegadas_Totales8.rename(columns={\"Día de llegada\": \"Día\", \"Número de llegada\": \"Llegadas\"})\n",
    "Llegadas_Totales8[\"Regresión\"] = [156, 123, 178, 200 ,155]\n",
    "Llegadas_Totales8[\"Error\"] = Llegadas_Totales8.apply(lambda row: row.Llegadas-row.Regresión, axis = 1)\n",
    "Llegadas_Totales8"
   ]
  },
  {
   "cell_type": "code",
   "execution_count": 101,
   "id": "8ae102db-d8f5-471a-b352-e2c89a9202b3",
   "metadata": {},
   "outputs": [
    {
     "data": {
      "text/plain": [
       "-69"
      ]
     },
     "execution_count": 101,
     "metadata": {},
     "output_type": "execute_result"
    }
   ],
   "source": [
    "Llegadas_Totales8[\"Error\"].sum()"
   ]
  },
  {
   "cell_type": "markdown",
   "id": "32be3ff7-e51d-435e-9531-76276cb75c96",
   "metadata": {},
   "source": [
    "# Pregunta 9\n",
    "### Los valores del intercepto y la pendiente de un modelo de regresión lineal para predecir la cantidad de pacientes que llegarán un día cualquiera al Hospital San José son 60 y 10 respectivamente. La variable independiente de esta regresión corresponde a las llegadas del hace 7 días. \r",
    "### \r\n",
    "¿Cuál de las siguientes alternativas corresponde a la estimación de esta regresión para los días 422, 423 y 424?"
   ]
  },
  {
   "cell_type": "code",
   "execution_count": 108,
   "id": "799fa956-be5c-493f-8f92-dfcae4a624ca",
   "metadata": {},
   "outputs": [
    {
     "data": {
      "text/html": [
       "<div>\n",
       "<style scoped>\n",
       "    .dataframe tbody tr th:only-of-type {\n",
       "        vertical-align: middle;\n",
       "    }\n",
       "\n",
       "    .dataframe tbody tr th {\n",
       "        vertical-align: top;\n",
       "    }\n",
       "\n",
       "    .dataframe thead th {\n",
       "        text-align: right;\n",
       "    }\n",
       "</style>\n",
       "<table border=\"1\" class=\"dataframe\">\n",
       "  <thead>\n",
       "    <tr style=\"text-align: right;\">\n",
       "      <th></th>\n",
       "      <th>Día de llegada</th>\n",
       "      <th>Número de llegada</th>\n",
       "    </tr>\n",
       "  </thead>\n",
       "  <tbody>\n",
       "    <tr>\n",
       "      <th>0</th>\n",
       "      <td>420</td>\n",
       "      <td>183</td>\n",
       "    </tr>\n",
       "    <tr>\n",
       "      <th>1</th>\n",
       "      <td>421</td>\n",
       "      <td>159</td>\n",
       "    </tr>\n",
       "    <tr>\n",
       "      <th>2</th>\n",
       "      <td>422</td>\n",
       "      <td>160</td>\n",
       "    </tr>\n",
       "    <tr>\n",
       "      <th>3</th>\n",
       "      <td>423</td>\n",
       "      <td>159</td>\n",
       "    </tr>\n",
       "    <tr>\n",
       "      <th>4</th>\n",
       "      <td>424</td>\n",
       "      <td>82</td>\n",
       "    </tr>\n",
       "  </tbody>\n",
       "</table>\n",
       "</div>"
      ],
      "text/plain": [
       "   Día de llegada  Número de llegada\n",
       "0             420                183\n",
       "1             421                159\n",
       "2             422                160\n",
       "3             423                159\n",
       "4             424                 82"
      ]
     },
     "execution_count": 108,
     "metadata": {},
     "output_type": "execute_result"
    }
   ],
   "source": [
    "PR9=Info_sheet.loc[(Info_sheet[\"Hospital al que llega\"] == \"Complejo Hospitalario San José\")]\n",
    "Llegadas_GHDS = Info_sheet[[\"Día de llegada\", \"Número de llegada\"]].groupby(\"Día de llegada\", ).count()\n",
    "Llegadas_SJ = Llegadas_GHDS.tail(5).reset_index()\n",
    "Llegadas_SJ"
   ]
  },
  {
   "cell_type": "code",
   "execution_count": 112,
   "id": "f551270f-37b5-4bae-925f-250e23cc7d5e",
   "metadata": {},
   "outputs": [
    {
     "name": "stdout",
     "output_type": "stream",
     "text": [
      "Llegadas estimadas para el día 425: 880\n"
     ]
    }
   ],
   "source": [
    "prox_llegada8 = 82*10+60\n",
    "print(f\"Llegadas estimadas para el día 425: {np.round(prox_llegada8,0)}\")\n"
   ]
  }
 ],
 "metadata": {
  "kernelspec": {
   "display_name": "Python 3 (ipykernel)",
   "language": "python",
   "name": "python3"
  },
  "language_info": {
   "codemirror_mode": {
    "name": "ipython",
    "version": 3
   },
   "file_extension": ".py",
   "mimetype": "text/x-python",
   "name": "python",
   "nbconvert_exporter": "python",
   "pygments_lexer": "ipython3",
   "version": "3.11.0"
  }
 },
 "nbformat": 4,
 "nbformat_minor": 5
}
